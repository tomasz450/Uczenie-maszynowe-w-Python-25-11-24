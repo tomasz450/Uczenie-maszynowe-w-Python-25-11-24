{
 "cells": [
  {
   "cell_type": "markdown",
   "metadata": {},
   "source": [
    "Proces biznesowy, który będziemy analizować, pochodzi z sektora finansowego.**Dotyczy on podejmowania decyzji w sprawie akceptacji lub odrzucenia wniosku o wydanie karty kredytowej**. Sytuacja jest więc relatywnie prosta: potencjalny klient przychodzi do oddziału banku i składa wniosek. W oparciu o zestaw dostępnych cech ekspert (bądź system ekspercki) podejmuje decyzję, czy wydać kartę, czy też nie."
   ]
  },
  {
   "cell_type": "markdown",
   "metadata": {},
   "source": [
    "# Opis zbioru danych"
   ]
  },
  {
   "cell_type": "markdown",
   "metadata": {},
   "source": [
    "Zbiór, który użyję, jest dostępny pod tym linkiem(http://archive.ics.uci.edu/ml/datasets/credit+approval). Zawiera on dane dotyczące 690 wniosków o wydanie karty kredytowej, wraz z decyzją: czy wniosek został zaakceptowany, czy też nie. Są to rzeczywiste dane, w których znajduje się łącznie 16 zmiennych. 15 z nich to **zmiennej objaśniające** (nazwane od A1 do A15). Są one cechami opisującymi osobę składającą wniosek, oraz (prawdopodobnie) danymi behawioralnymi (opisujące np. historią prowadzenia konta, wcześniejsze spłaty zobowiązań wobec banku, etc.).\n",
    "\n",
    "Pewnie się zastanawiacie, jak chcę interpretować proces decyzyjny, skoro nie mam nazw zmiennych. Na potrzeby projektu przyjmę ich sztuczną interpretację, którą zaczerpnąłem z tej strony. Nazwy zmiennych zamieniam tak, by przypominały nazwy, z którymi można spotkać się w bankowości.\n",
    "\n",
    "Jedną zmienną, którą zmieniłem w stosunku do tego, co jest widoczne na stronie, jest „ZipCode”, który u mnie będzie saldem konta. Zmienna przyjmuje 170 unikalnych wartości, z czego aż 132 wynoszą 0. Dodatkowo wykonałem analizę zależności zmiennej ze zmienną celu i uznałem, że „Saldo_konta” będzie tu bardziej pasować.\n",
    "\n",
    "Po zamianie nazwy zmiennych, wraz z ich typami wyglądają następująco:\n",
    "\n",
    "- Płeć – binarna,\n",
    "- Wiek – ciągła,\n",
    "- Zadłużenie – ciągła,\n",
    "- Stan_cywilny – nominalna,\n",
    "- Bank – nominalna,\n",
    "- Wykształcenie – nominalna,\n",
    "- Pochodzenie – nominalna,\n",
    "- Lata_pracy – ciągła,\n",
    "- Poz_hist_kred – binarna,\n",
    "- Umowa_o_pracę – binarna,\n",
    "- Score_kredytowy – ciągła,\n",
    "- Prawo_jazdy – binarna,\n",
    "- Obywatelstwo – nominalna,\n",
    "- Saldo_konta – ciągła,\n",
    "- Przychody – ciągła,\n",
    "- Wynik – binarna.\n"
   ]
  },
  {
   "cell_type": "markdown",
   "metadata": {},
   "source": [
    "Kilka założeń (które możecie dostać od biznesowego biura dla którego realizujecie projekt):\n",
    "\n",
    "- Jako, że problem dotyczy sektora finansowego, do rozwiązania problemu użyjemy w pełni interpretowalnego algorytmu – drzewa decyzyjnego w wersji CART, z biblioteki Python sklearn.\n",
    "\n",
    "- Interpretowalność odnosi się nie tylko do samego algorytmu, ale również do jego parametrów. Parametry algorytmu nie mogą utrudniać jego interpretacji. Drzewo nie powinno być zbyt głębokie.\n",
    "\n",
    "- W interpretacji może przeszkodzić również zbyt duża liczba użytych zmiennych. Analiza głębokiego drzewa z kilkudziesięcioma zmiennymi może przypominać proces szukania z lupą najkrótszej drogi na mapie o dużej skali.\n",
    "\n",
    "- Dane powinny być przetwarzane w taki sposób, aby możliwie jak najmniej przeszkadzało to w interpretacji osiągniętych wyników. Nie będziemy zatem wykonywać skomplikowanych transformacji zmiennych.\n",
    "\n",
    "- Jakość modelu będziemy badać za pomocą dokładności predykcji (ang. Accuracy)."
   ]
  },
  {
   "cell_type": "markdown",
   "metadata": {},
   "source": [
    "# Cel case study \n",
    "\n",
    "**Celem jakościowym jest osiągnięcie dokładności na poziomie 80% – 90%**"
   ]
  },
  {
   "cell_type": "markdown",
   "metadata": {},
   "source": [
    "## Wczytanie danych i niezbędnych bibliotek"
   ]
  },
  {
   "cell_type": "code",
   "execution_count": null,
   "metadata": {},
   "outputs": [],
   "source": []
  },
  {
   "cell_type": "markdown",
   "metadata": {},
   "source": [
    "## Przygotowanie danych do analizy"
   ]
  },
  {
   "cell_type": "markdown",
   "metadata": {},
   "source": [
    "W tym kroku przyjrzymy się danym, zbadam ich ogólną strukturę (typy zmiennych, braki i ich liczbę). Zaczynam od analizy braków."
   ]
  },
  {
   "cell_type": "code",
   "execution_count": null,
   "metadata": {},
   "outputs": [],
   "source": []
  },
  {
   "cell_type": "markdown",
   "metadata": {},
   "source": [
    "# Eksploracyjna analiza danych"
   ]
  },
  {
   "cell_type": "markdown",
   "metadata": {},
   "source": [
    "W ramach EDA wykonamy dwie podstawowe czynności: weryfikację podstawowych statystyk dotyczących zmiennych numerycznych, weryfikację statystyk dotyczących połączonego zbioru zmiennych: kategorycznych i binarnych. Dla tych ostatnich zbadamy zależność ze zmienną celu poprzez zbudowanie tablicy liczebności (crosstab: badana zmienna vs zmienna celu). Crosstab da nam ogólne spojrzenie na moc predykcyjną danej zmiennej.\n",
    "\n",
    "Uważam, że warto w tym miejscu zaznaczyć, że celowo pominiemy **analizę korelacji** zależności pomiędzy pozostałymi zmiennymi. **Współliniowość** w drzewie decyzyjnym nam nie zagraża. Podobnie w sposób świadomy pominiemy analizę **odstających wartości**. Przyczyna jest prosta: algorytm drzewa decyzyjnego nie jest wrażliwy na outliery. W przypadku zmiennych numerycznych podział węzłów w drzewie decyzyjnym jest wykonywany na podstawie proporcji obserwacji w zbiorze, a nie na podstawie zakresu wartości.\n",
    "\n",
    "Już wiecie dlaczego tak lubię drzewa decyzyjne ;)"
   ]
  },
  {
   "cell_type": "markdown",
   "metadata": {},
   "source": [
    "#### Zmienne numeryczne"
   ]
  },
  {
   "cell_type": "code",
   "execution_count": null,
   "metadata": {},
   "outputs": [],
   "source": []
  },
  {
   "cell_type": "markdown",
   "metadata": {},
   "source": [
    "#### Zmienne kategoryczne i binarne"
   ]
  },
  {
   "cell_type": "code",
   "execution_count": null,
   "metadata": {},
   "outputs": [],
   "source": []
  },
  {
   "cell_type": "markdown",
   "metadata": {},
   "source": [
    "# Przygotowanie danych do modelowania"
   ]
  },
  {
   "cell_type": "code",
   "execution_count": null,
   "metadata": {},
   "outputs": [],
   "source": []
  },
  {
   "cell_type": "markdown",
   "metadata": {},
   "source": [
    "#### Podział zbioru\n",
    "\n",
    "- Zbiór treningowy – na nim wykonamy walidację krzyżową. Celem sprawdzianu krzyżowego będzie dobór parametrów algorytmu i zmiennych użytych w modelu.\n",
    "- Zbiór testowy – finalny sprawdzian dla zbudowanego modelu. Sprawdzimy jak zbudowany algorytm radzi sobie z danymi, których nigdy wcześniej nie widział.\n",
    "\n",
    "Podział:\n",
    "\n",
    "- 80% – zbiór treningowy i jednocześnie walidacyjny,\n",
    "- 20% – zbiór testowy."
   ]
  },
  {
   "cell_type": "markdown",
   "metadata": {},
   "source": [
    "# Wizualizacja i interpretacja wyników"
   ]
  },
  {
   "cell_type": "code",
   "execution_count": null,
   "metadata": {},
   "outputs": [],
   "source": []
  }
 ],
 "metadata": {
  "kernelspec": {
   "display_name": "Python 3 (ipykernel)",
   "language": "python",
   "name": "python3"
  },
  "language_info": {
   "codemirror_mode": {
    "name": "ipython",
    "version": 3
   },
   "file_extension": ".py",
   "mimetype": "text/x-python",
   "name": "python",
   "nbconvert_exporter": "python",
   "pygments_lexer": "ipython3",
   "version": "3.9.13"
  }
 },
 "nbformat": 4,
 "nbformat_minor": 2
}
