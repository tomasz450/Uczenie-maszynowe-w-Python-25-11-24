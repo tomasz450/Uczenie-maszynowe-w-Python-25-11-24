{
 "cells": [
  {
   "cell_type": "markdown",
   "metadata": {},
   "source": [
    "Proces biznesowy, który będę analizować, pochodzi z sektora finansowego.**Dotyczy on podejmowania decyzji w sprawie akceptacji lub odrzucenia wniosku o wydanie karty kredytowej**. Sytuacja jest więc relatywnie prosta: potencjalny klient przychodzi do oddziału banku i składa wniosek. W oparciu o zestaw dostępnych cech ekspert (bądź system ekspercki) podejmuje decyzję, czy wydać kartę, czy też nie."
   ]
  },
  {
   "cell_type": "markdown",
   "metadata": {},
   "source": [
    "# Opis zbioru danych"
   ]
  },
  {
   "cell_type": "markdown",
   "metadata": {},
   "source": [
    "Zbiór, który użyję, jest dostępny pod tym linkiem(http://archive.ics.uci.edu/ml/datasets/credit+approval). Zawiera on dane dotyczące 690 wniosków o wydanie karty kredytowej, wraz z decyzją: czy wniosek został zaakceptowany, czy też nie. Są to rzeczywiste dane, w których znajduje się łącznie 16 zmiennych. 15 z nich to **zmiennej objaśniające** (nazwane od A1 do A15). Są one cechami opisującymi osobę składającą wniosek, oraz (prawdopodobnie) danymi behawioralnymi (opisujące np. historią prowadzenia konta, wcześniejsze spłaty zobowiązań wobec banku, etc.).\n",
    "\n",
    "Pewnie się zastanawiasz, jak chcę interpretować proces decyzyjny, skoro nie mam nazw zmiennych. Na potrzeby projektu przyjmę ich sztuczną interpretację, którą zaczerpnąłem z tej strony. Nazwy zmiennych zamieniam tak, by przypominały nazwy, z którymi można spotkać się w bankowości. Mam nadzieję, że wybaczysz mi ten zabieg. \n",
    "\n",
    "Jedną zmienną, którą zmieniłem w stosunku do tego, co jest widoczne na stronie, jest „ZipCode”, który u mnie będzie saldem konta. Zmienna przyjmuje 170 unikalnych wartości, z czego aż 132 wynoszą 0. Dodatkowo wykonałem analizę zależności zmiennej ze zmienną celu i uznałem, że „Saldo_konta” będzie tu bardziej pasować.\n",
    "\n",
    "Po zamianie nazwy zmiennych, wraz z ich typami wyglądają następująco:\n",
    "\n",
    "- Płeć – binarna,\n",
    "- Wiek – ciągła,\n",
    "- Zadłużenie – ciągła,\n",
    "- Stan_cywilny – nominalna,\n",
    "- Bank – nominalna,\n",
    "- Wykształcenie – nominalna,\n",
    "- Pochodzenie – nominalna,\n",
    "- Lata_pracy – ciągła,\n",
    "- Poz_hist_kred – binarna,\n",
    "- Umowa_o_pracę – binarna,\n",
    "- Score_kredytowy – ciągła,\n",
    "- Prawo_jazdy – binarna,\n",
    "- Obywatelstwo – nominalna,\n",
    "- Saldo_konta – ciągła,\n",
    "- Przychody – ciągła,\n",
    "- Wynik – binarna.\n",
    "\n"
   ]
  },
  {
   "cell_type": "markdown",
   "metadata": {},
   "source": [
    "Przed przystąpieniem do prac nam zbiorem muszę wymienić kilka założeń, które przyjąłem:\n",
    "\n",
    "- Jako, że problem dotyczy sektora finansowego, do rozwiązania problemu użyję w pełni interpretowalnego algorytmu – drzewa decyzyjnego w wersji CART, z biblioteki Python sklearn.\n",
    "\n",
    "- Interpretowalność odnosi się nie tylko do samego algorytmu, ale również do jego parametrów. Parametry algorytmu nie mogą utrudniać jego interpretacji. Drzewo nie powinno być zbyt głębokie.\n",
    "\n",
    "- W interpretacji może przeszkodzić również zbyt duża liczba użytych zmiennych. Analiza głębokiego drzewa z kilkudziesięcioma zmiennymi może przypominać proces szukania z lupą najkrótszej drogi na mapie o dużej skali. W finalnym modelu powinno się znaleźć maksymalnie 10 – 15 zmiennych.\n",
    "\n",
    "- Dane powinny być przetwarzane w taki sposób, aby możliwie jak najmniej przeszkadzało to w interpretacji osiągniętych wyników. Nie będę zatem wykonywać skomplikowanych transformacji zmiennych.\n",
    "\n",
    "- Jakość modelu będę badał za pomocą dokładności predykcji (ang. Accuracy)."
   ]
  },
  {
   "cell_type": "markdown",
   "metadata": {},
   "source": [
    "# Cel projektu \n",
    "Celem ogólnym projektu jest w jak najwyższym stopniu odwzorować proces decyzyjny odpowiadający za akceptację lub odrzucenie wniosku o wydanie karty kredytowej. Celem szczegółowym jest zbudowanie zestawu interpretowalnych reguł, które mogłoby automatyzować proces podejmowania decyzji biznesowej. W skrócie: będę starać się jak najlepiej odwzorowanie proces decyzyjny eksperta.\n",
    "\n",
    "**Celem jakościowym jest osiągnięcie dokładności na poziomie 80% – 90%, przy zachowaniu odpowiedniej stabilności modelu**. Tę ostatnią będę badać podczas walidacji krzyżowej modelu. Będzie ona wyrażona w procentach i obliczana z pomocą wzoru: \n",
    "    - (odchylenie standardowe wyników Accuracy/średnia Accuracy) * 100."
   ]
  },
  {
   "cell_type": "markdown",
   "metadata": {},
   "source": [
    "## Wczytanie danych i niezbędnych bibliotek"
   ]
  },
  {
   "cell_type": "code",
   "execution_count": 274,
   "metadata": {},
   "outputs": [],
   "source": [
    "# Podstawowe biblioteki\n",
    "import pandas as pd\n",
    "import numpy as np\n",
    "# Podział zbioru, dobór parametrów modelu\n",
    "from sklearn.model_selection import train_test_split, GridSearchCV\n",
    "# Dobór zmiennych\n",
    "from sklearn.feature_selection import RFE\n",
    "# Walidacja zbioru\n",
    "from sklearn.model_selection import cross_val_score\n",
    "# Algorytm drzewa decyzyjnego\n",
    "from sklearn.tree import DecisionTreeClassifier\n",
    "# Badanie jakości modelu\n",
    "from sklearn.metrics import accuracy_score\n",
    "# Wizualizacja drzewa\n",
    "from sklearn import tree\n",
    "import graphviz"
   ]
  },
  {
   "cell_type": "markdown",
   "metadata": {},
   "source": [
    "Zmiana precyzji wyświetlania liczb zmiennoprzecinkowych. Zamiast każdorazowo zaokrąglać, wystarczy jedna linijka kodu, dzięki której liczby będą wyświetlane w Pandas z precyzją do trzech miejsc po przecinku. Proste, a potrafi zaoszczędzić sporo czasu. "
   ]
  },
  {
   "cell_type": "code",
   "execution_count": 275,
   "metadata": {},
   "outputs": [],
   "source": [
    "pd.set_option('float_format', '{:.3f}'.format) "
   ]
  },
  {
   "cell_type": "markdown",
   "metadata": {},
   "source": [
    "Wczytuję teraz zbiór z pliku csv. To, co robię dodatkowo przy wczytywaniu, to parametrami wskazuję Pandas-owi:\n",
    "- brak nagłówka w zbiorze,\n",
    "- nazwy poszczególnych zmiennych,\n",
    "- typy niektórych zmiennych,\n",
    "- znak za pomocą którego oznaczone są braki w danych."
   ]
  },
  {
   "cell_type": "code",
   "execution_count": 276,
   "metadata": {},
   "outputs": [],
   "source": [
    "df = pd.read_csv('crx.data', \n",
    "                 header=None, \n",
    "                 names=['Płeć','Wiek','Zadłużenie','Stan_cywilny','Bank','Wykształcenie','Pochodzenie','Lata_pracy',\n",
    "                        'Poz_hist_kred','Umowa_o_pracę','Score_kredytowy','Prawo_jazdy','Obywatelstwo','Saldo_konta',\n",
    "                        'Przychody','Wynik'], \n",
    "                 decimal='.', \n",
    "                 na_values='?', \n",
    "                 dtype = {'Płeć':'category','Stan_cywilny':'category','Bank':'category','Wykształcenie':'category',\n",
    "                          'Pochodzenie':'category','Poz_hist_kred':'category','Umowa_o_pracę':'category',\n",
    "                          'Prawo_jazy':'category','Obywatelstwo':'category','Wynik':'category'})"
   ]
  },
  {
   "cell_type": "code",
   "execution_count": 277,
   "metadata": {},
   "outputs": [
    {
     "data": {
      "text/html": [
       "<div>\n",
       "<style scoped>\n",
       "    .dataframe tbody tr th:only-of-type {\n",
       "        vertical-align: middle;\n",
       "    }\n",
       "\n",
       "    .dataframe tbody tr th {\n",
       "        vertical-align: top;\n",
       "    }\n",
       "\n",
       "    .dataframe thead th {\n",
       "        text-align: right;\n",
       "    }\n",
       "</style>\n",
       "<table border=\"1\" class=\"dataframe\">\n",
       "  <thead>\n",
       "    <tr style=\"text-align: right;\">\n",
       "      <th></th>\n",
       "      <th>Płeć</th>\n",
       "      <th>Wiek</th>\n",
       "      <th>Zadłużenie</th>\n",
       "      <th>Stan_cywilny</th>\n",
       "      <th>Bank</th>\n",
       "      <th>Wykształcenie</th>\n",
       "      <th>Pochodzenie</th>\n",
       "      <th>Lata_pracy</th>\n",
       "      <th>Poz_hist_kred</th>\n",
       "      <th>Umowa_o_pracę</th>\n",
       "      <th>Score_kredytowy</th>\n",
       "      <th>Prawo_jazdy</th>\n",
       "      <th>Obywatelstwo</th>\n",
       "      <th>Saldo_konta</th>\n",
       "      <th>Przychody</th>\n",
       "      <th>Wynik</th>\n",
       "    </tr>\n",
       "  </thead>\n",
       "  <tbody>\n",
       "    <tr>\n",
       "      <th>0</th>\n",
       "      <td>b</td>\n",
       "      <td>30.830</td>\n",
       "      <td>0.000</td>\n",
       "      <td>u</td>\n",
       "      <td>g</td>\n",
       "      <td>w</td>\n",
       "      <td>v</td>\n",
       "      <td>1.250</td>\n",
       "      <td>t</td>\n",
       "      <td>t</td>\n",
       "      <td>1</td>\n",
       "      <td>f</td>\n",
       "      <td>g</td>\n",
       "      <td>202.000</td>\n",
       "      <td>0</td>\n",
       "      <td>+</td>\n",
       "    </tr>\n",
       "    <tr>\n",
       "      <th>1</th>\n",
       "      <td>a</td>\n",
       "      <td>58.670</td>\n",
       "      <td>4.460</td>\n",
       "      <td>u</td>\n",
       "      <td>g</td>\n",
       "      <td>q</td>\n",
       "      <td>h</td>\n",
       "      <td>3.040</td>\n",
       "      <td>t</td>\n",
       "      <td>t</td>\n",
       "      <td>6</td>\n",
       "      <td>f</td>\n",
       "      <td>g</td>\n",
       "      <td>43.000</td>\n",
       "      <td>560</td>\n",
       "      <td>+</td>\n",
       "    </tr>\n",
       "    <tr>\n",
       "      <th>2</th>\n",
       "      <td>a</td>\n",
       "      <td>24.500</td>\n",
       "      <td>0.500</td>\n",
       "      <td>u</td>\n",
       "      <td>g</td>\n",
       "      <td>q</td>\n",
       "      <td>h</td>\n",
       "      <td>1.500</td>\n",
       "      <td>t</td>\n",
       "      <td>f</td>\n",
       "      <td>0</td>\n",
       "      <td>f</td>\n",
       "      <td>g</td>\n",
       "      <td>280.000</td>\n",
       "      <td>824</td>\n",
       "      <td>+</td>\n",
       "    </tr>\n",
       "    <tr>\n",
       "      <th>3</th>\n",
       "      <td>b</td>\n",
       "      <td>27.830</td>\n",
       "      <td>1.540</td>\n",
       "      <td>u</td>\n",
       "      <td>g</td>\n",
       "      <td>w</td>\n",
       "      <td>v</td>\n",
       "      <td>3.750</td>\n",
       "      <td>t</td>\n",
       "      <td>t</td>\n",
       "      <td>5</td>\n",
       "      <td>t</td>\n",
       "      <td>g</td>\n",
       "      <td>100.000</td>\n",
       "      <td>3</td>\n",
       "      <td>+</td>\n",
       "    </tr>\n",
       "    <tr>\n",
       "      <th>4</th>\n",
       "      <td>b</td>\n",
       "      <td>20.170</td>\n",
       "      <td>5.625</td>\n",
       "      <td>u</td>\n",
       "      <td>g</td>\n",
       "      <td>w</td>\n",
       "      <td>v</td>\n",
       "      <td>1.710</td>\n",
       "      <td>t</td>\n",
       "      <td>f</td>\n",
       "      <td>0</td>\n",
       "      <td>f</td>\n",
       "      <td>s</td>\n",
       "      <td>120.000</td>\n",
       "      <td>0</td>\n",
       "      <td>+</td>\n",
       "    </tr>\n",
       "    <tr>\n",
       "      <th>...</th>\n",
       "      <td>...</td>\n",
       "      <td>...</td>\n",
       "      <td>...</td>\n",
       "      <td>...</td>\n",
       "      <td>...</td>\n",
       "      <td>...</td>\n",
       "      <td>...</td>\n",
       "      <td>...</td>\n",
       "      <td>...</td>\n",
       "      <td>...</td>\n",
       "      <td>...</td>\n",
       "      <td>...</td>\n",
       "      <td>...</td>\n",
       "      <td>...</td>\n",
       "      <td>...</td>\n",
       "      <td>...</td>\n",
       "    </tr>\n",
       "    <tr>\n",
       "      <th>685</th>\n",
       "      <td>b</td>\n",
       "      <td>21.080</td>\n",
       "      <td>10.085</td>\n",
       "      <td>y</td>\n",
       "      <td>p</td>\n",
       "      <td>e</td>\n",
       "      <td>h</td>\n",
       "      <td>1.250</td>\n",
       "      <td>f</td>\n",
       "      <td>f</td>\n",
       "      <td>0</td>\n",
       "      <td>f</td>\n",
       "      <td>g</td>\n",
       "      <td>260.000</td>\n",
       "      <td>0</td>\n",
       "      <td>-</td>\n",
       "    </tr>\n",
       "    <tr>\n",
       "      <th>686</th>\n",
       "      <td>a</td>\n",
       "      <td>22.670</td>\n",
       "      <td>0.750</td>\n",
       "      <td>u</td>\n",
       "      <td>g</td>\n",
       "      <td>c</td>\n",
       "      <td>v</td>\n",
       "      <td>2.000</td>\n",
       "      <td>f</td>\n",
       "      <td>t</td>\n",
       "      <td>2</td>\n",
       "      <td>t</td>\n",
       "      <td>g</td>\n",
       "      <td>200.000</td>\n",
       "      <td>394</td>\n",
       "      <td>-</td>\n",
       "    </tr>\n",
       "    <tr>\n",
       "      <th>687</th>\n",
       "      <td>a</td>\n",
       "      <td>25.250</td>\n",
       "      <td>13.500</td>\n",
       "      <td>y</td>\n",
       "      <td>p</td>\n",
       "      <td>ff</td>\n",
       "      <td>ff</td>\n",
       "      <td>2.000</td>\n",
       "      <td>f</td>\n",
       "      <td>t</td>\n",
       "      <td>1</td>\n",
       "      <td>t</td>\n",
       "      <td>g</td>\n",
       "      <td>200.000</td>\n",
       "      <td>1</td>\n",
       "      <td>-</td>\n",
       "    </tr>\n",
       "    <tr>\n",
       "      <th>688</th>\n",
       "      <td>b</td>\n",
       "      <td>17.920</td>\n",
       "      <td>0.205</td>\n",
       "      <td>u</td>\n",
       "      <td>g</td>\n",
       "      <td>aa</td>\n",
       "      <td>v</td>\n",
       "      <td>0.040</td>\n",
       "      <td>f</td>\n",
       "      <td>f</td>\n",
       "      <td>0</td>\n",
       "      <td>f</td>\n",
       "      <td>g</td>\n",
       "      <td>280.000</td>\n",
       "      <td>750</td>\n",
       "      <td>-</td>\n",
       "    </tr>\n",
       "    <tr>\n",
       "      <th>689</th>\n",
       "      <td>b</td>\n",
       "      <td>35.000</td>\n",
       "      <td>3.375</td>\n",
       "      <td>u</td>\n",
       "      <td>g</td>\n",
       "      <td>c</td>\n",
       "      <td>h</td>\n",
       "      <td>8.290</td>\n",
       "      <td>f</td>\n",
       "      <td>f</td>\n",
       "      <td>0</td>\n",
       "      <td>t</td>\n",
       "      <td>g</td>\n",
       "      <td>0.000</td>\n",
       "      <td>0</td>\n",
       "      <td>-</td>\n",
       "    </tr>\n",
       "  </tbody>\n",
       "</table>\n",
       "<p>690 rows × 16 columns</p>\n",
       "</div>"
      ],
      "text/plain": [
       "    Płeć   Wiek  Zadłużenie Stan_cywilny Bank Wykształcenie Pochodzenie  \\\n",
       "0      b 30.830       0.000            u    g             w           v   \n",
       "1      a 58.670       4.460            u    g             q           h   \n",
       "2      a 24.500       0.500            u    g             q           h   \n",
       "3      b 27.830       1.540            u    g             w           v   \n",
       "4      b 20.170       5.625            u    g             w           v   \n",
       "..   ...    ...         ...          ...  ...           ...         ...   \n",
       "685    b 21.080      10.085            y    p             e           h   \n",
       "686    a 22.670       0.750            u    g             c           v   \n",
       "687    a 25.250      13.500            y    p            ff          ff   \n",
       "688    b 17.920       0.205            u    g            aa           v   \n",
       "689    b 35.000       3.375            u    g             c           h   \n",
       "\n",
       "     Lata_pracy Poz_hist_kred Umowa_o_pracę  Score_kredytowy Prawo_jazdy  \\\n",
       "0         1.250             t             t                1           f   \n",
       "1         3.040             t             t                6           f   \n",
       "2         1.500             t             f                0           f   \n",
       "3         3.750             t             t                5           t   \n",
       "4         1.710             t             f                0           f   \n",
       "..          ...           ...           ...              ...         ...   \n",
       "685       1.250             f             f                0           f   \n",
       "686       2.000             f             t                2           t   \n",
       "687       2.000             f             t                1           t   \n",
       "688       0.040             f             f                0           f   \n",
       "689       8.290             f             f                0           t   \n",
       "\n",
       "    Obywatelstwo  Saldo_konta  Przychody Wynik  \n",
       "0              g      202.000          0     +  \n",
       "1              g       43.000        560     +  \n",
       "2              g      280.000        824     +  \n",
       "3              g      100.000          3     +  \n",
       "4              s      120.000          0     +  \n",
       "..           ...          ...        ...   ...  \n",
       "685            g      260.000          0     -  \n",
       "686            g      200.000        394     -  \n",
       "687            g      200.000          1     -  \n",
       "688            g      280.000        750     -  \n",
       "689            g        0.000          0     -  \n",
       "\n",
       "[690 rows x 16 columns]"
      ]
     },
     "execution_count": 277,
     "metadata": {},
     "output_type": "execute_result"
    }
   ],
   "source": [
    "df"
   ]
  },
  {
   "cell_type": "markdown",
   "metadata": {},
   "source": [
    "Mając wczytany zbiór, sprawdzam jego rozmiar i podglądam, jak wyglądają poszczególne obserwacje, by sprawdzić, czy wszystko wczytało się prawidłowo."
   ]
  },
  {
   "cell_type": "code",
   "execution_count": 278,
   "metadata": {},
   "outputs": [
    {
     "name": "stdout",
     "output_type": "stream",
     "text": [
      "690 wierszy.\n",
      "16 kolumn.\n"
     ]
    }
   ],
   "source": [
    "print(str(df.shape[0]) + ' wierszy.')\n",
    "print(str(df.shape[1]) + ' kolumn.')"
   ]
  },
  {
   "cell_type": "code",
   "execution_count": 279,
   "metadata": {},
   "outputs": [
    {
     "data": {
      "text/html": [
       "<div>\n",
       "<style scoped>\n",
       "    .dataframe tbody tr th:only-of-type {\n",
       "        vertical-align: middle;\n",
       "    }\n",
       "\n",
       "    .dataframe tbody tr th {\n",
       "        vertical-align: top;\n",
       "    }\n",
       "\n",
       "    .dataframe thead th {\n",
       "        text-align: right;\n",
       "    }\n",
       "</style>\n",
       "<table border=\"1\" class=\"dataframe\">\n",
       "  <thead>\n",
       "    <tr style=\"text-align: right;\">\n",
       "      <th></th>\n",
       "      <th>Płeć</th>\n",
       "      <th>Wiek</th>\n",
       "      <th>Zadłużenie</th>\n",
       "      <th>Stan_cywilny</th>\n",
       "      <th>Bank</th>\n",
       "      <th>Wykształcenie</th>\n",
       "      <th>Pochodzenie</th>\n",
       "      <th>Lata_pracy</th>\n",
       "      <th>Poz_hist_kred</th>\n",
       "      <th>Umowa_o_pracę</th>\n",
       "      <th>Score_kredytowy</th>\n",
       "      <th>Prawo_jazdy</th>\n",
       "      <th>Obywatelstwo</th>\n",
       "      <th>Saldo_konta</th>\n",
       "      <th>Przychody</th>\n",
       "      <th>Wynik</th>\n",
       "    </tr>\n",
       "  </thead>\n",
       "  <tbody>\n",
       "    <tr>\n",
       "      <th>0</th>\n",
       "      <td>b</td>\n",
       "      <td>30.830</td>\n",
       "      <td>0.000</td>\n",
       "      <td>u</td>\n",
       "      <td>g</td>\n",
       "      <td>w</td>\n",
       "      <td>v</td>\n",
       "      <td>1.250</td>\n",
       "      <td>t</td>\n",
       "      <td>t</td>\n",
       "      <td>1</td>\n",
       "      <td>f</td>\n",
       "      <td>g</td>\n",
       "      <td>202.000</td>\n",
       "      <td>0</td>\n",
       "      <td>+</td>\n",
       "    </tr>\n",
       "    <tr>\n",
       "      <th>1</th>\n",
       "      <td>a</td>\n",
       "      <td>58.670</td>\n",
       "      <td>4.460</td>\n",
       "      <td>u</td>\n",
       "      <td>g</td>\n",
       "      <td>q</td>\n",
       "      <td>h</td>\n",
       "      <td>3.040</td>\n",
       "      <td>t</td>\n",
       "      <td>t</td>\n",
       "      <td>6</td>\n",
       "      <td>f</td>\n",
       "      <td>g</td>\n",
       "      <td>43.000</td>\n",
       "      <td>560</td>\n",
       "      <td>+</td>\n",
       "    </tr>\n",
       "    <tr>\n",
       "      <th>2</th>\n",
       "      <td>a</td>\n",
       "      <td>24.500</td>\n",
       "      <td>0.500</td>\n",
       "      <td>u</td>\n",
       "      <td>g</td>\n",
       "      <td>q</td>\n",
       "      <td>h</td>\n",
       "      <td>1.500</td>\n",
       "      <td>t</td>\n",
       "      <td>f</td>\n",
       "      <td>0</td>\n",
       "      <td>f</td>\n",
       "      <td>g</td>\n",
       "      <td>280.000</td>\n",
       "      <td>824</td>\n",
       "      <td>+</td>\n",
       "    </tr>\n",
       "    <tr>\n",
       "      <th>3</th>\n",
       "      <td>b</td>\n",
       "      <td>27.830</td>\n",
       "      <td>1.540</td>\n",
       "      <td>u</td>\n",
       "      <td>g</td>\n",
       "      <td>w</td>\n",
       "      <td>v</td>\n",
       "      <td>3.750</td>\n",
       "      <td>t</td>\n",
       "      <td>t</td>\n",
       "      <td>5</td>\n",
       "      <td>t</td>\n",
       "      <td>g</td>\n",
       "      <td>100.000</td>\n",
       "      <td>3</td>\n",
       "      <td>+</td>\n",
       "    </tr>\n",
       "    <tr>\n",
       "      <th>4</th>\n",
       "      <td>b</td>\n",
       "      <td>20.170</td>\n",
       "      <td>5.625</td>\n",
       "      <td>u</td>\n",
       "      <td>g</td>\n",
       "      <td>w</td>\n",
       "      <td>v</td>\n",
       "      <td>1.710</td>\n",
       "      <td>t</td>\n",
       "      <td>f</td>\n",
       "      <td>0</td>\n",
       "      <td>f</td>\n",
       "      <td>s</td>\n",
       "      <td>120.000</td>\n",
       "      <td>0</td>\n",
       "      <td>+</td>\n",
       "    </tr>\n",
       "  </tbody>\n",
       "</table>\n",
       "</div>"
      ],
      "text/plain": [
       "  Płeć   Wiek  Zadłużenie Stan_cywilny Bank Wykształcenie Pochodzenie  \\\n",
       "0    b 30.830       0.000            u    g             w           v   \n",
       "1    a 58.670       4.460            u    g             q           h   \n",
       "2    a 24.500       0.500            u    g             q           h   \n",
       "3    b 27.830       1.540            u    g             w           v   \n",
       "4    b 20.170       5.625            u    g             w           v   \n",
       "\n",
       "   Lata_pracy Poz_hist_kred Umowa_o_pracę  Score_kredytowy Prawo_jazdy  \\\n",
       "0       1.250             t             t                1           f   \n",
       "1       3.040             t             t                6           f   \n",
       "2       1.500             t             f                0           f   \n",
       "3       3.750             t             t                5           t   \n",
       "4       1.710             t             f                0           f   \n",
       "\n",
       "  Obywatelstwo  Saldo_konta  Przychody Wynik  \n",
       "0            g      202.000          0     +  \n",
       "1            g       43.000        560     +  \n",
       "2            g      280.000        824     +  \n",
       "3            g      100.000          3     +  \n",
       "4            s      120.000          0     +  "
      ]
     },
     "execution_count": 279,
     "metadata": {},
     "output_type": "execute_result"
    }
   ],
   "source": [
    "df.head()"
   ]
  },
  {
   "cell_type": "markdown",
   "metadata": {},
   "source": [
    "# Przygotowanie danych do analizy"
   ]
  },
  {
   "cell_type": "markdown",
   "metadata": {},
   "source": [
    "Kolej na przygotowanie danych do dalszej analizy. W tym kroku przyjrzę się danym, zbadam ich ogólną strukturę (typy zmiennych, braki i ich liczbę). Zaczynam od analizy braków.\n",
    "\n",
    "Przywykłem do analizowania danych z użyciem małego, specjalnie do tego zbudowanego data frame-u, w którym znajdują się wszystkie niezbędne informacje. W tym przypadku są to: nazwa zmiennej, informacja o jej typie, informacja czy dana zmienna zawiera braki, liczba braków, oraz procentowa brakującyh wartości w zmiennej.\n",
    "\n",
    "Taką tabelkę łatwo jest wyeksportować np. do Excela i umieścić w raporcie, lub prezentacji. Raz zrobione, można wykorzystać później wielokrotnie."
   ]
  },
  {
   "cell_type": "code",
   "execution_count": 280,
   "metadata": {},
   "outputs": [
    {
     "name": "stdout",
     "output_type": "stream",
     "text": [
      "                    Dtype  Nulls  Sum_of_nulls  Per_of_nulls\n",
      "Płeć             category   True            12         1.740\n",
      "Wiek              float64   True            12         1.740\n",
      "Zadłużenie        float64  False             0         0.000\n",
      "Stan_cywilny     category   True             6         0.870\n",
      "Bank             category   True             6         0.870\n",
      "Wykształcenie    category   True             9         1.300\n",
      "Pochodzenie      category   True             9         1.300\n",
      "Lata_pracy        float64  False             0         0.000\n",
      "Poz_hist_kred    category  False             0         0.000\n",
      "Umowa_o_pracę    category  False             0         0.000\n",
      "Score_kredytowy     int64  False             0         0.000\n",
      "Prawo_jazdy        object  False             0         0.000\n",
      "Obywatelstwo     category  False             0         0.000\n",
      "Saldo_konta       float64   True            13         1.880\n",
      "Przychody           int64  False             0         0.000\n",
      "Wynik            category  False             0         0.000\n"
     ]
    }
   ],
   "source": [
    "summary = pd.DataFrame(df.dtypes, columns=['Dtype'])\n",
    "summary['Nulls'] = pd.DataFrame(df.isnull().any())\n",
    "summary['Sum_of_nulls'] = pd.DataFrame(df.isnull().sum())\n",
    "summary['Per_of_nulls'] = round((df.apply(pd.isnull).mean()*100),2)\n",
    "summary.Dtype = summary.Dtype.astype(str)\n",
    "print(summary)"
   ]
  },
  {
   "cell_type": "code",
   "execution_count": 281,
   "metadata": {},
   "outputs": [
    {
     "name": "stdout",
     "output_type": "stream",
     "text": [
      "5.36% obserwacji zawiera braki w danych.\n"
     ]
    }
   ],
   "source": [
    "print(str(round(df.isnull().any(axis=1).sum()/df.shape[0]*100,2))+'% obserwacji zawiera braki w danych.')"
   ]
  },
  {
   "cell_type": "markdown",
   "metadata": {},
   "source": [
    "5.36% obserwacji zawiera braki w danych. Pierwsze wnioski wyglądają następująco:\n",
    "\n",
    "- 7 kolumn zawiera brakujące wartości.\n",
    "- Najwięcej braków zawiera zmienna ‚Saldo_konta’ – 13 brakujących wartości, co stanowi ok. 1,88% wszystkich wartości tej kolumny.\n",
    "- W sumie mamy 37 obserwacji zawierających jakiekolwiek brakujące wartości, co stanowi ok. 5,36% wszystkich obserwacji.\n",
    "\n",
    "Mam to szczęście, że algorytm – **drzewo decyzyjne – nie jest wrażliwe na brakujące wartości. Nie mniej, liczba brakujących wartości jest na tyle mała, że dla przejrzystości dalszej części projektu, usunę je.**"
   ]
  },
  {
   "cell_type": "code",
   "execution_count": 282,
   "metadata": {},
   "outputs": [
    {
     "name": "stdout",
     "output_type": "stream",
     "text": [
      "Pozostało 653 obserwacji.\n"
     ]
    }
   ],
   "source": [
    "df.dropna(inplace=True)\n",
    "print('Pozostało ' + str(df.shape[0]) + ' obserwacji.')"
   ]
  },
  {
   "cell_type": "markdown",
   "metadata": {},
   "source": [
    "Pozostało 653 obserwacji. Jak widać w powyższej tabeli, nie wszystkie zmienne mają odpowiednie kategorie. Co więcej, algorytm, z którego będę korzystać przyjmuje na wejściu jedynie zmienne liczbowe, całkowite i zmiennoprzecinkowe (ew. binarne). Warto zatem wszystkie zmienne kategoryczne, które przyjmują tylko dwie kategorie zamienić od razu na zmienną binarną, zakodowaną w formacie ‚uint8’."
   ]
  },
  {
   "cell_type": "code",
   "execution_count": 283,
   "metadata": {},
   "outputs": [
    {
     "data": {
      "text/html": [
       "<div>\n",
       "<style scoped>\n",
       "    .dataframe tbody tr th:only-of-type {\n",
       "        vertical-align: middle;\n",
       "    }\n",
       "\n",
       "    .dataframe tbody tr th {\n",
       "        vertical-align: top;\n",
       "    }\n",
       "\n",
       "    .dataframe thead th {\n",
       "        text-align: right;\n",
       "    }\n",
       "</style>\n",
       "<table border=\"1\" class=\"dataframe\">\n",
       "  <thead>\n",
       "    <tr style=\"text-align: right;\">\n",
       "      <th></th>\n",
       "      <th>Płeć</th>\n",
       "      <th>Stan_cywilny</th>\n",
       "      <th>Bank</th>\n",
       "      <th>Wykształcenie</th>\n",
       "      <th>Pochodzenie</th>\n",
       "      <th>Poz_hist_kred</th>\n",
       "      <th>Umowa_o_pracę</th>\n",
       "      <th>Prawo_jazdy</th>\n",
       "      <th>Obywatelstwo</th>\n",
       "      <th>Wynik</th>\n",
       "    </tr>\n",
       "  </thead>\n",
       "  <tbody>\n",
       "    <tr>\n",
       "      <th>count</th>\n",
       "      <td>653</td>\n",
       "      <td>653</td>\n",
       "      <td>653</td>\n",
       "      <td>653</td>\n",
       "      <td>653</td>\n",
       "      <td>653</td>\n",
       "      <td>653</td>\n",
       "      <td>653</td>\n",
       "      <td>653</td>\n",
       "      <td>653</td>\n",
       "    </tr>\n",
       "    <tr>\n",
       "      <th>unique</th>\n",
       "      <td>2</td>\n",
       "      <td>3</td>\n",
       "      <td>3</td>\n",
       "      <td>14</td>\n",
       "      <td>9</td>\n",
       "      <td>2</td>\n",
       "      <td>2</td>\n",
       "      <td>2</td>\n",
       "      <td>3</td>\n",
       "      <td>2</td>\n",
       "    </tr>\n",
       "    <tr>\n",
       "      <th>top</th>\n",
       "      <td>b</td>\n",
       "      <td>u</td>\n",
       "      <td>g</td>\n",
       "      <td>c</td>\n",
       "      <td>v</td>\n",
       "      <td>t</td>\n",
       "      <td>f</td>\n",
       "      <td>f</td>\n",
       "      <td>g</td>\n",
       "      <td>-</td>\n",
       "    </tr>\n",
       "    <tr>\n",
       "      <th>freq</th>\n",
       "      <td>450</td>\n",
       "      <td>499</td>\n",
       "      <td>499</td>\n",
       "      <td>133</td>\n",
       "      <td>381</td>\n",
       "      <td>349</td>\n",
       "      <td>366</td>\n",
       "      <td>351</td>\n",
       "      <td>598</td>\n",
       "      <td>357</td>\n",
       "    </tr>\n",
       "  </tbody>\n",
       "</table>\n",
       "</div>"
      ],
      "text/plain": [
       "       Płeć Stan_cywilny Bank Wykształcenie Pochodzenie Poz_hist_kred  \\\n",
       "count   653          653  653           653         653           653   \n",
       "unique    2            3    3            14           9             2   \n",
       "top       b            u    g             c           v             t   \n",
       "freq    450          499  499           133         381           349   \n",
       "\n",
       "       Umowa_o_pracę Prawo_jazdy Obywatelstwo Wynik  \n",
       "count            653         653          653   653  \n",
       "unique             2           2            3     2  \n",
       "top                f           f            g     -  \n",
       "freq             366         351          598   357  "
      ]
     },
     "execution_count": 283,
     "metadata": {},
     "output_type": "execute_result"
    }
   ],
   "source": [
    "df.select_dtypes(exclude = ['float', 'int']).describe()"
   ]
  },
  {
   "cell_type": "markdown",
   "metadata": {},
   "source": [
    "Z powyższego zbioru interesują mnie te zmienne, które mają jedynie dwie kategorie. Mogę je zamienić na zmienne binarne. Pozostałe zmienne hurtowo obsłużę w punkcie „Przygotowanie danych do modelowania”."
   ]
  },
  {
   "cell_type": "code",
   "execution_count": 284,
   "metadata": {},
   "outputs": [],
   "source": [
    "# zmiana wartości zmiennych\n",
    "df.Poz_hist_kred.replace(['t','f'],[1,0], inplace=True)\n",
    "df.Umowa_o_pracę.replace(['t','f'],[1,0], inplace=True)\n",
    "df.Płeć.replace(['a','b'],[1,0], inplace=True)\n",
    "df.Prawo_jazdy.replace(['t','f'],[1,0], inplace=True)\n",
    "df.Wynik.replace(['+','-'],[1,0], inplace=True)\n",
    "\n",
    "# zmiana typu zmiennych\n",
    "df['Poz_hist_kred'] = df['Poz_hist_kred'].astype('uint8')\n",
    "df['Umowa_o_pracę'] = df['Umowa_o_pracę'].astype('uint8')\n",
    "df['Płeć'] = df['Płeć'].astype('uint8')\n",
    "df['Prawo_jazdy'] = df['Prawo_jazdy'].astype('uint8')\n",
    "df['Wynik'] = df['Wynik'].astype('uint8')"
   ]
  },
  {
   "cell_type": "markdown",
   "metadata": {},
   "source": [
    "# Eksploracyjna analiza danych"
   ]
  },
  {
   "cell_type": "markdown",
   "metadata": {},
   "source": [
    "W ramach EDA wykonam dwie podstawowe czynności: weryfikację podstawowych statystyk dotyczących zmiennych numerycznych, weryfikację statystyk dotyczących połączonego zbioru zmiennych: kategorycznych i binarnych. Dla tych ostatnich zbadam zależność ze zmienną celu poprzez zbudowanie tablicy liczebności (crosstab: badana zmienna vs zmienna celu). Crosstab da mi ogólne spojrzenie na moc predykcyjną danej zmiennej.\n",
    "\n",
    "Uważam, że warto w tym miejscu zaznaczyć, że celowo pomijam analizę korelacji i zależności pomiędzy pozostałymi zmiennymi. Współliniowość w drzewie decyzyjnym mi nie zagraża. Podobnie w sposób świadomy pomijam analizę odstających wartościami. Przyczyna jest prosta: algorytm drzewa decyzyjnego nie jest wrażliwy na outliery. W przypadku zmiennych numerycznych podział węzłów w drzewie decyzyjnym jest wykonywany na podstawie proporcji obserwacji w zbiorze, a nie na podstawie zakresu wartości."
   ]
  },
  {
   "cell_type": "markdown",
   "metadata": {},
   "source": [
    "#### Zmienne numeryczne"
   ]
  },
  {
   "cell_type": "code",
   "execution_count": 285,
   "metadata": {},
   "outputs": [
    {
     "data": {
      "text/html": [
       "<div>\n",
       "<style scoped>\n",
       "    .dataframe tbody tr th:only-of-type {\n",
       "        vertical-align: middle;\n",
       "    }\n",
       "\n",
       "    .dataframe tbody tr th {\n",
       "        vertical-align: top;\n",
       "    }\n",
       "\n",
       "    .dataframe thead th {\n",
       "        text-align: right;\n",
       "    }\n",
       "</style>\n",
       "<table border=\"1\" class=\"dataframe\">\n",
       "  <thead>\n",
       "    <tr style=\"text-align: right;\">\n",
       "      <th></th>\n",
       "      <th>Wiek</th>\n",
       "      <th>Zadłużenie</th>\n",
       "      <th>Lata_pracy</th>\n",
       "      <th>Score_kredytowy</th>\n",
       "      <th>Saldo_konta</th>\n",
       "      <th>Przychody</th>\n",
       "    </tr>\n",
       "  </thead>\n",
       "  <tbody>\n",
       "    <tr>\n",
       "      <th>count</th>\n",
       "      <td>653.000</td>\n",
       "      <td>653.000</td>\n",
       "      <td>653.000</td>\n",
       "      <td>653.000</td>\n",
       "      <td>653.000</td>\n",
       "      <td>653.000</td>\n",
       "    </tr>\n",
       "    <tr>\n",
       "      <th>mean</th>\n",
       "      <td>31.504</td>\n",
       "      <td>4.830</td>\n",
       "      <td>2.244</td>\n",
       "      <td>2.502</td>\n",
       "      <td>180.360</td>\n",
       "      <td>1013.761</td>\n",
       "    </tr>\n",
       "    <tr>\n",
       "      <th>std</th>\n",
       "      <td>11.838</td>\n",
       "      <td>5.027</td>\n",
       "      <td>3.371</td>\n",
       "      <td>4.968</td>\n",
       "      <td>168.297</td>\n",
       "      <td>5253.279</td>\n",
       "    </tr>\n",
       "    <tr>\n",
       "      <th>min</th>\n",
       "      <td>13.750</td>\n",
       "      <td>0.000</td>\n",
       "      <td>0.000</td>\n",
       "      <td>0.000</td>\n",
       "      <td>0.000</td>\n",
       "      <td>0.000</td>\n",
       "    </tr>\n",
       "    <tr>\n",
       "      <th>25%</th>\n",
       "      <td>22.580</td>\n",
       "      <td>1.040</td>\n",
       "      <td>0.165</td>\n",
       "      <td>0.000</td>\n",
       "      <td>73.000</td>\n",
       "      <td>0.000</td>\n",
       "    </tr>\n",
       "    <tr>\n",
       "      <th>50%</th>\n",
       "      <td>28.420</td>\n",
       "      <td>2.835</td>\n",
       "      <td>1.000</td>\n",
       "      <td>0.000</td>\n",
       "      <td>160.000</td>\n",
       "      <td>5.000</td>\n",
       "    </tr>\n",
       "    <tr>\n",
       "      <th>75%</th>\n",
       "      <td>38.250</td>\n",
       "      <td>7.500</td>\n",
       "      <td>2.625</td>\n",
       "      <td>3.000</td>\n",
       "      <td>272.000</td>\n",
       "      <td>400.000</td>\n",
       "    </tr>\n",
       "    <tr>\n",
       "      <th>max</th>\n",
       "      <td>76.750</td>\n",
       "      <td>28.000</td>\n",
       "      <td>28.500</td>\n",
       "      <td>67.000</td>\n",
       "      <td>2000.000</td>\n",
       "      <td>100000.000</td>\n",
       "    </tr>\n",
       "  </tbody>\n",
       "</table>\n",
       "</div>"
      ],
      "text/plain": [
       "         Wiek  Zadłużenie  Lata_pracy  Score_kredytowy  Saldo_konta  Przychody\n",
       "count 653.000     653.000     653.000          653.000      653.000    653.000\n",
       "mean   31.504       4.830       2.244            2.502      180.360   1013.761\n",
       "std    11.838       5.027       3.371            4.968      168.297   5253.279\n",
       "min    13.750       0.000       0.000            0.000        0.000      0.000\n",
       "25%    22.580       1.040       0.165            0.000       73.000      0.000\n",
       "50%    28.420       2.835       1.000            0.000      160.000      5.000\n",
       "75%    38.250       7.500       2.625            3.000      272.000    400.000\n",
       "max    76.750      28.000      28.500           67.000     2000.000 100000.000"
      ]
     },
     "execution_count": 285,
     "metadata": {},
     "output_type": "execute_result"
    }
   ],
   "source": [
    "df.describe(include=['float', 'int'])"
   ]
  },
  {
   "cell_type": "code",
   "execution_count": 286,
   "metadata": {},
   "outputs": [],
   "source": [
    "# stats = df.select_dtypes(['float', 'int']).describe()\n",
    "# stats = stats.transpose()\n",
    "# stats = stats[['count','std','min','25%','50%','75%','max','mean']]\n",
    "# print(stats)"
   ]
  },
  {
   "cell_type": "markdown",
   "metadata": {},
   "source": [
    "W przypadku kilku zmiennych jasno widać, że średnia jest większa niż mediana. Jest to objaw skośności rozkładu. Jeśli chciałbym użyć jednego z algorytmów, który cechuje się wrażliwością na dane odstające (np. regresja logistyczna), to musiałbym dodatkowo:\n",
    "\n",
    "- wykonać normalizację danych numerycznych – istnieje duża różnica w wartościach, maksymalnych (i średnich) poszczególnych zmiennych, np. ‚Score_kredytowy’ vs ‚Przychody’),\n",
    "\n",
    "- pozbyć się odstających obserwacji, co dodatkowo uszczupliłoby zbiór."
   ]
  },
  {
   "cell_type": "markdown",
   "metadata": {},
   "source": [
    "#### Zmienne kategoryczne i binarne"
   ]
  },
  {
   "cell_type": "code",
   "execution_count": 287,
   "metadata": {},
   "outputs": [
    {
     "data": {
      "text/html": [
       "<div>\n",
       "<style scoped>\n",
       "    .dataframe tbody tr th:only-of-type {\n",
       "        vertical-align: middle;\n",
       "    }\n",
       "\n",
       "    .dataframe tbody tr th {\n",
       "        vertical-align: top;\n",
       "    }\n",
       "\n",
       "    .dataframe thead th {\n",
       "        text-align: right;\n",
       "    }\n",
       "</style>\n",
       "<table border=\"1\" class=\"dataframe\">\n",
       "  <thead>\n",
       "    <tr style=\"text-align: right;\">\n",
       "      <th></th>\n",
       "      <th>Stan_cywilny</th>\n",
       "      <th>Bank</th>\n",
       "      <th>Wykształcenie</th>\n",
       "      <th>Pochodzenie</th>\n",
       "      <th>Obywatelstwo</th>\n",
       "    </tr>\n",
       "  </thead>\n",
       "  <tbody>\n",
       "    <tr>\n",
       "      <th>count</th>\n",
       "      <td>653</td>\n",
       "      <td>653</td>\n",
       "      <td>653</td>\n",
       "      <td>653</td>\n",
       "      <td>653</td>\n",
       "    </tr>\n",
       "    <tr>\n",
       "      <th>unique</th>\n",
       "      <td>3</td>\n",
       "      <td>3</td>\n",
       "      <td>14</td>\n",
       "      <td>9</td>\n",
       "      <td>3</td>\n",
       "    </tr>\n",
       "    <tr>\n",
       "      <th>top</th>\n",
       "      <td>u</td>\n",
       "      <td>g</td>\n",
       "      <td>c</td>\n",
       "      <td>v</td>\n",
       "      <td>g</td>\n",
       "    </tr>\n",
       "    <tr>\n",
       "      <th>freq</th>\n",
       "      <td>499</td>\n",
       "      <td>499</td>\n",
       "      <td>133</td>\n",
       "      <td>381</td>\n",
       "      <td>598</td>\n",
       "    </tr>\n",
       "  </tbody>\n",
       "</table>\n",
       "</div>"
      ],
      "text/plain": [
       "       Stan_cywilny Bank Wykształcenie Pochodzenie Obywatelstwo\n",
       "count           653  653           653         653          653\n",
       "unique            3    3            14           9            3\n",
       "top               u    g             c           v            g\n",
       "freq            499  499           133         381          598"
      ]
     },
     "execution_count": 287,
     "metadata": {},
     "output_type": "execute_result"
    }
   ],
   "source": [
    "df.describe(include=['category'])"
   ]
  },
  {
   "cell_type": "code",
   "execution_count": 288,
   "metadata": {},
   "outputs": [],
   "source": [
    "# df.select_dtypes(['category']).describe()"
   ]
  },
  {
   "cell_type": "markdown",
   "metadata": {},
   "source": [
    "#### Zmienna „Stan_cywilny”"
   ]
  },
  {
   "cell_type": "code",
   "execution_count": 289,
   "metadata": {},
   "outputs": [
    {
     "data": {
      "text/plain": [
       "Stan_cywilny\n",
       "u    499\n",
       "y    152\n",
       "l      2\n",
       "Name: count, dtype: int64"
      ]
     },
     "execution_count": 289,
     "metadata": {},
     "output_type": "execute_result"
    }
   ],
   "source": [
    "df.Stan_cywilny.value_counts()"
   ]
  },
  {
   "cell_type": "code",
   "execution_count": 290,
   "metadata": {},
   "outputs": [
    {
     "data": {
      "text/html": [
       "<div>\n",
       "<style scoped>\n",
       "    .dataframe tbody tr th:only-of-type {\n",
       "        vertical-align: middle;\n",
       "    }\n",
       "\n",
       "    .dataframe tbody tr th {\n",
       "        vertical-align: top;\n",
       "    }\n",
       "\n",
       "    .dataframe thead th {\n",
       "        text-align: right;\n",
       "    }\n",
       "</style>\n",
       "<table border=\"1\" class=\"dataframe\">\n",
       "  <thead>\n",
       "    <tr style=\"text-align: right;\">\n",
       "      <th>Wynik</th>\n",
       "      <th>0</th>\n",
       "      <th>1</th>\n",
       "    </tr>\n",
       "    <tr>\n",
       "      <th>Stan_cywilny</th>\n",
       "      <th></th>\n",
       "      <th></th>\n",
       "    </tr>\n",
       "  </thead>\n",
       "  <tbody>\n",
       "    <tr>\n",
       "      <th>l</th>\n",
       "      <td>0</td>\n",
       "      <td>2</td>\n",
       "    </tr>\n",
       "    <tr>\n",
       "      <th>u</th>\n",
       "      <td>250</td>\n",
       "      <td>249</td>\n",
       "    </tr>\n",
       "    <tr>\n",
       "      <th>y</th>\n",
       "      <td>107</td>\n",
       "      <td>45</td>\n",
       "    </tr>\n",
       "  </tbody>\n",
       "</table>\n",
       "</div>"
      ],
      "text/plain": [
       "Wynik           0    1\n",
       "Stan_cywilny          \n",
       "l               0    2\n",
       "u             250  249\n",
       "y             107   45"
      ]
     },
     "execution_count": 290,
     "metadata": {},
     "output_type": "execute_result"
    }
   ],
   "source": [
    "pd.crosstab(df.Stan_cywilny, df.Wynik)"
   ]
  },
  {
   "cell_type": "code",
   "execution_count": 291,
   "metadata": {},
   "outputs": [],
   "source": [
    "# cat = pd.DataFrame(df.Stan_cywilny.value_counts())\n",
    "# cat.rename(columns={'Stan_cywilny':'Num_of_obs'}, inplace=True)\n",
    "# cat['Per_of_obs'] = cat['Num_of_obs']/df.shape[0]*100\n",
    "# print(cat)\n",
    "# print('Crosstab:')\n",
    "# pd.crosstab(df.Stan_cywilny, df.Wynik)"
   ]
  },
  {
   "cell_type": "markdown",
   "metadata": {},
   "source": [
    "**Dwie kategorie się wyróżniają. Zdecydowana większość wniosków dla osób należących do kategorii ‚y’, dla zmiennej Stan_cywilny zostaje odrzuconych. 100% wniosków do kategorii ‚l’ zostaje zaakceptowanych.**"
   ]
  },
  {
   "cell_type": "markdown",
   "metadata": {},
   "source": [
    "#### Zmienna „Bank”"
   ]
  },
  {
   "cell_type": "code",
   "execution_count": 292,
   "metadata": {},
   "outputs": [
    {
     "data": {
      "text/plain": [
       "Bank\n",
       "g     499\n",
       "p     152\n",
       "gg      2\n",
       "Name: count, dtype: int64"
      ]
     },
     "execution_count": 292,
     "metadata": {},
     "output_type": "execute_result"
    }
   ],
   "source": [
    "df.Bank.value_counts()"
   ]
  },
  {
   "cell_type": "code",
   "execution_count": 293,
   "metadata": {},
   "outputs": [
    {
     "data": {
      "text/html": [
       "<div>\n",
       "<style scoped>\n",
       "    .dataframe tbody tr th:only-of-type {\n",
       "        vertical-align: middle;\n",
       "    }\n",
       "\n",
       "    .dataframe tbody tr th {\n",
       "        vertical-align: top;\n",
       "    }\n",
       "\n",
       "    .dataframe thead th {\n",
       "        text-align: right;\n",
       "    }\n",
       "</style>\n",
       "<table border=\"1\" class=\"dataframe\">\n",
       "  <thead>\n",
       "    <tr style=\"text-align: right;\">\n",
       "      <th>Wynik</th>\n",
       "      <th>0</th>\n",
       "      <th>1</th>\n",
       "    </tr>\n",
       "    <tr>\n",
       "      <th>Bank</th>\n",
       "      <th></th>\n",
       "      <th></th>\n",
       "    </tr>\n",
       "  </thead>\n",
       "  <tbody>\n",
       "    <tr>\n",
       "      <th>g</th>\n",
       "      <td>250</td>\n",
       "      <td>249</td>\n",
       "    </tr>\n",
       "    <tr>\n",
       "      <th>gg</th>\n",
       "      <td>0</td>\n",
       "      <td>2</td>\n",
       "    </tr>\n",
       "    <tr>\n",
       "      <th>p</th>\n",
       "      <td>107</td>\n",
       "      <td>45</td>\n",
       "    </tr>\n",
       "  </tbody>\n",
       "</table>\n",
       "</div>"
      ],
      "text/plain": [
       "Wynik    0    1\n",
       "Bank           \n",
       "g      250  249\n",
       "gg       0    2\n",
       "p      107   45"
      ]
     },
     "execution_count": 293,
     "metadata": {},
     "output_type": "execute_result"
    }
   ],
   "source": [
    "pd.crosstab(df.Bank, df.Wynik)"
   ]
  },
  {
   "cell_type": "code",
   "execution_count": 294,
   "metadata": {},
   "outputs": [],
   "source": [
    "# cat = pd.DataFrame(df.Bank.value_counts())\n",
    "# cat.rename(columns={'Bank':'Num_of_obs'}, inplace=True)\n",
    "# cat['Per_of_obs'] = cat['Num_of_obs']/df.shape[0]*100\n",
    "# print(cat)\n",
    "# print('Crosstab:')\n",
    "# pd.crosstab(df.Bank, df.Wynik)"
   ]
  },
  {
   "cell_type": "markdown",
   "metadata": {},
   "source": [
    "Jedna z kategorii się wyróżnia. Zdecydowana większość wniosków dla osób należących do kategorii ‚p’, dla zmiennej „Bank” zostaje odrzuconych, ale zaraz… czy czego Ci to nie przypomina? Dokładnie taka sama liczność jak w przypadku zmiennej „Stan_cywilny”. Buduję zatem szybkie porównanie obu zmiennych."
   ]
  },
  {
   "cell_type": "code",
   "execution_count": 295,
   "metadata": {},
   "outputs": [],
   "source": [
    "# df.groupby(['Bank', 'Stan_cywilny'])['Wynik'].describe()"
   ]
  },
  {
   "cell_type": "markdown",
   "metadata": {},
   "source": [
    "**Ewidentnie widać tu jakiś błąd. Jedna z tych zmiennych jest zatem zupełnie niepotrzebna 🙂**"
   ]
  },
  {
   "cell_type": "markdown",
   "metadata": {},
   "source": [
    "#### Zmienna „Poz_hist_kred”"
   ]
  },
  {
   "cell_type": "code",
   "execution_count": 296,
   "metadata": {},
   "outputs": [
    {
     "data": {
      "text/plain": [
       "Poz_hist_kred\n",
       "1    349\n",
       "0    304\n",
       "Name: count, dtype: int64"
      ]
     },
     "execution_count": 296,
     "metadata": {},
     "output_type": "execute_result"
    }
   ],
   "source": [
    "df.Poz_hist_kred.value_counts()"
   ]
  },
  {
   "cell_type": "code",
   "execution_count": 297,
   "metadata": {},
   "outputs": [
    {
     "data": {
      "text/html": [
       "<div>\n",
       "<style scoped>\n",
       "    .dataframe tbody tr th:only-of-type {\n",
       "        vertical-align: middle;\n",
       "    }\n",
       "\n",
       "    .dataframe tbody tr th {\n",
       "        vertical-align: top;\n",
       "    }\n",
       "\n",
       "    .dataframe thead th {\n",
       "        text-align: right;\n",
       "    }\n",
       "</style>\n",
       "<table border=\"1\" class=\"dataframe\">\n",
       "  <thead>\n",
       "    <tr style=\"text-align: right;\">\n",
       "      <th>Wynik</th>\n",
       "      <th>0</th>\n",
       "      <th>1</th>\n",
       "    </tr>\n",
       "    <tr>\n",
       "      <th>Poz_hist_kred</th>\n",
       "      <th></th>\n",
       "      <th></th>\n",
       "    </tr>\n",
       "  </thead>\n",
       "  <tbody>\n",
       "    <tr>\n",
       "      <th>0</th>\n",
       "      <td>286</td>\n",
       "      <td>18</td>\n",
       "    </tr>\n",
       "    <tr>\n",
       "      <th>1</th>\n",
       "      <td>71</td>\n",
       "      <td>278</td>\n",
       "    </tr>\n",
       "  </tbody>\n",
       "</table>\n",
       "</div>"
      ],
      "text/plain": [
       "Wynik            0    1\n",
       "Poz_hist_kred          \n",
       "0              286   18\n",
       "1               71  278"
      ]
     },
     "execution_count": 297,
     "metadata": {},
     "output_type": "execute_result"
    }
   ],
   "source": [
    "pd.crosstab(df.Poz_hist_kred, df.Wynik)"
   ]
  },
  {
   "cell_type": "code",
   "execution_count": 298,
   "metadata": {},
   "outputs": [],
   "source": [
    "# cat = pd.DataFrame(df.Poz_hist_kred.value_counts())\n",
    "# cat.rename(columns={'Poz_hist_kred':'Num_of_obs'}, inplace=True)\n",
    "# cat['Per_of_obs'] = cat['Num_of_obs']/df.shape[0]*100\n",
    "# print(cat)\n",
    "# print('Crosstab:')\n",
    "# pd.crosstab(df.Poz_hist_kred, df.Wynik)"
   ]
  },
  {
   "cell_type": "markdown",
   "metadata": {},
   "source": [
    "Ciekawa zmienna. Osoby z pozytywną historią kredytową w większości przypadków otrzymują kartę kredytową. Osoby bez pozytywnej historii kredytowej raczej karty nie otrzymują."
   ]
  },
  {
   "cell_type": "markdown",
   "metadata": {},
   "source": [
    "#### Zmienna „Umowa_o_pracę”"
   ]
  },
  {
   "cell_type": "code",
   "execution_count": 299,
   "metadata": {},
   "outputs": [
    {
     "data": {
      "text/plain": [
       "Umowa_o_pracę\n",
       "0    366\n",
       "1    287\n",
       "Name: count, dtype: int64"
      ]
     },
     "execution_count": 299,
     "metadata": {},
     "output_type": "execute_result"
    }
   ],
   "source": [
    "df.Umowa_o_pracę.value_counts()"
   ]
  },
  {
   "cell_type": "code",
   "execution_count": 300,
   "metadata": {},
   "outputs": [
    {
     "data": {
      "text/html": [
       "<div>\n",
       "<style scoped>\n",
       "    .dataframe tbody tr th:only-of-type {\n",
       "        vertical-align: middle;\n",
       "    }\n",
       "\n",
       "    .dataframe tbody tr th {\n",
       "        vertical-align: top;\n",
       "    }\n",
       "\n",
       "    .dataframe thead th {\n",
       "        text-align: right;\n",
       "    }\n",
       "</style>\n",
       "<table border=\"1\" class=\"dataframe\">\n",
       "  <thead>\n",
       "    <tr style=\"text-align: right;\">\n",
       "      <th>Wynik</th>\n",
       "      <th>0</th>\n",
       "      <th>1</th>\n",
       "    </tr>\n",
       "    <tr>\n",
       "      <th>Umowa_o_pracę</th>\n",
       "      <th></th>\n",
       "      <th></th>\n",
       "    </tr>\n",
       "  </thead>\n",
       "  <tbody>\n",
       "    <tr>\n",
       "      <th>0</th>\n",
       "      <td>273</td>\n",
       "      <td>93</td>\n",
       "    </tr>\n",
       "    <tr>\n",
       "      <th>1</th>\n",
       "      <td>84</td>\n",
       "      <td>203</td>\n",
       "    </tr>\n",
       "  </tbody>\n",
       "</table>\n",
       "</div>"
      ],
      "text/plain": [
       "Wynik            0    1\n",
       "Umowa_o_pracę          \n",
       "0              273   93\n",
       "1               84  203"
      ]
     },
     "execution_count": 300,
     "metadata": {},
     "output_type": "execute_result"
    }
   ],
   "source": [
    "pd.crosstab(df.Umowa_o_pracę, df.Wynik)"
   ]
  },
  {
   "cell_type": "code",
   "execution_count": 301,
   "metadata": {},
   "outputs": [],
   "source": [
    "# cat = pd.DataFrame(df.Umowa_o_pracę.value_counts())\n",
    "# cat.rename(columns={'Umowa_o_pracę':'Num_of_obs'}, inplace=True)\n",
    "# cat['Per_of_obs'] = cat['Num_of_obs']/df.shape[0]*100\n",
    "# print(cat)\n",
    "# pd.crosstab(df.Umowa_o_pracę, df.Wynik)"
   ]
  },
  {
   "cell_type": "markdown",
   "metadata": {},
   "source": [
    "W większości przypadków osoby z umową o prace otrzymują kartę kredytową.\n",
    "\n",
    "Bez względu na wybrany typ podziału drzewa (gini, entropia), powyższe zmienne, to moi faworyci 🙂\n",
    "\n",
    "p.s. Jeśli jesteś ciekaw, jak wypadły pozostałe zmienne, to na moim GitHub-ie znajdzie notebook Jupyter z kodem i pełnymi wynikami. Link zamieszczam na końcu tego wpisu."
   ]
  },
  {
   "cell_type": "markdown",
   "metadata": {},
   "source": [
    "# Przygotowanie danych do modelowania"
   ]
  },
  {
   "cell_type": "code",
   "execution_count": 302,
   "metadata": {},
   "outputs": [
    {
     "data": {
      "text/html": [
       "<div>\n",
       "<style scoped>\n",
       "    .dataframe tbody tr th:only-of-type {\n",
       "        vertical-align: middle;\n",
       "    }\n",
       "\n",
       "    .dataframe tbody tr th {\n",
       "        vertical-align: top;\n",
       "    }\n",
       "\n",
       "    .dataframe thead th {\n",
       "        text-align: right;\n",
       "    }\n",
       "</style>\n",
       "<table border=\"1\" class=\"dataframe\">\n",
       "  <thead>\n",
       "    <tr style=\"text-align: right;\">\n",
       "      <th></th>\n",
       "      <th>Stan_cywilny</th>\n",
       "      <th>Bank</th>\n",
       "      <th>Wykształcenie</th>\n",
       "      <th>Pochodzenie</th>\n",
       "      <th>Obywatelstwo</th>\n",
       "    </tr>\n",
       "  </thead>\n",
       "  <tbody>\n",
       "    <tr>\n",
       "      <th>count</th>\n",
       "      <td>653</td>\n",
       "      <td>653</td>\n",
       "      <td>653</td>\n",
       "      <td>653</td>\n",
       "      <td>653</td>\n",
       "    </tr>\n",
       "    <tr>\n",
       "      <th>unique</th>\n",
       "      <td>3</td>\n",
       "      <td>3</td>\n",
       "      <td>14</td>\n",
       "      <td>9</td>\n",
       "      <td>3</td>\n",
       "    </tr>\n",
       "    <tr>\n",
       "      <th>top</th>\n",
       "      <td>u</td>\n",
       "      <td>g</td>\n",
       "      <td>c</td>\n",
       "      <td>v</td>\n",
       "      <td>g</td>\n",
       "    </tr>\n",
       "    <tr>\n",
       "      <th>freq</th>\n",
       "      <td>499</td>\n",
       "      <td>499</td>\n",
       "      <td>133</td>\n",
       "      <td>381</td>\n",
       "      <td>598</td>\n",
       "    </tr>\n",
       "  </tbody>\n",
       "</table>\n",
       "</div>"
      ],
      "text/plain": [
       "       Stan_cywilny Bank Wykształcenie Pochodzenie Obywatelstwo\n",
       "count           653  653           653         653          653\n",
       "unique            3    3            14           9            3\n",
       "top               u    g             c           v            g\n",
       "freq            499  499           133         381          598"
      ]
     },
     "execution_count": 302,
     "metadata": {},
     "output_type": "execute_result"
    }
   ],
   "source": [
    "df.describe(include=['category'])"
   ]
  },
  {
   "cell_type": "markdown",
   "metadata": {},
   "source": [
    "Zamieniam kodowanie wybranych zmiennych:\n",
    "\n"
   ]
  },
  {
   "cell_type": "code",
   "execution_count": 303,
   "metadata": {},
   "outputs": [],
   "source": [
    "df = pd.concat([df, pd.get_dummies(df.Stan_cywilny, prefix='Stan_cywilny__', dtype='int')], axis = 1)\n",
    "df = pd.concat([df,pd.get_dummies(df.Bank, prefix='Bank__', dtype='int')], axis = 1)\n",
    "df = pd.concat([df,pd.get_dummies(df.Wykształcenie, prefix='Wykształcenie__', dtype='int')], axis = 1)\n",
    "df = pd.concat([df,pd.get_dummies(df.Pochodzenie, prefix='Pochodzenie__', dtype='int')], axis = 1)\n",
    "df = pd.concat([df,pd.get_dummies(df.Obywatelstwo, prefix='Obywatelstwo__', dtype='int')], axis = 1)"
   ]
  },
  {
   "cell_type": "code",
   "execution_count": 304,
   "metadata": {},
   "outputs": [
    {
     "data": {
      "text/html": [
       "<div>\n",
       "<style scoped>\n",
       "    .dataframe tbody tr th:only-of-type {\n",
       "        vertical-align: middle;\n",
       "    }\n",
       "\n",
       "    .dataframe tbody tr th {\n",
       "        vertical-align: top;\n",
       "    }\n",
       "\n",
       "    .dataframe thead th {\n",
       "        text-align: right;\n",
       "    }\n",
       "</style>\n",
       "<table border=\"1\" class=\"dataframe\">\n",
       "  <thead>\n",
       "    <tr style=\"text-align: right;\">\n",
       "      <th></th>\n",
       "      <th>Score_kredytowy</th>\n",
       "      <th>Prawo_jazdy</th>\n",
       "      <th>Obywatelstwo</th>\n",
       "      <th>Saldo_konta</th>\n",
       "      <th>Przychody</th>\n",
       "      <th>Wynik</th>\n",
       "      <th>Stan_cywilny___l</th>\n",
       "      <th>Stan_cywilny___u</th>\n",
       "      <th>Stan_cywilny___y</th>\n",
       "      <th>Bank___g</th>\n",
       "    </tr>\n",
       "  </thead>\n",
       "  <tbody>\n",
       "    <tr>\n",
       "      <th>0</th>\n",
       "      <td>1</td>\n",
       "      <td>0</td>\n",
       "      <td>g</td>\n",
       "      <td>202.000</td>\n",
       "      <td>0</td>\n",
       "      <td>1</td>\n",
       "      <td>0</td>\n",
       "      <td>1</td>\n",
       "      <td>0</td>\n",
       "      <td>1</td>\n",
       "    </tr>\n",
       "    <tr>\n",
       "      <th>1</th>\n",
       "      <td>6</td>\n",
       "      <td>0</td>\n",
       "      <td>g</td>\n",
       "      <td>43.000</td>\n",
       "      <td>560</td>\n",
       "      <td>1</td>\n",
       "      <td>0</td>\n",
       "      <td>1</td>\n",
       "      <td>0</td>\n",
       "      <td>1</td>\n",
       "    </tr>\n",
       "    <tr>\n",
       "      <th>2</th>\n",
       "      <td>0</td>\n",
       "      <td>0</td>\n",
       "      <td>g</td>\n",
       "      <td>280.000</td>\n",
       "      <td>824</td>\n",
       "      <td>1</td>\n",
       "      <td>0</td>\n",
       "      <td>1</td>\n",
       "      <td>0</td>\n",
       "      <td>1</td>\n",
       "    </tr>\n",
       "    <tr>\n",
       "      <th>3</th>\n",
       "      <td>5</td>\n",
       "      <td>1</td>\n",
       "      <td>g</td>\n",
       "      <td>100.000</td>\n",
       "      <td>3</td>\n",
       "      <td>1</td>\n",
       "      <td>0</td>\n",
       "      <td>1</td>\n",
       "      <td>0</td>\n",
       "      <td>1</td>\n",
       "    </tr>\n",
       "    <tr>\n",
       "      <th>4</th>\n",
       "      <td>0</td>\n",
       "      <td>0</td>\n",
       "      <td>s</td>\n",
       "      <td>120.000</td>\n",
       "      <td>0</td>\n",
       "      <td>1</td>\n",
       "      <td>0</td>\n",
       "      <td>1</td>\n",
       "      <td>0</td>\n",
       "      <td>1</td>\n",
       "    </tr>\n",
       "    <tr>\n",
       "      <th>...</th>\n",
       "      <td>...</td>\n",
       "      <td>...</td>\n",
       "      <td>...</td>\n",
       "      <td>...</td>\n",
       "      <td>...</td>\n",
       "      <td>...</td>\n",
       "      <td>...</td>\n",
       "      <td>...</td>\n",
       "      <td>...</td>\n",
       "      <td>...</td>\n",
       "    </tr>\n",
       "    <tr>\n",
       "      <th>685</th>\n",
       "      <td>0</td>\n",
       "      <td>0</td>\n",
       "      <td>g</td>\n",
       "      <td>260.000</td>\n",
       "      <td>0</td>\n",
       "      <td>0</td>\n",
       "      <td>0</td>\n",
       "      <td>0</td>\n",
       "      <td>1</td>\n",
       "      <td>0</td>\n",
       "    </tr>\n",
       "    <tr>\n",
       "      <th>686</th>\n",
       "      <td>2</td>\n",
       "      <td>1</td>\n",
       "      <td>g</td>\n",
       "      <td>200.000</td>\n",
       "      <td>394</td>\n",
       "      <td>0</td>\n",
       "      <td>0</td>\n",
       "      <td>1</td>\n",
       "      <td>0</td>\n",
       "      <td>1</td>\n",
       "    </tr>\n",
       "    <tr>\n",
       "      <th>687</th>\n",
       "      <td>1</td>\n",
       "      <td>1</td>\n",
       "      <td>g</td>\n",
       "      <td>200.000</td>\n",
       "      <td>1</td>\n",
       "      <td>0</td>\n",
       "      <td>0</td>\n",
       "      <td>0</td>\n",
       "      <td>1</td>\n",
       "      <td>0</td>\n",
       "    </tr>\n",
       "    <tr>\n",
       "      <th>688</th>\n",
       "      <td>0</td>\n",
       "      <td>0</td>\n",
       "      <td>g</td>\n",
       "      <td>280.000</td>\n",
       "      <td>750</td>\n",
       "      <td>0</td>\n",
       "      <td>0</td>\n",
       "      <td>1</td>\n",
       "      <td>0</td>\n",
       "      <td>1</td>\n",
       "    </tr>\n",
       "    <tr>\n",
       "      <th>689</th>\n",
       "      <td>0</td>\n",
       "      <td>1</td>\n",
       "      <td>g</td>\n",
       "      <td>0.000</td>\n",
       "      <td>0</td>\n",
       "      <td>0</td>\n",
       "      <td>0</td>\n",
       "      <td>1</td>\n",
       "      <td>0</td>\n",
       "      <td>1</td>\n",
       "    </tr>\n",
       "  </tbody>\n",
       "</table>\n",
       "<p>653 rows × 10 columns</p>\n",
       "</div>"
      ],
      "text/plain": [
       "     Score_kredytowy  Prawo_jazdy Obywatelstwo  Saldo_konta  Przychody  Wynik  \\\n",
       "0                  1            0            g      202.000          0      1   \n",
       "1                  6            0            g       43.000        560      1   \n",
       "2                  0            0            g      280.000        824      1   \n",
       "3                  5            1            g      100.000          3      1   \n",
       "4                  0            0            s      120.000          0      1   \n",
       "..               ...          ...          ...          ...        ...    ...   \n",
       "685                0            0            g      260.000          0      0   \n",
       "686                2            1            g      200.000        394      0   \n",
       "687                1            1            g      200.000          1      0   \n",
       "688                0            0            g      280.000        750      0   \n",
       "689                0            1            g        0.000          0      0   \n",
       "\n",
       "     Stan_cywilny___l  Stan_cywilny___u  Stan_cywilny___y  Bank___g  \n",
       "0                   0                 1                 0         1  \n",
       "1                   0                 1                 0         1  \n",
       "2                   0                 1                 0         1  \n",
       "3                   0                 1                 0         1  \n",
       "4                   0                 1                 0         1  \n",
       "..                ...               ...               ...       ...  \n",
       "685                 0                 0                 1         0  \n",
       "686                 0                 1                 0         1  \n",
       "687                 0                 0                 1         0  \n",
       "688                 0                 1                 0         1  \n",
       "689                 0                 1                 0         1  \n",
       "\n",
       "[653 rows x 10 columns]"
      ]
     },
     "execution_count": 304,
     "metadata": {},
     "output_type": "execute_result"
    }
   ],
   "source": [
    "df.iloc[:,10:20]"
   ]
  },
  {
   "cell_type": "markdown",
   "metadata": {},
   "source": [
    "Usuwam zbędne kolumny:\n",
    "\n"
   ]
  },
  {
   "cell_type": "code",
   "execution_count": 305,
   "metadata": {},
   "outputs": [],
   "source": [
    "df.drop(['Stan_cywilny', 'Bank', 'Wykształcenie', 'Pochodzenie', 'Obywatelstwo'], axis = 1, inplace = True)"
   ]
  },
  {
   "cell_type": "markdown",
   "metadata": {},
   "source": [
    "Po wykonaniu powyższych operacji w zbiorze są 43 zmienne. Zdecydowanie za dużo. Negatywnie wpłynie to na interpretowalność (i pewnie na sam wynik :)), dlatego będzie trzeba coś z tym zrobić.\n"
   ]
  },
  {
   "cell_type": "markdown",
   "metadata": {},
   "source": [
    "#### Podział zbioru\n",
    "Dzielę zbiór na 2 części:\n",
    "\n",
    "- Zbiór treningowy – na nim wykonam walidację krzyżową. Celem sprawdzianu krzyżowego będzie dobór parametrów algorytmu i zmiennych użytych w modelu.\n",
    "- Zbiór testowy – finalny sprawdzian dla zbudowanego modelu. Sprawdzę jak zbudowany algorytm radzi sobie z danymi, których nigdy wcześniej nie widział.\n",
    "\n",
    "Podział jaki stosuję to:\n",
    "\n",
    "- 80% – zbiór treningowy i jednocześnie walidacyjny,\n",
    "- 20% – zbiór testowy.\n",
    "\n",
    "Przy podziale uwzględniam stratyfikację. Dzięki temu proporcje wniosków odrzuconych do zaakceptowanych będą takie same w obu zbiorach."
   ]
  },
  {
   "cell_type": "markdown",
   "metadata": {},
   "source": [
    "Zbiór przed podziałem:\n",
    "\n"
   ]
  },
  {
   "cell_type": "code",
   "execution_count": 306,
   "metadata": {},
   "outputs": [
    {
     "data": {
      "text/plain": [
       "Wynik\n",
       "0   0.547\n",
       "1   0.453\n",
       "Name: proportion, dtype: float64"
      ]
     },
     "execution_count": 306,
     "metadata": {},
     "output_type": "execute_result"
    }
   ],
   "source": [
    "df.Wynik.value_counts(normalize=True)"
   ]
  },
  {
   "cell_type": "markdown",
   "metadata": {},
   "source": [
    "Dzielę zbiór (random_state, to jak zwykle data wykonywania analizy:)):"
   ]
  },
  {
   "cell_type": "code",
   "execution_count": 307,
   "metadata": {},
   "outputs": [],
   "source": [
    "y = df.Wynik # kopiuje zmienną celu do osobnej zmiennej i usuwam ją ze zbioru\n",
    "df.drop('Wynik', axis = 1, inplace = True)\n",
    "x_tr, x_te, y_tr, y_te = train_test_split(df, y, test_size = 0.2, random_state = 1, stratify = y)"
   ]
  },
  {
   "cell_type": "code",
   "execution_count": 308,
   "metadata": {},
   "outputs": [
    {
     "name": "stdout",
     "output_type": "stream",
     "text": [
      "Wynik\n",
      "0   0.546\n",
      "1   0.454\n",
      "Name: proportion, dtype: float64\n",
      "Wynik\n",
      "0   0.550\n",
      "1   0.450\n",
      "Name: proportion, dtype: float64\n"
     ]
    }
   ],
   "source": [
    "print(y_tr.value_counts(normalize = True))\n",
    "print(y_te.value_counts(normalize = True))"
   ]
  },
  {
   "cell_type": "markdown",
   "metadata": {},
   "source": [
    "Ok, mam zatem podzielony i oczyszczony zbiór. Mogę zatem przejść dalej. Mój plan na modelowanie wygląda następująco:\n",
    "\n",
    "1. Zbuduję „czysty” model, który będzie benchmarkiem. Zawierać on będzie wszystkie zmienne i domyślne parametry algorytmu.\n",
    "2. Zoptymalizuję parametry modelu dla wszystkich zmiennych z użyciem GridSearchCV.\n",
    "3. Z użyciem metody RFE wybiorę zestaw zmiennych, które najlepiej opisuję zmienną celu.\n",
    "4. Ponownie dokonam optymalizacji parametrów modelu, tym razem dla podzbioru zmiennych."
   ]
  },
  {
   "cell_type": "markdown",
   "metadata": {},
   "source": [
    "# Model 1\n",
    "Opis modelu:\n",
    "\n",
    "- dobór zmiennych: brak,\n",
    "- dobór parametrów: brak.\n",
    "\n",
    "Będzie to mój benchmark. Do wyniku uzyskanego przez ten model będę się odnosić w kolejnych punktach. Wynik będę każdorazowo badać na podstawie średniej z 10 zbudowanych modeli w walidacji krzyżowej.\n",
    "\n",
    "W tym miejscu chciałbym odpowiedzieć na dwa ważne pytania:\n",
    "\n",
    "- **Czemu akurat walidacja krzyżowa?** Otóż, jak wspominałem, **drzewo decyzyjne ma tendencję do zbytniego dopasowywania się do zbioru (pisałem o tym w jednym z poprzednich wpisów: Wybór odpowiedniego algorytmu)**. Przy klasycznym podziale na zbiór uczący i walidacyjny, mógłbym przy optymalizacji parametrów modelu zabrnąć w ślepą uliczkę, kierując się wynikiem, jaki osiągam. Wykonując dziesięciokrotny podział na zbiór uczący i walidacyjny, uśredniam wynik i jest on bardziej miarodajny. **Tak więc, w przypadku drzewa decyzyjnego walidacja krzyżowa jest pierwszym sposobem, który pozwoli mi uniknąć przeuczenia modelu.**\n",
    "\n",
    "- **Jaki jest drugi sposób na uniknięcie zbytniego dopasowania modelu?** Dobór parametrów modelu. A dokładniej, przycięcie drzewa i sprawienie by nie było ono „zbyt pewne” podejmowanych decyzji."
   ]
  },
  {
   "cell_type": "code",
   "execution_count": 309,
   "metadata": {},
   "outputs": [
    {
     "name": "stdout",
     "output_type": "stream",
     "text": [
      "Średnie Accuracy: 0.812\n"
     ]
    }
   ],
   "source": [
    "model = DecisionTreeClassifier(random_state=42)\n",
    "cv = cross_val_score(model, x_tr, y_tr, cv = 10, scoring = 'accuracy')\n",
    "print('Średnie Accuracy: ' + str(cv.mean().round(3)))\n",
    "# print('Stabilność: ' + str((cv.std()*100/cv.mean()).round(3)) + '%')"
   ]
  },
  {
   "cell_type": "markdown",
   "metadata": {},
   "source": [
    "Średnie Accuracy: 0.804 – tego wyniku będę używał jako odniesienia przy kolejnych iteracjach modelowania.\n",
    "Stabilność: 6.326%\n",
    "\n",
    "Udało się na starcie osiągnąć średni poziom Accuracy na poziomie 0.804. Nie jest źle 🙂 Minusem jest jednak liczba zastosowanych zmiennych (42). Tak duża liczba jest nie do przyjęcia, ale poradzę sobie z tym w kolejnych krokach. 🙂\n",
    "\n",
    "Dodatkowo sprawdzę jak „surowy” model wypada na zbiorze testowym. Dzięki temu, na koniec projektu będę mógł sprawdzić o ile procent zwiększyłem (lub zmniejszyłem) wynik."
   ]
  },
  {
   "cell_type": "code",
   "execution_count": 310,
   "metadata": {},
   "outputs": [
    {
     "name": "stdout",
     "output_type": "stream",
     "text": [
      "Benchmark: 0.809\n"
     ]
    }
   ],
   "source": [
    "model.fit(x_tr, y_tr)\n",
    "pred = model.predict(x_te)\n",
    "print('Benchmark: ' + str(round(accuracy_score(pred, y_te),3)))"
   ]
  },
  {
   "cell_type": "markdown",
   "metadata": {},
   "source": [
    "Benchmark: 0.809 – tego wyniku użyję do końcowego porównania."
   ]
  },
  {
   "cell_type": "markdown",
   "metadata": {},
   "source": [
    "# Model 2\n",
    "\n",
    "Opis modelu:\n",
    "\n",
    "- dobór zmiennych: brak,\n",
    "- dobór parametrów: GridsearchCV #1.\n",
    "\n",
    "Dodaję do modelu **GridSearchCV, który pomoże znaleźć optymalne (dla tego zestawu zmiennych) parametry drzewa.**"
   ]
  },
  {
   "cell_type": "markdown",
   "metadata": {},
   "source": [
    "Uwaga: celowo nie zagłębiam się w szczegóły działania: GridSearchCV i cross_val_score. W innych plikach jest wyjaśniona teoria."
   ]
  },
  {
   "cell_type": "markdown",
   "metadata": {},
   "source": [
    "Parametry, których będę szukać, to:\n",
    "\n",
    "- kryterium podziału drzewa,\n",
    "- sposób dzielenia kolejnych „węzłów”,\n",
    "- maksymalna głębokość drzewa,\n",
    "- minimalna liczba obserwacji potrzebnych do podziału,\n",
    "- minimalna liczba obserwacji do zbudowania liścia.\n",
    "\n",
    "\n",
    "Definiuję parametry:"
   ]
  },
  {
   "cell_type": "code",
   "execution_count": 311,
   "metadata": {},
   "outputs": [],
   "source": [
    "parameters = {'criterion':('entropy', 'gini'), \n",
    "              'splitter':('best','random'), \n",
    "              'max_depth':np.arange(1,10), \n",
    "              'min_samples_split':np.arange(2,10), \n",
    "              'min_samples_leaf':np.arange(1,5)}"
   ]
  },
  {
   "cell_type": "markdown",
   "metadata": {},
   "source": [
    "Użyję teraz GridSearchCV() do znalezienia optymalnych parametrów modelu. Dla każdego zestawu parametrów zostanie wykonana walidacja krzyżowa na 10 podzbiorach w celu uśrednienia wyniku i sprawdzenia jak model zachowuje się dla różnych zestawów danych."
   ]
  },
  {
   "cell_type": "code",
   "execution_count": 312,
   "metadata": {},
   "outputs": [
    {
     "data": {
      "text/plain": [
       "{'criterion': 'gini',\n",
       " 'max_depth': 6,\n",
       " 'min_samples_leaf': 2,\n",
       " 'min_samples_split': 3,\n",
       " 'splitter': 'random'}"
      ]
     },
     "execution_count": 312,
     "metadata": {},
     "output_type": "execute_result"
    }
   ],
   "source": [
    "classifier = GridSearchCV(DecisionTreeClassifier(), parameters, cv=10)\n",
    "classifier.fit(x_tr, y_tr)\n",
    "classifier.best_params_"
   ]
  },
  {
   "cell_type": "markdown",
   "metadata": {},
   "source": [
    "Wybrane parametry to:\n",
    "\n",
    "- criterion: entropy,\n",
    "- max_depth: 6,\n",
    "- min_samples_leaf: 1,\n",
    "- min_samples_split: 5,\n",
    "- splitter: random."
   ]
  },
  {
   "cell_type": "code",
   "execution_count": 313,
   "metadata": {},
   "outputs": [
    {
     "name": "stdout",
     "output_type": "stream",
     "text": [
      "Średnie Accuracy: 0.856\n"
     ]
    }
   ],
   "source": [
    "model = DecisionTreeClassifier(**classifier.best_params_, random_state=42)\n",
    "cv = cross_val_score(model, x_tr, y_tr, cv = 10, scoring = 'accuracy')\n",
    "print('Średnie Accuracy: ' + str(cv.mean().round(3)))\n",
    "# print('Stabilność: ' + str((cv.std()*100/cv.mean()).round(3)) + '%')"
   ]
  },
  {
   "cell_type": "markdown",
   "metadata": {},
   "source": [
    "Niestety nieco spadła stabilność modelu, ale jest za to znacząca poprawa dokładności. 🙂\n",
    "\n"
   ]
  },
  {
   "cell_type": "code",
   "execution_count": 314,
   "metadata": {},
   "outputs": [
    {
     "name": "stdout",
     "output_type": "stream",
     "text": [
      "Model 2: 0.878\n"
     ]
    }
   ],
   "source": [
    "model.fit(x_tr, y_tr)\n",
    "pred = model.predict(x_te)\n",
    "print('Model 2: ' + str(round(accuracy_score(pred, y_te),3)))"
   ]
  },
  {
   "cell_type": "markdown",
   "metadata": {},
   "source": [
    "# Model 3\n",
    "\n",
    "Opis modelu:\n",
    "\n",
    "- dobór zmiennych: feature_importances,\n",
    "- dobór parametrów: GridsearchCV #1.\n",
    "\n",
    "Zgodnie z planem, dodaję kolejne usprawnienie w postaci metody doboru zmiennych RFE (ang. recursive feature elimination).\n",
    "Buduję model, oparty o algorytm zawierający optymalne parametry:"
   ]
  },
  {
   "cell_type": "code",
   "execution_count": 315,
   "metadata": {},
   "outputs": [],
   "source": [
    "model = DecisionTreeClassifier(**classifier.best_params_, random_state=42)"
   ]
  },
  {
   "cell_type": "code",
   "execution_count": 316,
   "metadata": {},
   "outputs": [
    {
     "data": {
      "text/plain": [
       "array([0.        , 0.        , 0.00389585, 0.00744264, 0.73204672,\n",
       "       0.06698272, 0.00998023, 0.00576982, 0.03547503, 0.0087327 ,\n",
       "       0.01904067, 0.00434155, 0.        , 0.00595412, 0.        ,\n",
       "       0.01936065, 0.        , 0.00163448, 0.        , 0.        ,\n",
       "       0.        , 0.        , 0.01538663, 0.        , 0.01061912,\n",
       "       0.        , 0.00329586, 0.        , 0.01352949, 0.00635841,\n",
       "       0.00161246, 0.        , 0.        , 0.0230343 , 0.        ,\n",
       "       0.00256804, 0.        , 0.00178973, 0.00114879, 0.        ,\n",
       "       0.        , 0.        ])"
      ]
     },
     "execution_count": 316,
     "metadata": {},
     "output_type": "execute_result"
    }
   ],
   "source": [
    "from sklearn.tree import DecisionTreeClassifier\n",
    "from sklearn.feature_selection import SelectFromModel\n",
    "\n",
    "model.fit(x_tr, y_tr)\n",
    "feature_importances = model.feature_importances_\n",
    "feature_importances"
   ]
  },
  {
   "cell_type": "code",
   "execution_count": 317,
   "metadata": {},
   "outputs": [
    {
     "data": {
      "text/plain": [
       "Index(['Płeć', 'Wiek', 'Zadłużenie', 'Lata_pracy', 'Poz_hist_kred',\n",
       "       'Umowa_o_pracę', 'Score_kredytowy', 'Prawo_jazdy', 'Saldo_konta',\n",
       "       'Przychody', 'Stan_cywilny___l', 'Stan_cywilny___u', 'Stan_cywilny___y',\n",
       "       'Bank___g', 'Bank___gg', 'Bank___p', 'Wykształcenie___aa',\n",
       "       'Wykształcenie___c', 'Wykształcenie___cc', 'Wykształcenie___d',\n",
       "       'Wykształcenie___e', 'Wykształcenie___ff', 'Wykształcenie___i',\n",
       "       'Wykształcenie___j', 'Wykształcenie___k', 'Wykształcenie___m',\n",
       "       'Wykształcenie___q', 'Wykształcenie___r', 'Wykształcenie___w',\n",
       "       'Wykształcenie___x', 'Pochodzenie___bb', 'Pochodzenie___dd',\n",
       "       'Pochodzenie___ff', 'Pochodzenie___h', 'Pochodzenie___j',\n",
       "       'Pochodzenie___n', 'Pochodzenie___o', 'Pochodzenie___v',\n",
       "       'Pochodzenie___z', 'Obywatelstwo___g', 'Obywatelstwo___p',\n",
       "       'Obywatelstwo___s'],\n",
       "      dtype='object')"
      ]
     },
     "execution_count": 317,
     "metadata": {},
     "output_type": "execute_result"
    }
   ],
   "source": [
    "feature_names = x_tr.columns\n",
    "feature_names"
   ]
  },
  {
   "cell_type": "code",
   "execution_count": 318,
   "metadata": {},
   "outputs": [
    {
     "data": {
      "text/plain": [
       "array([ 4,  5,  8, 33, 15, 10, 22, 28, 24,  6,  9,  3, 29, 13,  7, 11,  2,\n",
       "       26, 35, 37, 17, 30, 38, 14,  1, 12, 41, 20, 16, 18, 19, 40, 21, 23,\n",
       "       25, 27, 31, 32, 34, 36, 39,  0], dtype=int64)"
      ]
     },
     "execution_count": 318,
     "metadata": {},
     "output_type": "execute_result"
    }
   ],
   "source": [
    "# Sortowanie ważności cech malejąco\n",
    "indices = np.argsort(feature_importances)[::-1]\n",
    "indices"
   ]
  },
  {
   "cell_type": "code",
   "execution_count": 319,
   "metadata": {},
   "outputs": [
    {
     "data": {
      "image/png": "[encoded data removed]",
      "text/plain": [
       "<Figure size 1000x600 with 1 Axes>"
      ]
     },
     "metadata": {},
     "output_type": "display_data"
    }
   ],
   "source": [
    "import matplotlib.pyplot as plt\n",
    "# Tworzenie wykresu\n",
    "plt.figure(figsize=(10, 6))\n",
    "plt.title('Ważność cech')\n",
    "plt.bar(range(x_tr.shape[1]), feature_importances[indices])\n",
    "plt.xticks(range(x_tr.shape[1]), [feature_names[i] for i in indices], rotation=45, ha='right')\n",
    "plt.xlabel('Cechy')\n",
    "plt.ylabel('Ważność cechy')\n",
    "plt.tight_layout()\n",
    "plt.show()"
   ]
  },
  {
   "cell_type": "code",
   "execution_count": 320,
   "metadata": {},
   "outputs": [
    {
     "data": {
      "text/plain": [
       "[('Zadłużenie', 0.0038958462254278137),\n",
       " ('Lata_pracy', 0.007442644678846938),\n",
       " ('Poz_hist_kred', 0.7320467226976524),\n",
       " ('Umowa_o_pracę', 0.06698272021113788),\n",
       " ('Score_kredytowy', 0.00998023210268238),\n",
       " ('Prawo_jazdy', 0.00576982168436325),\n",
       " ('Saldo_konta', 0.03547503175494577),\n",
       " ('Przychody', 0.008732703089847083),\n",
       " ('Stan_cywilny___l', 0.019040671713241628),\n",
       " ('Stan_cywilny___u', 0.004341547305755196),\n",
       " ('Bank___g', 0.00595411574307756),\n",
       " ('Bank___p', 0.0193606530381434),\n",
       " ('Wykształcenie___c', 0.001634476150857466),\n",
       " ('Wykształcenie___i', 0.01538662841087822),\n",
       " ('Wykształcenie___k', 0.010619118172891965),\n",
       " ('Wykształcenie___q', 0.003295857144416929),\n",
       " ('Wykształcenie___w', 0.01352948501716354),\n",
       " ('Wykształcenie___x', 0.006358409232937008),\n",
       " ('Pochodzenie___bb', 0.0016124568132087568),\n",
       " ('Pochodzenie___h', 0.023034299880383715),\n",
       " ('Pochodzenie___n', 0.002568041165147132),\n",
       " ('Pochodzenie___v', 0.0017897308161780188),\n",
       " ('Pochodzenie___z', 0.0011487869508159628)]"
      ]
     },
     "execution_count": 320,
     "metadata": {},
     "output_type": "execute_result"
    }
   ],
   "source": [
    "# Filtrowanie cech o ważności powyżej progu\n",
    "important_features = [(name, importance) \n",
    "                      for name, importance in zip(feature_names, feature_importances) \n",
    "                      if importance > 0]\n",
    "important_features"
   ]
  },
  {
   "cell_type": "code",
   "execution_count": 321,
   "metadata": {},
   "outputs": [
    {
     "data": {
      "text/plain": [
       "[('Poz_hist_kred', 0.7320467226976524),\n",
       " ('Umowa_o_pracę', 0.06698272021113788),\n",
       " ('Saldo_konta', 0.03547503175494577),\n",
       " ('Pochodzenie___h', 0.023034299880383715),\n",
       " ('Bank___p', 0.0193606530381434),\n",
       " ('Stan_cywilny___l', 0.019040671713241628),\n",
       " ('Wykształcenie___i', 0.01538662841087822),\n",
       " ('Wykształcenie___w', 0.01352948501716354),\n",
       " ('Wykształcenie___k', 0.010619118172891965),\n",
       " ('Score_kredytowy', 0.00998023210268238),\n",
       " ('Przychody', 0.008732703089847083),\n",
       " ('Lata_pracy', 0.007442644678846938),\n",
       " ('Wykształcenie___x', 0.006358409232937008),\n",
       " ('Bank___g', 0.00595411574307756),\n",
       " ('Prawo_jazdy', 0.00576982168436325),\n",
       " ('Stan_cywilny___u', 0.004341547305755196),\n",
       " ('Zadłużenie', 0.0038958462254278137),\n",
       " ('Wykształcenie___q', 0.003295857144416929),\n",
       " ('Pochodzenie___n', 0.002568041165147132),\n",
       " ('Pochodzenie___v', 0.0017897308161780188),\n",
       " ('Wykształcenie___c', 0.001634476150857466),\n",
       " ('Pochodzenie___bb', 0.0016124568132087568),\n",
       " ('Pochodzenie___z', 0.0011487869508159628)]"
      ]
     },
     "execution_count": 321,
     "metadata": {},
     "output_type": "execute_result"
    }
   ],
   "source": [
    "important_features.sort(key=lambda x: x[1], reverse=True)\n",
    "important_features"
   ]
  },
  {
   "cell_type": "code",
   "execution_count": 322,
   "metadata": {},
   "outputs": [
    {
     "data": {
      "text/plain": [
       "['Poz_hist_kred',\n",
       " 'Umowa_o_pracę',\n",
       " 'Saldo_konta',\n",
       " 'Pochodzenie___h',\n",
       " 'Bank___p',\n",
       " 'Stan_cywilny___l',\n",
       " 'Wykształcenie___i',\n",
       " 'Wykształcenie___w',\n",
       " 'Wykształcenie___k',\n",
       " 'Score_kredytowy',\n",
       " 'Przychody',\n",
       " 'Lata_pracy',\n",
       " 'Wykształcenie___x',\n",
       " 'Bank___g',\n",
       " 'Prawo_jazdy',\n",
       " 'Stan_cywilny___u',\n",
       " 'Zadłużenie',\n",
       " 'Wykształcenie___q',\n",
       " 'Pochodzenie___n',\n",
       " 'Pochodzenie___v',\n",
       " 'Wykształcenie___c',\n",
       " 'Pochodzenie___bb',\n",
       " 'Pochodzenie___z']"
      ]
     },
     "execution_count": 322,
     "metadata": {},
     "output_type": "execute_result"
    }
   ],
   "source": [
    "# Metoda 1: list comprehension\n",
    "feature_names = [feature[0] for feature in important_features]\n",
    "feature_names"
   ]
  },
  {
   "cell_type": "code",
   "execution_count": 323,
   "metadata": {},
   "outputs": [
    {
     "data": {
      "text/plain": [
       "['Poz_hist_kred',\n",
       " 'Umowa_o_pracę',\n",
       " 'Saldo_konta',\n",
       " 'Pochodzenie___h',\n",
       " 'Bank___p',\n",
       " 'Stan_cywilny___l',\n",
       " 'Wykształcenie___i',\n",
       " 'Wykształcenie___w',\n",
       " 'Wykształcenie___k',\n",
       " 'Score_kredytowy',\n",
       " 'Przychody',\n",
       " 'Lata_pracy',\n",
       " 'Wykształcenie___x',\n",
       " 'Bank___g',\n",
       " 'Prawo_jazdy',\n",
       " 'Stan_cywilny___u',\n",
       " 'Zadłużenie',\n",
       " 'Wykształcenie___q',\n",
       " 'Pochodzenie___n',\n",
       " 'Pochodzenie___v',\n",
       " 'Wykształcenie___c',\n",
       " 'Pochodzenie___bb',\n",
       " 'Pochodzenie___z']"
      ]
     },
     "execution_count": 323,
     "metadata": {},
     "output_type": "execute_result"
    }
   ],
   "source": [
    "# Metoda 2: funkcja map()\n",
    "feature_names = list(map(lambda x: x[0], important_features))\n",
    "feature_names"
   ]
  },
  {
   "cell_type": "markdown",
   "metadata": {},
   "source": [
    "Poniższy kod zawiera dwie pętle, w których:\n",
    "\n",
    "- pierwsza, to 20 iteracji, w których definiuję dwie listy do zbierania wyników,\n",
    "- druga, wykona się każdorazowo po 15 razy. Dobieram w niej zmienne do modelu. Pierwsze wykonanie pętli to dobór 5 najlepszych zmiennych, drugie to 6 najlepszych zmiennych, itd.\n",
    "\n",
    "\n",
    "W pętli numer 2, dla wybranego zestawu zmiennych uczony jest model, z użyciem cross_val_score. W sumie cross_val_score wykona się 300 razy. Dodatkowo w każdej walidacji krzyżowej model jest przecież uczony 10 razy. Mam świadomość, że złożoność obliczeniowa procesu może i nie jest najmniejsza, ale przy tak małym zbiorze, nawet na moim leciwym laptopie całość trwa raptem kilkadziesiąt sekund 🙂\n",
    "\n",
    "Wszystkie wyniki lądują do list: acc_all i stab_all. W pierwszej z nich zapisywana jest dokładność modelu z wybraną liczbą zmiennych, w drugiej natomiast jego stabilność."
   ]
  },
  {
   "cell_type": "code",
   "execution_count": 324,
   "metadata": {},
   "outputs": [],
   "source": [
    "# acc_all = []\n",
    "# stab_all = []\n",
    "# for m in np.arange(0,20):\n",
    "#     stab_loop = []\n",
    "#     acc_loop = []\n",
    "# for n in np.arange(5, 20, 1):\n",
    "#     selector = RFE(model, n, 1)\n",
    "#     cv = cross_val_score(model, x_tr.iloc[:,selector.fit(x_tr, y_tr).support_], y_tr, cv = 10, scoring = 'accuracy')\n",
    "#     acc_loop.append(cv.mean())\n",
    "#     stab_loop.append(cv.std()*100/cv.mean())\n",
    "# acc_all.append(acc_loop)\n",
    "# stab_all.append(stab_loop)\n",
    "\n",
    "# acc = pd.DataFrame(acc_all, columns = np.arange(5, 20, 1))\n",
    "# stab = pd.DataFrame(stab_all, columns = np.arange(5, 20, 1))\n",
    "# print(acc.agg(['mean']))\n",
    "# print(stab.agg(['mean']))"
   ]
  },
  {
   "cell_type": "markdown",
   "metadata": {},
   "source": [
    "Nazwy kolumn w obu tabelach odnoszą się do liczby zmiennych w modelu. Jeśli przyjrzymy się, to łatwo można dostrzec moment, w którym stabilność znacząco się poprawia. Dokładnie po dodaniu dziewiątej zmiennej stabilność znacząco wzrasta, a Accuracy maleje zaledwie o 0.1%. Decyduję się zatem na 9 zmiennych."
   ]
  },
  {
   "cell_type": "code",
   "execution_count": 325,
   "metadata": {},
   "outputs": [
    {
     "name": "stdout",
     "output_type": "stream",
     "text": [
      "Średnie Accuracy: 0.843\n"
     ]
    }
   ],
   "source": [
    "model = DecisionTreeClassifier(**classifier.best_params_, random_state=42)\n",
    "cv = cross_val_score(model, x_tr[feature_names], y_tr, cv = 10, scoring = 'accuracy')\n",
    "print('Średnie Accuracy: ' + str(cv.mean().round(3)))\n",
    "# print('Stabilność: ' + str((cv.std()*100/cv.mean()).round(3)) + '%')"
   ]
  },
  {
   "cell_type": "code",
   "execution_count": 327,
   "metadata": {},
   "outputs": [
    {
     "name": "stdout",
     "output_type": "stream",
     "text": [
      "Model 3: 0.878\n"
     ]
    }
   ],
   "source": [
    "model.fit(x_tr[feature_names], y_tr)\n",
    "pred = model.predict(x_te[feature_names])\n",
    "print('Model 3: ' + str(round(accuracy_score(pred, y_te),3)))"
   ]
  },
  {
   "cell_type": "code",
   "execution_count": 216,
   "metadata": {},
   "outputs": [],
   "source": [
    "xxx = ['Lata_pracy', 'Poz_hist_kred', 'Umowa_o_pracę', 'Saldo_konta', 'Przychody', 'Stan_cywilny___l', 'Stan_cywilny___y', 'Pochodzenie___ff', 'Pochodzenie___h']"
   ]
  },
  {
   "cell_type": "code",
   "execution_count": 221,
   "metadata": {},
   "outputs": [
    {
     "name": "stdout",
     "output_type": "stream",
     "text": [
      "Model 2: 0.878\n"
     ]
    }
   ],
   "source": [
    "# model.fit(x_tr[xxx], y_tr)\n",
    "# pred = model.predict(x_te[xxx])\n",
    "# print('Model 2: ' + str(round(accuracy_score(pred, y_te),3)))"
   ]
  },
  {
   "cell_type": "markdown",
   "metadata": {},
   "source": [
    "# Model 4\n",
    "Opis modelu:\n",
    "\n",
    "- dobór zmiennych: RFE,\n",
    "- dobór parametrów: GridsearchCV.\n",
    "\n",
    "Mając ustalone zmienne zapewniające odpowiednią stabilność i wysoką dokładność, wykonuję dodatkową iterację poszukiwania optymalnych parametrów modelu. Najpierw jednak muszę uruchomić RFE i wybrać 9 najlepszych zmiennych."
   ]
  },
  {
   "cell_type": "markdown",
   "metadata": {},
   "source": [
    "# selector = RFE(model, 9, 1)\n",
    "cols = x_tr.iloc[:,selector.fit(x_tr, y_tr).support_].columns\n",
    "print(cols)"
   ]
  },
  {
   "cell_type": "markdown",
   "metadata": {},
   "source": [
    "Zmiennymi, których użyję w finalnym modelu, są:\n",
    "\n",
    "Lata_pracy,\n",
    "Poz_hist_kred,\n",
    "Umowa_o_pracę,\n",
    "Saldo_konta,\n",
    "Przychody,\n",
    "Stan_cywilny___l,\n",
    "Stan_cywilny___y,\n",
    "Pochodzenie___ff,\n",
    "Pochodzenie___h."
   ]
  },
  {
   "cell_type": "markdown",
   "metadata": {},
   "source": [
    "Jeśli wrócisz do punktu „Eksploracyjna analiza danych”, to zobaczysz, że część wskazanych tam zależności potwierdza się tutaj. Warto więc robić analizę zależności 🙂\n",
    "\n",
    "Uruchamiam drugą wersję GridSearchCV, tym razem dla dziewięciu wybranych zmiennych."
   ]
  },
  {
   "cell_type": "code",
   "execution_count": 328,
   "metadata": {},
   "outputs": [],
   "source": [
    "from sklearn.feature_selection import RFE\n",
    "from sklearn.tree import DecisionTreeClassifier\n",
    "from sklearn.model_selection import cross_val_score"
   ]
  },
  {
   "cell_type": "code",
   "execution_count": 329,
   "metadata": {},
   "outputs": [],
   "source": [
    "def select_features_rfe(X, y, n_features_to_select=None):\n",
    "    # Inicjalizacja klasyfikatora DecisionTree\n",
    "    dt_classifier = DecisionTreeClassifier()\n",
    "    \n",
    "    # Utworzenie RFE\n",
    "    rfe = RFE(\n",
    "        estimator=dt_classifier, \n",
    "        n_features_to_select=n_features_to_select,\n",
    "        step=1\n",
    "    )\n",
    "    \n",
    "    # Dopasowanie RFE\n",
    "    rfe.fit(X, y)\n",
    "    \n",
    "    # Pobranie nazw wybranych cech\n",
    "    selected_features = X.columns[rfe.support_].tolist()\n",
    "    \n",
    "    # Opcjonalna ocena wybranych cech\n",
    "    X_selected = X[selected_features]\n",
    "    cv_scores = cross_val_score(dt_classifier, X_selected, y, cv=5)\n",
    "    \n",
    "    return {\n",
    "        'features': selected_features,\n",
    "        'cv_scores': cv_scores,\n",
    "        'mean_score': cv_scores.mean()\n",
    "    }"
   ]
  },
  {
   "cell_type": "code",
   "execution_count": 330,
   "metadata": {},
   "outputs": [
    {
     "name": "stdout",
     "output_type": "stream",
     "text": [
      "['Wiek', 'Zadłużenie', 'Lata_pracy', 'Poz_hist_kred', 'Umowa_o_pracę', 'Saldo_konta', 'Przychody', 'Stan_cywilny___l', 'Stan_cywilny___y']\n"
     ]
    }
   ],
   "source": [
    "result = select_features_rfe(x_tr, y_tr, n_features_to_select=9)\n",
    "print(result['features'])"
   ]
  },
  {
   "cell_type": "code",
   "execution_count": null,
   "metadata": {},
   "outputs": [],
   "source": [
    "# xxx = ['Lata_pracy', 'Poz_hist_kred', 'Umowa_o_pracę', 'Saldo_konta', 'Przychody', 'Stan_cywilny___l', 'Stan_cywilny___y', 'Pochodzenie___ff', 'Pochodzenie___h']"
   ]
  },
  {
   "cell_type": "code",
   "execution_count": 331,
   "metadata": {},
   "outputs": [],
   "source": [
    "cols = result['features']"
   ]
  },
  {
   "cell_type": "code",
   "execution_count": null,
   "metadata": {},
   "outputs": [],
   "source": []
  },
  {
   "cell_type": "code",
   "execution_count": 332,
   "metadata": {},
   "outputs": [
    {
     "name": "stdout",
     "output_type": "stream",
     "text": [
      "{'criterion': 'entropy', 'max_depth': 5, 'min_samples_leaf': 1, 'min_samples_split': 2, 'splitter': 'random'}\n"
     ]
    }
   ],
   "source": [
    "classifier2 = GridSearchCV(DecisionTreeClassifier(), parameters, cv=10)\n",
    "classifier2.fit(x_tr[cols], y_tr)\n",
    "print(classifier2.best_params_)"
   ]
  },
  {
   "cell_type": "markdown",
   "metadata": {},
   "source": [
    "Finalnie wybrane parametry to:\n",
    "\n",
    "- criterion: entrophy,\n",
    "- max_depth: 6,\n",
    "- min_samples_leaf: 1,\n",
    "- min_samples_split: 4,\n",
    "- splitter: random.\n",
    "\n",
    "Sprawdźmy jeszcze najwyższy wynik, jakiś osiągnął model podczas doboru parametrów."
   ]
  },
  {
   "cell_type": "code",
   "execution_count": null,
   "metadata": {},
   "outputs": [],
   "source": []
  },
  {
   "cell_type": "code",
   "execution_count": null,
   "metadata": {},
   "outputs": [],
   "source": []
  },
  {
   "cell_type": "code",
   "execution_count": 333,
   "metadata": {},
   "outputs": [
    {
     "name": "stdout",
     "output_type": "stream",
     "text": [
      "Średnie Accuracy: 0.862\n"
     ]
    }
   ],
   "source": [
    "cv = cross_val_score(DecisionTreeClassifier(**classifier2.best_params_), x_tr[cols], y_tr, cv = 10, scoring = 'accuracy')\n",
    "print('Średnie Accuracy: ' + str(cv.mean().round(3)))\n",
    "# print('Stabilność: ' + str((cv.std()*100/cv.mean()).round(3)) + '%')"
   ]
  },
  {
   "cell_type": "code",
   "execution_count": 334,
   "metadata": {},
   "outputs": [
    {
     "name": "stdout",
     "output_type": "stream",
     "text": [
      "Finalny wynik to: 0.885\n"
     ]
    }
   ],
   "source": [
    "model = DecisionTreeClassifier(**classifier2.best_params_, random_state=42)\n",
    "model.fit(x_tr[cols], y_tr)\n",
    "pred = model.predict(x_te[cols])\n",
    "print('Finalny wynik to: ' + str(round(accuracy_score(pred, y_te),3)))"
   ]
  },
  {
   "cell_type": "code",
   "execution_count": null,
   "metadata": {},
   "outputs": [],
   "source": []
  },
  {
   "cell_type": "code",
   "execution_count": null,
   "metadata": {},
   "outputs": [],
   "source": []
  },
  {
   "cell_type": "code",
   "execution_count": null,
   "metadata": {},
   "outputs": [],
   "source": []
  },
  {
   "cell_type": "code",
   "execution_count": null,
   "metadata": {},
   "outputs": [],
   "source": []
  },
  {
   "cell_type": "code",
   "execution_count": null,
   "metadata": {},
   "outputs": [],
   "source": []
  },
  {
   "cell_type": "code",
   "execution_count": null,
   "metadata": {},
   "outputs": [],
   "source": []
  },
  {
   "cell_type": "code",
   "execution_count": null,
   "metadata": {},
   "outputs": [],
   "source": []
  },
  {
   "cell_type": "code",
   "execution_count": null,
   "metadata": {},
   "outputs": [],
   "source": []
  },
  {
   "cell_type": "code",
   "execution_count": null,
   "metadata": {},
   "outputs": [],
   "source": []
  },
  {
   "cell_type": "markdown",
   "metadata": {},
   "source": [
    "# Wizualizacja i interpretacja wyników\n",
    "Udało się uzyskać całkiem fajny rezultat, ale jak interpretować predykcje wyznaczone przez model? Otóż jest na to bardzo prosty sposób. Aby to zrobić, wystarczy posłużyć się schematem drzewa, które można wygenerować z użyciem biblioteki ‚sklearn’."
   ]
  },
  {
   "cell_type": "code",
   "execution_count": 197,
   "metadata": {},
   "outputs": [],
   "source": [
    "import graphviz"
   ]
  },
  {
   "cell_type": "code",
   "execution_count": 36,
   "metadata": {},
   "outputs": [],
   "source": [
    "# import os\n",
    "# os.environ[\"PATH\"] += os.pathsep + 'D:\\Anaconda\\Lib\\site-packages\\graphviz'"
   ]
  },
  {
   "cell_type": "code",
   "execution_count": 335,
   "metadata": {},
   "outputs": [],
   "source": [
    "dot_data = tree.export_graphviz(model, out_file=None,\n",
    "feature_names=cols,\n",
    "class_names=['0','1'],\n",
    "filled=True, rounded=True,\n",
    "special_characters=True)\n",
    "graph = graphviz.Source(dot_data)"
   ]
  },
  {
   "cell_type": "code",
   "execution_count": null,
   "metadata": {},
   "outputs": [],
   "source": []
  },
  {
   "cell_type": "markdown",
   "metadata": {},
   "source": [
    "Teraz zrobię mały trik i zmienię wielkość wyjściowej grafiki, zmieniając strukturę zmiennej `dot_data`."
   ]
  },
  {
   "cell_type": "code",
   "execution_count": 202,
   "metadata": {},
   "outputs": [],
   "source": [
    "# out = dot_data[0:14] + 'ranksep=.75; size = \"20,30\";' + dot_data[14:]"
   ]
  },
  {
   "cell_type": "code",
   "execution_count": 336,
   "metadata": {},
   "outputs": [
    {
     "data": {
      "text/plain": [
       "'dtree_render.png'"
      ]
     },
     "execution_count": 336,
     "metadata": {},
     "output_type": "execute_result"
    }
   ],
   "source": [
    "graph = graphviz.Source(dot_data)\n",
    "graph.format = 'png'\n",
    "graph.render('dtree_render',view=True)"
   ]
  },
  {
   "cell_type": "markdown",
   "metadata": {},
   "source": [
    "Mając wizualizację drzewa, spróbujmy zatem teraz zinterpretować działanie algorytmu dla trzech przykładowych klientów banku. Losuję zatem ze zbioru testowego trzy osoby. By się nie pogubić w wynikach, posortuję ich po indeksie."
   ]
  },
  {
   "cell_type": "code",
   "execution_count": 337,
   "metadata": {},
   "outputs": [
    {
     "name": "stdout",
     "output_type": "stream",
     "text": [
      "      Wiek  Zadłużenie  Lata_pracy  Poz_hist_kred  Umowa_o_pracę  Saldo_konta  \\\n",
      "157 68.670      15.000       0.000              1              1        0.000   \n",
      "584 28.080      15.000       0.000              1              0        0.000   \n",
      "652 22.500       0.415       0.335              0              0      144.000   \n",
      "\n",
      "     Przychody  Stan_cywilny___l  Stan_cywilny___y  \n",
      "157       3376                 0                 0  \n",
      "584      13212                 0                 1  \n",
      "652          0                 0                 0  \n"
     ]
    }
   ],
   "source": [
    "samples = x_te[cols].sample(3).sort_index()\n",
    "print(samples)"
   ]
  },
  {
   "cell_type": "markdown",
   "metadata": {},
   "source": [
    "Teraz sprawdźmy, czy ich wnioski zostały zaakceptowane, czy też odrzucone.\n",
    "\n"
   ]
  },
  {
   "cell_type": "code",
   "execution_count": 340,
   "metadata": {},
   "outputs": [
    {
     "data": {
      "text/plain": [
       "470    0\n",
       "547    1\n",
       "679    0\n",
       "85     0\n",
       "426    0\n",
       "      ..\n",
       "185    1\n",
       "468    0\n",
       "43     1\n",
       "447    0\n",
       "84     0\n",
       "Name: Wynik, Length: 131, dtype: uint8"
      ]
     },
     "execution_count": 340,
     "metadata": {},
     "output_type": "execute_result"
    }
   ],
   "source": [
    "y_te"
   ]
  },
  {
   "cell_type": "code",
   "execution_count": 342,
   "metadata": {},
   "outputs": [
    {
     "name": "stdout",
     "output_type": "stream",
     "text": [
      "157    1\n",
      "584    1\n",
      "652    0\n",
      "Name: Wynik, dtype: uint8\n"
     ]
    }
   ],
   "source": [
    "print(y_te[y_te.index.isin(samples.index)].sort_index())"
   ]
  },
  {
   "cell_type": "code",
   "execution_count": 343,
   "metadata": {},
   "outputs": [
    {
     "name": "stdout",
     "output_type": "stream",
     "text": [
      "[1 1 0]\n"
     ]
    }
   ],
   "source": [
    "print(model.predict(samples))"
   ]
  }
 ],
 "metadata": {
  "kernelspec": {
   "display_name": "Python 3 (ipykernel)",
   "language": "python",
   "name": "python3"
  },
  "language_info": {
   "codemirror_mode": {
    "name": "ipython",
    "version": 3
   },
   "file_extension": ".py",
   "mimetype": "text/x-python",
   "name": "python",
   "nbconvert_exporter": "python",
   "pygments_lexer": "ipython3",
   "version": "3.9.13"
  }
 },
 "nbformat": 4,
 "nbformat_minor": 2
}
