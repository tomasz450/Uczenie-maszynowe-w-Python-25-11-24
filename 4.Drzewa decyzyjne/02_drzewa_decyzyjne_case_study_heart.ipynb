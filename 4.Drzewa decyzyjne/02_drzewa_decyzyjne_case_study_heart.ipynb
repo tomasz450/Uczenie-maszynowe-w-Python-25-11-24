{
 "cells": [
  {
   "cell_type": "markdown",
   "id": "525a76d8",
   "metadata": {},
   "source": [
    "#### https://www.kaggle.com/datasets/arezaei81/heartcsv"
   ]
  },
  {
   "cell_type": "code",
   "execution_count": 1,
   "id": "b4be8716",
   "metadata": {},
   "outputs": [],
   "source": [
    "import numpy as np\n",
    "import pandas as pd\n",
    "from sklearn.model_selection import train_test_split\n",
    "from sklearn.tree import DecisionTreeClassifier\n",
    "from sklearn.metrics import accuracy_score\n",
    "from sklearn import tree"
   ]
  },
  {
   "cell_type": "code",
   "execution_count": null,
   "id": "2cc191d3",
   "metadata": {},
   "outputs": [],
   "source": []
  }
 ],
 "metadata": {
  "kernelspec": {
   "display_name": "Python 3 (ipykernel)",
   "language": "python",
   "name": "python3"
  },
  "language_info": {
   "codemirror_mode": {
    "name": "ipython",
    "version": 3
   },
   "file_extension": ".py",
   "mimetype": "text/x-python",
   "name": "python",
   "nbconvert_exporter": "python",
   "pygments_lexer": "ipython3",
   "version": "3.9.13"
  }
 },
 "nbformat": 4,
 "nbformat_minor": 5
}
