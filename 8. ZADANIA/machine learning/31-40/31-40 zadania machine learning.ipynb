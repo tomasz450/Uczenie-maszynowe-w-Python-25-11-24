{
 "cells": [
  {
   "cell_type": "markdown",
   "metadata": {
    "id": "cyc70pMe1oCg"
   },
   "source": [
    "### Ćwiczenie 31\n",
    "Podane są poniższe tablice:\n",
    "\n",
    "- data\n",
    "\n",
    "- target\n",
    "\n",
    "\n",
    "\n",
    "Wykorzystując funkcję `train_test_split()` z pakietu scikit-learn podziel dane (data oraz target) na zbiór treningowy i testowy, odpowiednio:\n",
    "\n",
    "- zbiór treningowy: `X_train, y_train`\n",
    "\n",
    "- zbiór testowy: `X_test, y_test`\n",
    "\n",
    "Ustaw argument `random_state=40` oraz rozmiar zbioru testowego na 25%.\n",
    "\n",
    "\n",
    "\n",
    "W odpowiedzi wydrukuj rozmiary tablic: `X_train, y_train, X_test, y_test` tak jak pokazano poniżej.\n",
    "\n",
    "\n",
    "\n",
    "__Wskazówka__: Więcej na temat funkcji `train_test_split()`: https://scikit-learn.org/stable/modules/generated/sklearn.model_selection.train_test_split.html\n",
    "\n",
    "\n",
    "\n",
    "Oczekiwany wynik:\n",
    "\n",
    "\n",
    "```\n",
    "X_train shape (426, 30)\n",
    "y_train shape (426,)\n",
    "X_test shape (143, 30)\n",
    "y_test shape (143,)\n",
    "```"
   ]
  },
  {
   "cell_type": "code",
   "execution_count": 1,
   "metadata": {},
   "outputs": [],
   "source": [
    "import numpy as np\n",
    "import pandas as pd\n",
    "from sklearn.datasets import load_breast_cancer\n",
    "from sklearn.model_selection import train_test_split\n",
    "\n",
    "\n",
    "pd.set_option('display.max_columns', 10)\n",
    "pd.set_option('display.width', 200)\n",
    "np.set_printoptions(precision=2, suppress=True, linewidth=100)\n",
    "raw_data = load_breast_cancer()\n",
    "\n",
    "data = raw_data['data']\n",
    "target = raw_data['target']"
   ]
  },
  {
   "cell_type": "code",
   "execution_count": 2,
   "metadata": {
    "id": "gkffRbwLWITv"
   },
   "outputs": [],
   "source": [
    "# tutaj wpisz rozwiązanie"
   ]
  },
  {
   "cell_type": "markdown",
   "metadata": {
    "id": "J9pY1rtr1sC0"
   },
   "source": [
    "### Ćwiczenie 32\n",
    "Podane są poniższe tablice:\n",
    "\n",
    "- data\n",
    "\n",
    "- target\n",
    "\n",
    "- zbiór treningowy: X_train, y_train\n",
    " \n",
    "- zbiór testowy: X_test, y_test\n",
    "\n",
    "\n",
    "\n",
    "Sprawdź procentowy rozkład wartości zmiennych target, y_train oraz y_test. Wynik wydrukuj do konsoli tak jak pokazano poniżej.\n",
    "\n",
    "\n",
    "\n",
    "__Wskazówka__: Możesz użyć funkcji `np.unique(return_counts=True)`.\n",
    "\n",
    "\n",
    "\n",
    "Oczekiwany wynik:\n",
    "\n",
    "\n",
    "```\n",
    "target :[0.37 0.63]\n",
    "y_train:[0.39 0.61]\n",
    "y_test :[0.31 0.69]\n",
    "```"
   ]
  },
  {
   "cell_type": "code",
   "execution_count": 3,
   "metadata": {},
   "outputs": [],
   "source": [
    "import numpy as np\n",
    "import pandas as pd\n",
    "from sklearn.datasets import load_breast_cancer\n",
    "from sklearn.model_selection import train_test_split\n",
    "\n",
    "\n",
    "pd.set_option('display.max_columns', 10)\n",
    "pd.set_option('display.width', 200)\n",
    "np.set_printoptions(precision=2, suppress=True, linewidth=100)\n",
    "raw_data = load_breast_cancer()\n",
    "\n",
    "data = raw_data['data']\n",
    "target = raw_data['target']\n",
    "\n",
    "X_train, X_test, y_train, y_test = train_test_split(\n",
    "    data, target, random_state=40, test_size=0.25\n",
    ")\n"
   ]
  },
  {
   "cell_type": "code",
   "execution_count": null,
   "metadata": {},
   "outputs": [],
   "source": [
    "# tutaj wpisz rozwiązanie"
   ]
  },
  {
   "cell_type": "markdown",
   "metadata": {},
   "source": [
    "### Ćwiczenie 33\n",
    "Podane są poniższe tablice:\n",
    "\n",
    "- data\n",
    "\n",
    "- target\n",
    "\n",
    "\n",
    "\n",
    "Podziel dane (data, target) na zbiór treningowy i testowy, odpowiednio:\n",
    "\n",
    "- zbiór treningowy: `X_train, y_train`\n",
    "\n",
    "- zbiór testowy: `X_test, y_test`\n",
    "\n",
    "tak, aby zachować procentowy rozkład wartości w tablicach y_train oraz y_test taki jak w tablicy `target`.\n",
    "\n",
    "\n",
    "\n",
    "Następnie sprawdź procentowy rozkład wartości zmiennych target, y_train oraz y_test. Wynik wydrukuj do konsoli tak jak pokazano poniżej.\n",
    "\n",
    "\n",
    "\n",
    "__Wskazówka__: Użyj funkcji train_test_split z parametrem `stratify=target`.\n",
    "\n",
    "\n",
    "\n",
    "Oczekiwany wynik:\n",
    "\n",
    "\n",
    "```\n",
    "target :[0.37 0.63]\n",
    "y_train:[0.37 0.63]\n",
    "y_test :[0.37 0.63]\n",
    "```"
   ]
  },
  {
   "cell_type": "code",
   "execution_count": 11,
   "metadata": {},
   "outputs": [],
   "source": [
    "import numpy as np\n",
    "import pandas as pd\n",
    "from sklearn.datasets import load_breast_cancer\n",
    "from sklearn.model_selection import train_test_split\n",
    "\n",
    "\n",
    "pd.set_option('display.max_columns', 10)\n",
    "pd.set_option('display.width', 200)\n",
    "np.set_printoptions(precision=2, suppress=True, linewidth=100)\n",
    "raw_data = load_breast_cancer()\n",
    "\n",
    "data = raw_data['data']\n",
    "target = raw_data['target']"
   ]
  },
  {
   "cell_type": "code",
   "execution_count": null,
   "metadata": {},
   "outputs": [],
   "source": [
    "# tutaj wpisz rozwiązanie"
   ]
  },
  {
   "cell_type": "markdown",
   "metadata": {},
   "source": [
    "### Ćwiczenie 34\n",
    "Podany jest poniższy obiekt DataFrame df:\n",
    "\n",
    "\n",
    "```\n",
    "   years  salary\n",
    "0      1    4000\n",
    "1      2    4250\n",
    "2      3    4500\n",
    "3      4    4750\n",
    "4      5    5000\n",
    "5      6    5250\n",
    "```\n",
    "\n",
    "Pierwsza kolumna opisuje lata pracy (zmienna objaśniająca), druga kolumna opisuje wynagrodzenie pracownika (zmienna objaśniana). Wykorzystując **równanie normalne** oraz pakiet numpy znajdź równanie regresji liniowej. Wynik wydrukuj do konsoli tak jak pokazano poniżej.\n",
    "\n",
    "\n",
    "\n",
    "Oczekiwany wynik:\n",
    "\n",
    "\n",
    "```\n",
    "Linear regression: 3750.00 + 250.00x\n",
    "```"
   ]
  },
  {
   "cell_type": "code",
   "execution_count": 13,
   "metadata": {},
   "outputs": [],
   "source": [
    "import numpy as np\n",
    "import pandas as pd\n",
    "\n",
    "\n",
    "df = pd.DataFrame(\n",
    "    {\n",
    "        'years': [1, 2, 3, 4, 5, 6],\n",
    "        'salary': [4000, 4250, 4500, 4750, 5000, 5250],\n",
    "    }\n",
    ")\n"
   ]
  },
  {
   "cell_type": "code",
   "execution_count": null,
   "metadata": {},
   "outputs": [],
   "source": [
    "# tutaj wpisz rozwiązanie"
   ]
  },
  {
   "cell_type": "markdown",
   "metadata": {},
   "source": [
    "### Ćwiczenie 35\n",
    "Podany jest poniższy obiekt DataFrame df:\n",
    "\n",
    "\n",
    "```\n",
    "   years  salary\n",
    "0      1    4000\n",
    "1      2    4250\n",
    "2      3    4500\n",
    "3      4    4750\n",
    "4      5    5000\n",
    "5      6    5250\n",
    "```\n",
    "\n",
    "Pierwsza kolumna opisuje lata pracy (zmienna objaśniająca), druga kolumna opisuje wynagrodzenie pracownika (zmienna objaśniana).\n",
    "\n",
    "\n",
    "\n",
    "Wykorzystując pakiet scikit-learn oraz klasę LinearRegression znajdź równanie regresji liniowej dla tego problemu. Wynik wydrukuj do konsoli tak jak pokazano poniżej.\n",
    "\n",
    "\n",
    "\n",
    "__Wskazówka__: Więcej na temat klasy LinearRegression: https://scikit-learn.org/stable/modules/generated/sklearn.linear_model.LinearRegression.html\n",
    "\n",
    "\n",
    "\n",
    "Oczekiwany wynik:\n",
    "\n",
    "\n",
    "```\n",
    "Linear regression: 3750.00 + 250.00x\n",
    "```"
   ]
  },
  {
   "cell_type": "code",
   "execution_count": 15,
   "metadata": {},
   "outputs": [],
   "source": [
    "import numpy as np\n",
    "import pandas as pd\n",
    "from sklearn.linear_model import LinearRegression\n",
    "\n",
    "\n",
    "df = pd.DataFrame(\n",
    "    {\n",
    "        'years': [1, 2, 3, 4, 5, 6],\n",
    "        'salary': [4000, 4250, 4500, 4750, 5000, 5250],\n",
    "    }\n",
    ")"
   ]
  },
  {
   "cell_type": "code",
   "execution_count": 12,
   "metadata": {},
   "outputs": [],
   "source": [
    "# tutaj wpisz rozwiązanie"
   ]
  },
  {
   "cell_type": "markdown",
   "metadata": {},
   "source": [
    "### Ćwiczenie 36\n",
    "Wczytaj dane z pliku data.csv do obiektu DataFrame. Następnie w oparciu o zmienną variable zbuduj model regresji liniowej pozwalający przewidywać wartości zmiennej docelowej target (model zbuduj na wszystkich dostępnych danych). Wykorzystaj w tym celu pakiet scikit-learn oraz klasę LinearRegression.\n",
    "\n",
    "Dokonaj oceny modelu wykorzystując `score()`. Wynik wydrukuj do konsoli (do czwartego miejsca po przecinku).\n",
    "\n",
    "\n",
    "\n",
    "__Wskazówka__: Więcej na temat klasy LinearRegression: https://scikit-learn.org/stable/modules/generated/sklearn.linear_model.LinearRegression.html\n",
    "\n",
    "\n",
    "\n",
    "Oczekiwany wynik:\n",
    "\n",
    "\n",
    "```\n",
    "0.5532\n",
    "```"
   ]
  },
  {
   "cell_type": "code",
   "execution_count": 17,
   "metadata": {},
   "outputs": [],
   "source": [
    "import numpy as np\n",
    "import pandas as pd\n",
    "from sklearn.linear_model import LinearRegression"
   ]
  },
  {
   "cell_type": "code",
   "execution_count": null,
   "metadata": {},
   "outputs": [],
   "source": [
    "# tutaj wpisz rozwiązanie"
   ]
  },
  {
   "cell_type": "markdown",
   "metadata": {},
   "source": [
    "### Ćwiczenie 37 - brak"
   ]
  },
  {
   "cell_type": "markdown",
   "metadata": {},
   "source": [
    "### Ćwiczenie 38 - brak"
   ]
  },
  {
   "attachments": {
    "image.png": {
     "image/png": "[encoded data removed]"
    }
   },
   "cell_type": "markdown",
   "metadata": {},
   "source": [
    "### Ćwiczenie 39\n",
    "Plik predictions.csv zawiera predykcje pewnego modelu regresji:\n",
    "\n",
    "- zmienna y_true opisuje rzeczywiste, zaobserwowane wartości\n",
    "\n",
    "- zmienna y_pred opisuje wartości przewidziane przez model\n",
    "\n",
    "\n",
    "\n",
    "Wczytaj ten plik do obiektu DataFrame. Następnie zaimplementuj funkcję o nazwie `mean_absolute_error()` obliczającą średni błąd bezwzględny predykcji.\n",
    "\n",
    "Wykorzystując zaimplementowaną funkcję policz wartość MAE dla tego modelu. Wynik wydrukuj do konsoli tak jak pokazano poniżej.\n",
    "\n",
    "\n",
    "\n",
    "__Wskazówka__: ![image.png](attachment:image.png)\n",
    "\n",
    "\n",
    "\n",
    "\n",
    "\n",
    "Oczekiwany wynik:\n",
    "\n",
    "\n",
    "```\n",
    "MAE = 6.7918\n",
    "```"
   ]
  },
  {
   "cell_type": "code",
   "execution_count": 26,
   "metadata": {},
   "outputs": [],
   "source": [
    "import numpy as np\n",
    "import pandas as pd"
   ]
  },
  {
   "cell_type": "code",
   "execution_count": null,
   "metadata": {},
   "outputs": [],
   "source": [
    "# tutaj wpisz rozwiązanie"
   ]
  },
  {
   "attachments": {
    "image.png": {
     "image/png": "[encoded data removed]"
    }
   },
   "cell_type": "markdown",
   "metadata": {},
   "source": [
    "### Ćwiczenie 40\n",
    "Plik predictions.csv zawiera predykcje pewnego modelu regresji:\n",
    "\n",
    "- zmienna y_true opisuje rzeczywiste, zaobserwowane wartości\n",
    "\n",
    "- zmienna y_pred opisuje wartości przewidziane przez model\n",
    "\n",
    "\n",
    "\n",
    "Wczytaj ten plik do obiektu DataFrame. Następnie zaimplementuj funkcję o nazwie `mean_squared_error()` obliczającą błąd średniokwadratowy predykcji.\n",
    "\n",
    "Wykorzystując zaimplementowaną funkcję policz wartość MSE dla tego modelu. Wynik wydrukuj do konsoli tak jak pokazano poniżej.\n",
    "\n",
    "\n",
    "\n",
    "__Wskazówka__: ![image.png](attachment:image.png)\n",
    "\n",
    "\n",
    "\n",
    "\n",
    "\n",
    "Oczekiwany wynik:\n",
    "\n",
    "\n",
    "```\n",
    "MSE = 74.9471\n",
    "```"
   ]
  },
  {
   "cell_type": "code",
   "execution_count": 29,
   "metadata": {},
   "outputs": [],
   "source": [
    "import numpy as np\n",
    "import pandas as pd"
   ]
  },
  {
   "cell_type": "code",
   "execution_count": null,
   "metadata": {},
   "outputs": [],
   "source": [
    "# tutaj wpisz rozwiązanie"
   ]
  }
 ],
 "metadata": {
  "colab": {
   "provenance": []
  },
  "kernelspec": {
   "display_name": "Python 3 (ipykernel)",
   "language": "python",
   "name": "python3"
  },
  "language_info": {
   "codemirror_mode": {
    "name": "ipython",
    "version": 3
   },
   "file_extension": ".py",
   "mimetype": "text/x-python",
   "name": "python",
   "nbconvert_exporter": "python",
   "pygments_lexer": "ipython3",
   "version": "3.9.13"
  }
 },
 "nbformat": 4,
 "nbformat_minor": 1
}
