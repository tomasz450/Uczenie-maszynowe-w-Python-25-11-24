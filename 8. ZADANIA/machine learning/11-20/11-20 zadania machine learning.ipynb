{
 "cells": [
  {
   "cell_type": "markdown",
   "metadata": {
    "id": "cyc70pMe1oCg"
   },
   "source": [
    "### Ćwiczenie 11\n",
    "Podany jest poniższy obiekt DataFrame df:\n",
    "\n",
    "\n",
    "```\n",
    "   weight weight_cut\n",
    "0    75.0      light\n",
    "1    78.5     normal\n",
    "2    85.0      heavy\n",
    "3    91.0      heavy\n",
    "4    84.5      heavy\n",
    "5    83.0      heavy\n",
    "6    68.0      light\n",
    "```\n",
    "\n",
    "Dokonaj kodowania 0-1 obiektu df (dokładnie kolumny weight_cut) dzięki funkcji pd.get_dummies(). W odpowiedzi wynik kodowania wydrukuj do konsoli.\n",
    "\n",
    "\n",
    "\n",
    "Oczekiwany wynik:\n",
    "\n",
    "\n",
    "```\n",
    "   weight  weight_cut_light  weight_cut_normal  weight_cut_heavy\n",
    "0    75.0                 1                  0                 0\n",
    "1    78.5                 0                  1                 0\n",
    "2    85.0                 0                  0                 1\n",
    "3    91.0                 0                  0                 1\n",
    "4    84.5                 0                  0                 1\n",
    "5    83.0                 0                  0                 1\n",
    "6    68.0                 1                  0                 0\n",
    "```"
   ]
  },
  {
   "cell_type": "code",
   "execution_count": 4,
   "metadata": {},
   "outputs": [],
   "source": [
    "import pandas as pd\n",
    "\n",
    "\n",
    "df = pd.DataFrame(\n",
    "    data={'weight': [75.0, 78.5, 85.0, 91.0, 84.5, 83.0, 68.0]}\n",
    ")\n",
    "df['weight_cut'] = pd.cut(\n",
    "    df['weight'],\n",
    "    bins=(60, 75, 80, 95),\n",
    "    labels=['light', 'normal', 'heavy'],\n",
    ")"
   ]
  },
  {
   "cell_type": "code",
   "execution_count": 2,
   "metadata": {
    "id": "gkffRbwLWITv"
   },
   "outputs": [],
   "source": [
    "# tutaj wpisz rozwiązanie"
   ]
  },
  {
   "cell_type": "markdown",
   "metadata": {
    "id": "J9pY1rtr1sC0"
   },
   "source": [
    "## Ćwiczenie 12\n",
    "Podany jest poniższy obiekt DataFrame df:\n",
    "\n",
    "\n",
    "```\n",
    "               currency\n",
    "0            [PLN, USD]\n",
    "1  [EUR, USD, PLN, CAD]\n",
    "2                 [GBP]\n",
    "3       [JPY, CZK, HUF]\n",
    "4                    []\n",
    "```\n",
    "\n",
    "Do obiektu df przypisz nową kolumnę o nazwie 'number', która przyjmie liczbę elementów listy w kolumnie currency. W odpowiedzi wydrukuj obiekt DataFrame do konsoli.\n",
    "\n",
    "\n",
    "\n",
    "Oczekiwany wynik:\n",
    "\n",
    "\n",
    "```\n",
    "               currency  number\n",
    "0            [PLN, USD]       2\n",
    "1  [EUR, USD, PLN, CAD]       4\n",
    "2                 [GBP]       1\n",
    "3       [JPY, CZK, HUF]       3\n",
    "4                    []       0\n",
    "```"
   ]
  },
  {
   "cell_type": "code",
   "execution_count": 6,
   "metadata": {},
   "outputs": [],
   "source": [
    "import pandas as pd\n",
    "\n",
    "\n",
    "data_dict = {\n",
    "    'currency': [\n",
    "        ['PLN', 'USD'],\n",
    "        ['EUR', 'USD', 'PLN', 'CAD'],\n",
    "        ['GBP'],\n",
    "        ['JPY', 'CZK', 'HUF'],\n",
    "        [],\n",
    "    ]\n",
    "}\n",
    "df = pd.DataFrame(data=data_dict)"
   ]
  },
  {
   "cell_type": "code",
   "execution_count": null,
   "metadata": {},
   "outputs": [],
   "source": [
    "# tutaj wpisz rozwiązanie"
   ]
  },
  {
   "cell_type": "markdown",
   "metadata": {},
   "source": [
    "### Ćwiczenie 13\n",
    "Podany jest poniższy obiekt DataFrame df:\n",
    "\n",
    "\n",
    "```\n",
    "               currency\n",
    "0            [PLN, USD]\n",
    "1  [EUR, USD, PLN, CAD]\n",
    "2                 [GBP]\n",
    "3       [JPY, CZK, HUF]\n",
    "4                    []\n",
    "```\n",
    "\n",
    "Przypisz do obiektu df nową kolumnę o nazwie `PLN_flag`, która przyjmie wartość 1, gdy waluta `PLN` będzie w liście w kolumnie currency i przeciwnie 0. W odpowiedzi wydrukuj obiekt DataFrame do konsoli.\n",
    "\n",
    "\n",
    "\n",
    "Oczekiwany wynik:\n",
    "\n",
    "\n",
    "```\n",
    "               currency  PLN_flag\n",
    "0            [PLN, USD]         1\n",
    "1  [EUR, USD, PLN, CAD]         1\n",
    "2                 [GBP]         0\n",
    "3       [JPY, CZK, HUF]         0\n",
    "4                    []         0\n",
    "```"
   ]
  },
  {
   "cell_type": "code",
   "execution_count": 8,
   "metadata": {},
   "outputs": [],
   "source": [
    "import pandas as pd\n",
    "\n",
    "\n",
    "data_dict = {\n",
    "    'currency': [\n",
    "        ['PLN', 'USD'],\n",
    "        ['EUR', 'USD', 'PLN', 'CAD'],\n",
    "        ['GBP'],\n",
    "        ['JPY', 'CZK', 'HUF'],\n",
    "        [],\n",
    "    ]\n",
    "}\n",
    "df = pd.DataFrame(data=data_dict)"
   ]
  },
  {
   "cell_type": "code",
   "execution_count": null,
   "metadata": {},
   "outputs": [],
   "source": [
    "# tutaj wpisz rozwiązanie"
   ]
  },
  {
   "cell_type": "markdown",
   "metadata": {},
   "source": [
    "### Ćwiczenie 14\n",
    "Podany jest poniższy obiekt DataFrame df:\n",
    "\n",
    "\n",
    "```\n",
    "              hashtags\n",
    "0          #good#vibes\n",
    "1  #hot#summer#holiday\n",
    "2         #street#food\n",
    "3             #workout\n",
    "```\n",
    "\n",
    "Podziel wartości kolumny hashtags względem znaku hash `#` używając `pd.Series.str.split()` z argumentem `expand=True`. Otrzymasz cztery kolumny.\n",
    "\n",
    "Przykładowo dla wiersza drugiego:\n",
    "\n",
    "\n",
    "```\n",
    "'#hot#summer#holiday'\n",
    "```\n",
    "\n",
    "odpowiednio:\n",
    "\n",
    "\n",
    "```\n",
    "['', 'hot', 'summer', 'holiday']\n",
    "```\n",
    "\n",
    "Usuń pierwszą kolumnę z tak otrzymanego obiektu (pierwsza kolumna zawiera puste stringi). Następnie przypisz nazwy pozostałych kolumn odpowiednio:\n",
    "\n",
    "`hashtag1`\n",
    "\n",
    "`hashtag2`\n",
    "\n",
    "`hashtag3`\n",
    "\n",
    "Postać końcową obiektu df wydrukuj do konsoli.\n",
    "\n",
    "\n",
    "\n",
    "Oczekiwany wynik:\n",
    "\n",
    "\n",
    "```\n",
    "  hashtag1 hashtag2 hashtag3\n",
    "0     good    vibes     None\n",
    "1      hot   summer  holiday\n",
    "2   street     food     None\n",
    "3  workout     None     None\n",
    "```"
   ]
  },
  {
   "cell_type": "code",
   "execution_count": 10,
   "metadata": {},
   "outputs": [],
   "source": [
    "import pandas as pd\n",
    "\n",
    "\n",
    "df = pd.DataFrame(\n",
    "    data={\n",
    "        'hashtags': [\n",
    "            '#good#vibes',\n",
    "            '#hot#summer#holiday',\n",
    "            '#street#food',\n",
    "            '#workout',\n",
    "        ]\n",
    "    }\n",
    ")"
   ]
  },
  {
   "cell_type": "code",
   "execution_count": null,
   "metadata": {},
   "outputs": [],
   "source": [
    "# tutaj wpisz rozwiązanie"
   ]
  },
  {
   "cell_type": "markdown",
   "metadata": {},
   "source": [
    "### Ćwiczenie 15\n",
    "Podany jest poniższy obiekt df:\n",
    "\n",
    "\n",
    "```\n",
    "  hashtag1 hashtag2 hashtag3\n",
    "0     good    vibes     None\n",
    "1      hot   summer  holiday\n",
    "2   street     food     None\n",
    "3  workout     None     None\n",
    "```\n",
    "\n",
    "Utwórz nową kolumnę o nazwie `missing` w obiekcie df i przypisz do niej liczbę brakujących hashtagów dla każdego wiersza.\n",
    "\n",
    "Przykładowo, wiersz pierwszy -> 1, wiersz drugi -> 0, wiersz trzeci -> 1, itd.\n",
    "\n",
    "\n",
    "\n",
    "W odpowiedzi wydrukuj obiekt df do konsoli.\n",
    "\n",
    "\n",
    "\n",
    "Oczekiwany wynik:\n",
    "\n",
    "\n",
    "```\n",
    "  hashtag1 hashtag2 hashtag3  missing\n",
    "0     good    vibes     None        1\n",
    "1      hot   summer  holiday        0\n",
    "2   street     food     None        1\n",
    "3  workout     None     None        2\n",
    "```"
   ]
  },
  {
   "cell_type": "code",
   "execution_count": 12,
   "metadata": {},
   "outputs": [],
   "source": [
    "import pandas as pd\n",
    "\n",
    "\n",
    "df = pd.DataFrame(\n",
    "    data={\n",
    "        'hashtags': [\n",
    "            '#good#vibes',\n",
    "            '#hot#summer#holiday',\n",
    "            '#street#food',\n",
    "            '#workout',\n",
    "        ]\n",
    "    }\n",
    ")\n"
   ]
  },
  {
   "cell_type": "code",
   "execution_count": 12,
   "metadata": {},
   "outputs": [],
   "source": [
    "# tutaj wpisz rozwiązanie"
   ]
  },
  {
   "cell_type": "markdown",
   "metadata": {},
   "source": [
    "### Ćwiczenie 16\n",
    "Podany jest poniższy obiekt df:\n",
    "\n",
    "\n",
    "```\n",
    "   investments\n",
    "0  100_000_000\n",
    "1      100_000\n",
    "2   30_000_000\n",
    "3  100_500_000\n",
    "```\n",
    "\n",
    "Przygotuj kolumnę investments do modelu, tzn. przekształć ją odpowiednio na typ int.\n",
    "\n",
    "W odpowiedzi wydrukuj obiekt DataFrame do konsoli.\n",
    "\n",
    "\n",
    "\n",
    "Oczekiwany wynik:\n",
    "\n",
    "\n",
    "```\n",
    "   investments\n",
    "0    100000000\n",
    "1       100000\n",
    "2     30000000\n",
    "3    100500000\n",
    "```"
   ]
  },
  {
   "cell_type": "code",
   "execution_count": 14,
   "metadata": {},
   "outputs": [],
   "source": [
    "import pandas as pd\n",
    "\n",
    "\n",
    "df = pd.DataFrame(\n",
    "    data={\n",
    "        'investments': [\n",
    "            '100_000_000',\n",
    "            '100_000',\n",
    "            '30_000_000',\n",
    "            '100_500_000',\n",
    "        ]\n",
    "    }\n",
    ")"
   ]
  },
  {
   "cell_type": "code",
   "execution_count": null,
   "metadata": {},
   "outputs": [],
   "source": [
    "# tutaj wpisz rozwiązanie"
   ]
  },
  {
   "cell_type": "markdown",
   "metadata": {},
   "source": [
    "## Ćwiczenie 17\n",
    "Załaduj zbiór danych IRIS do zmiennej data wykorzystując pakiet scikit-learn oraz funkcję `load_iris()`. Następnie wyświetl wszystkie klucze zmiennej data do konsoli.\n",
    "\n",
    "\n",
    "\n",
    "__Wskazówka__: Więcej na temat funkcji load_iris(): https://scikit-learn.org/stable/modules/generated/sklearn.datasets.load_iris.html\n",
    "\n",
    "\n",
    "\n",
    "Oczekiwany wynik:\n",
    "\n",
    "\n",
    "```\n",
    "dict_keys(['data', 'target', 'frame', 'target_names', 'DESCR', 'feature_names', 'filename'])\n",
    "```"
   ]
  },
  {
   "cell_type": "code",
   "execution_count": 16,
   "metadata": {},
   "outputs": [],
   "source": [
    "from sklearn.datasets import load_iris"
   ]
  },
  {
   "cell_type": "code",
   "execution_count": null,
   "metadata": {},
   "outputs": [],
   "source": [
    "# tutaj wpisz rozwiązanie"
   ]
  },
  {
   "cell_type": "markdown",
   "metadata": {},
   "source": [
    "### Ćwiczenie 18\n",
    "Załadowano zbiór IRIS wykorzystując pakiet scikit-learn do zmiennej data.\n",
    "\n",
    "Wyświetl nazwy zmiennych (klucz `feature_names`) oraz nazwy klas (klucz `target_names`) w zbiorze IRIS tak jak pokazano poniżej.\n",
    "\n",
    "\n",
    "\n",
    "Oczekiwany wynik:\n",
    "\n",
    "\n",
    "```\n",
    "['sepal length (cm)', 'sepal width (cm)', 'petal length (cm)', 'petal width (cm)']\n",
    "['setosa' 'versicolor' 'virginica']\n",
    "```"
   ]
  },
  {
   "cell_type": "code",
   "execution_count": 19,
   "metadata": {},
   "outputs": [],
   "source": [
    "from sklearn.datasets import load_iris\n",
    "\n",
    "data = load_iris()"
   ]
  },
  {
   "cell_type": "code",
   "execution_count": null,
   "metadata": {},
   "outputs": [],
   "source": [
    "# tutaj wpisz rozwiązanie"
   ]
  },
  {
   "cell_type": "markdown",
   "metadata": {},
   "source": [
    "### Ćwiczenie 19\n",
    "Poniżej załadowano zbiór IRIS wykorzystując pakiet scikit-learn do zmiennej data_raw.\n",
    "\n",
    "Do zmiennej data przypisz dane zbioru IRIS (klucz `data`). Do zmiennej target przypisz wartości zmiennej docelowej (klucz `target`) ze zbioru IRIS.\n",
    "\n",
    "\n",
    "\n",
    "W odpowiedzi wydrukuj kształt zmiennych: data oraz target do konsoli.\n",
    "\n",
    "\n",
    "\n",
    "Oczekiwany wynik:\n",
    "\n",
    "\n",
    "```\n",
    "(150, 4)\n",
    "(150,)\n",
    "```"
   ]
  },
  {
   "cell_type": "code",
   "execution_count": 21,
   "metadata": {},
   "outputs": [],
   "source": [
    "from sklearn.datasets import load_iris\n",
    "\n",
    "data_raw = load_iris()"
   ]
  },
  {
   "cell_type": "code",
   "execution_count": null,
   "metadata": {},
   "outputs": [],
   "source": [
    "# tutaj wpisz rozwiązanie"
   ]
  },
  {
   "cell_type": "markdown",
   "metadata": {},
   "source": [
    "### Ćwiczenie 20\n",
    "Podane są poniższe tablice:\n",
    "\n",
    "- data\n",
    "\n",
    "- target\n",
    "\n",
    "Wykorzystując pakiet scikit-learn oraz funkcję train_test_split() podziel dane na zbiór treningowy (data_train, target_train) i testowy (data_test, target_test). Ustal rozmiar zbioru testowego na 30% próbek.\n",
    "\n",
    "\n",
    "\n",
    "W odpowiedzi wyświetl rozmiar poniższych tablic (tak jak pokazano poniżej):\n",
    "\n",
    "- data_train\n",
    "\n",
    "- target_train\n",
    "\n",
    "- data_test\n",
    "\n",
    "- target_test\n",
    "\n",
    "\n",
    "\n",
    "__Wskazówka__: Więcej o funkcji train_test_split(): https://scikit-learn.org/stable/modules/generated/sklearn.model_selection.train_test_split.html\n",
    "\n",
    "\n",
    "\n",
    "Oczekiwany wynik:\n",
    "\n",
    "\n",
    "```\n",
    "data_train shape: (105, 4)\n",
    "target_train shape: (105,)\n",
    "data_test shape: (45, 4)\n",
    "target_test shape: (45,)\n",
    "```"
   ]
  },
  {
   "cell_type": "code",
   "execution_count": 23,
   "metadata": {},
   "outputs": [],
   "source": [
    "from sklearn.datasets import load_iris\n",
    "from sklearn.model_selection import train_test_split\n",
    "\n",
    "\n",
    "data_raw = load_iris()\n",
    "data = data_raw['data']\n",
    "target = data_raw['target']"
   ]
  },
  {
   "cell_type": "code",
   "execution_count": null,
   "metadata": {},
   "outputs": [],
   "source": [
    "# tutaj wpisz rozwiązanie"
   ]
  }
 ],
 "metadata": {
  "colab": {
   "provenance": []
  },
  "kernelspec": {
   "display_name": "Python 3 (ipykernel)",
   "language": "python",
   "name": "python3"
  },
  "language_info": {
   "codemirror_mode": {
    "name": "ipython",
    "version": 3
   },
   "file_extension": ".py",
   "mimetype": "text/x-python",
   "name": "python",
   "nbconvert_exporter": "python",
   "pygments_lexer": "ipython3",
   "version": "3.9.13"
  }
 },
 "nbformat": 4,
 "nbformat_minor": 1
}
