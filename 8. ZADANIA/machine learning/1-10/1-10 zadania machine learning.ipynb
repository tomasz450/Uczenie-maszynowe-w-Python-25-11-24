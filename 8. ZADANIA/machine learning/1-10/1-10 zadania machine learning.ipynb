{
 "cells": [
  {
   "cell_type": "markdown",
   "metadata": {
    "id": "cyc70pMe1oCg"
   },
   "source": [
    "### Ćwiczenie 1\n",
    "\n",
    "Z poniższego słownika data utwórz obiekt DataFrame i przypisz do zmiennej df. Następnie zapoznaj się z obiektem df i sprawdź liczbę braków danych dla wszystkich kolumn. Podaj procent braków, wynik zaokrąglij do drugiego miejsca po przecinku i wydrukuj do konsoli tak jak pokazano poniżej.\n",
    "\n",
    "#### Oczekiwany wynik:\n",
    "\n",
    "```\n",
    "size      0.17\n",
    "color     0.00\n",
    "gender    0.17\n",
    "price     0.17\n",
    "weight    0.33\n",
    "bought    0.00\n",
    "dtype: float64\n",
    "```"
   ]
  },
  {
   "cell_type": "code",
   "execution_count": 1,
   "metadata": {},
   "outputs": [],
   "source": [
    "import numpy as np\n",
    "import pandas as pd\n",
    "\n",
    "\n",
    "data = {\n",
    "    'size': ['XL', 'L', 'M', np.nan, 'M', 'M'],\n",
    "    'color': ['red', 'green', 'blue', 'green', 'red', 'green'],\n",
    "    'gender': ['female', 'male', np.nan, 'female', 'female', 'male'],\n",
    "    'price': [199.0, 89.0, np.nan, 129.0, 79.0, 89.0],\n",
    "    'weight': [500, 450, 300, np.nan, 410, np.nan],\n",
    "    'bought': ['yes', 'no', 'yes', 'no', 'yes', 'no']\n",
    "}"
   ]
  },
  {
   "cell_type": "code",
   "execution_count": 2,
   "metadata": {
    "id": "gkffRbwLWITv"
   },
   "outputs": [],
   "source": [
    "# tutaj wpisz rozwiązanie"
   ]
  },
  {
   "cell_type": "markdown",
   "metadata": {
    "id": "J9pY1rtr1sC0"
   },
   "source": [
    "### Ćwiczenie 2\n",
    "Podany jest obiekt DataFrame df określony poniżej:\n",
    "\n",
    "\n",
    "```\n",
    "  size  color  gender  price  weight bought\n",
    "0   XL    red  female  199.0   500.0    yes\n",
    "1    L  green    male   89.0   450.0     no\n",
    "2    M   blue     NaN    NaN   300.0    yes\n",
    "3  NaN  green  female  129.0     NaN     no\n",
    "4    M    red  female   79.0   410.0    yes\n",
    "5    M  green    male   89.0     NaN     no\n",
    "```\n",
    "\n",
    "Wykorzystując pakiet do uczenia maszynowego scikit-learn oraz klasę SimpleImputer uzupełnij braki danych dla kolumny weight wartością średnią. Zmiany przypisz na stałe do obiektu df. W odpowiedzi wydrukuj obiekt df do konsoli.\n",
    "\n",
    "__Wskazówka__: Więcej na temat klasy SimpleImputer: https://scikit-learn.org/stable/modules/generated/sklearn.impute.SimpleImputer.html\n",
    "\n",
    "#### Oczekiwany wynik:\n",
    "\n",
    "```\n",
    "  size  color  gender  price  weight bought\n",
    "0   XL    red  female  199.0   500.0    yes\n",
    "1    L  green    male   89.0   450.0     no\n",
    "2    M   blue     NaN    NaN   300.0    yes\n",
    "3  NaN  green  female  129.0   415.0     no\n",
    "4    M    red  female   79.0   410.0    yes\n",
    "5    M  green    male   89.0   415.0     no\n",
    "```"
   ]
  },
  {
   "cell_type": "code",
   "execution_count": 2,
   "metadata": {},
   "outputs": [],
   "source": [
    "import numpy as np\n",
    "import pandas as pd\n",
    "from sklearn.impute import SimpleImputer\n",
    "\n",
    "\n",
    "data = {\n",
    "    'size': ['XL', 'L', 'M', np.nan, 'M', 'M'],\n",
    "    'color': ['red', 'green', 'blue', 'green', 'red', 'green'],\n",
    "    'gender': ['female', 'male', np.nan, 'female', 'female', 'male'],\n",
    "    'price': [199.0, 89.0, np.nan, 129.0, 79.0, 89.0],\n",
    "    'weight': [500, 450, 300, np.nan, 410, np.nan],\n",
    "    'bought': ['yes', 'no', 'yes', 'no', 'yes', 'no']\n",
    "}\n",
    "\n",
    "df = pd.DataFrame(data=data)"
   ]
  },
  {
   "cell_type": "code",
   "execution_count": null,
   "metadata": {},
   "outputs": [],
   "source": [
    "# tutaj wpisz rozwiązanie"
   ]
  },
  {
   "cell_type": "markdown",
   "metadata": {},
   "source": [
    "### Ćwiczenie 3\n",
    "\n",
    "Poniżej podany jest obiekt DataFrame df:\n",
    "\n",
    "```\n",
    "  size  color  gender  price  weight bought\n",
    "0   XL    red  female  199.0   500.0    yes\n",
    "1    L  green    male   89.0   450.0     no\n",
    "2    M   blue     NaN    NaN   300.0    yes\n",
    "3  NaN  green  female  129.0     NaN     no\n",
    "4    M    red  female   79.0   410.0    yes\n",
    "5    M  green    male   89.0     NaN     no\n",
    "```\n",
    "\n",
    "Braki danych dla kolumny weight zastąpiono średnią wartością tej kolumny wykorzystując klasę SimpleImputer z pakietu scikit-learn. Wyświetl wartość średnią wstawioną w miejsce braków dla tej kolumny (wykorzystaj instancję klasy SimpleImputer).\n",
    "\n",
    "__Wskazówka__: Więcej na temat klasy SimpleImputer: https://scikit-learn.org/stable/modules/generated/sklearn.impute.SimpleImputer.html\n",
    "\n",
    "\n",
    "#### Oczekiwany wynik:\n",
    "```\n",
    "415.0\n",
    "```"
   ]
  },
  {
   "cell_type": "code",
   "execution_count": 7,
   "metadata": {},
   "outputs": [],
   "source": [
    "import numpy as np\n",
    "import pandas as pd\n",
    "from sklearn.impute import SimpleImputer\n",
    "\n",
    "\n",
    "data = {\n",
    "    'size': ['XL', 'L', 'M', np.nan, 'M', 'M'],\n",
    "    'color': ['red', 'green', 'blue', 'green', 'red', 'green'],\n",
    "    'gender': ['female', 'male', np.nan, 'female', 'female', 'male'],\n",
    "    'price': [199.0, 89.0, np.nan, 129.0, 79.0, 89.0],\n",
    "    'weight': [500, 450, 300, np.nan, 410, np.nan],\n",
    "    'bought': ['yes', 'no', 'yes', 'no', 'yes', 'no']\n",
    "}\n",
    "\n",
    "df = pd.DataFrame(data=data)\n",
    "imputer = SimpleImputer(missing_values=np.nan, strategy='mean')\n",
    "df[['weight']] = imputer.fit_transform(df[['weight']])"
   ]
  },
  {
   "cell_type": "code",
   "execution_count": null,
   "metadata": {},
   "outputs": [],
   "source": [
    "# tutaj wpisz rozwiązanie"
   ]
  },
  {
   "cell_type": "markdown",
   "metadata": {},
   "source": [
    "### Ćwiczenie 4\n",
    "Poniżej podany jest obiekt DataFrame df:\n",
    "\n",
    "\n",
    "```\n",
    "  size  color  gender  price  weight bought\n",
    "0   XL    red  female  199.0   500.0    yes\n",
    "1    L  green    male   89.0   450.0     no\n",
    "2    M   blue     NaN    NaN   300.0    yes\n",
    "3  NaN  green  female  129.0     NaN     no\n",
    "4    M    red  female   79.0   410.0    yes\n",
    "5    M  green    male   89.0     NaN     no\n",
    "```\n",
    "\n",
    "Wykorzystując pakiet do uczenia maszynowego scikit-learn oraz klasę SimpleImputer uzupełnij braki danych dla kolumny price stałą wartością 99.0. Zmiany przypisz na stałe do obiektu df i wydrukuj ten obiekt do konsoli.\n",
    "\n",
    "\n",
    "\n",
    "__Wskazówka__: Więcej na temat klasy SimpleImputer: https://scikit-learn.org/stable/modules/generated/sklearn.impute.SimpleImputer.html\n",
    "\n",
    "\n",
    "\n",
    "Oczekiwany wynik:\n",
    "\n",
    "\n",
    "```\n",
    "  size  color  gender  price  weight bought\n",
    "0   XL    red  female  199.0   500.0    yes\n",
    "1    L  green    male   89.0   450.0     no\n",
    "2    M   blue     NaN   99.0   300.0    yes\n",
    "3  NaN  green  female  129.0     NaN     no\n",
    "4    M    red  female   79.0   410.0    yes\n",
    "5    M  green    male   89.0     NaN     no\n",
    "```"
   ]
  },
  {
   "cell_type": "code",
   "execution_count": 9,
   "metadata": {},
   "outputs": [],
   "source": [
    "import numpy as np\n",
    "import pandas as pd\n",
    "from sklearn.impute import SimpleImputer\n",
    "\n",
    "\n",
    "data = {\n",
    "    'size': ['XL', 'L', 'M', np.nan, 'M', 'M'],\n",
    "    'color': ['red', 'green', 'blue', 'green', 'red', 'green'],\n",
    "    'gender': ['female', 'male', np.nan, 'female', 'female', 'male'],\n",
    "    'price': [199.0, 89.0, np.nan, 129.0, 79.0, 89.0],\n",
    "    'weight': [500, 450, 300, np.nan, 410, np.nan],\n",
    "    'bought': ['yes', 'no', 'yes', 'no', 'yes', 'no']\n",
    "}\n",
    "\n",
    "df = pd.DataFrame(data=data)"
   ]
  },
  {
   "cell_type": "code",
   "execution_count": null,
   "metadata": {},
   "outputs": [],
   "source": [
    "# tutaj wpisz rozwiązanie"
   ]
  },
  {
   "cell_type": "markdown",
   "metadata": {},
   "source": [
    "### Ćwiczenie 5\n",
    "Poniżej podany jest obiekt DataFrame df:\n",
    "\n",
    "\n",
    "```\n",
    "  size  color  gender  price  weight bought\n",
    "0   XL    red  female  199.0   500.0    yes\n",
    "1    L  green    male   89.0   450.0     no\n",
    "2    M   blue     NaN    NaN   300.0    yes\n",
    "3  NaN  green  female  129.0     NaN     no\n",
    "4    M    red  female   79.0   410.0    yes\n",
    "5    M  green    male   89.0     NaN     no\n",
    "```\n",
    "\n",
    "Wykorzystując pakiet do uczenia maszynowego scikit-learn oraz klasę SimpleImputer uzupełnij braki danych dla kolumny size najczęściej pojawiającym się elementem tej kolumny. Zmiany przypisz na stałe do obiektu df i wydrukuj ten obiekt df do konsoli.\n",
    "\n",
    "\n",
    "\n",
    "__Wskazówka__: Więcej na temat klasy SimpleImputer: https://scikit-learn.org/stable/modules/generated/sklearn.impute.SimpleImputer.html\n",
    "\n",
    "\n",
    "\n",
    "Oczekiwany wynik:\n",
    "\n",
    "\n",
    "```\n",
    "  size  color  gender  price  weight bought\n",
    "0   XL    red  female  199.0   500.0    yes\n",
    "1    L  green    male   89.0   450.0     no\n",
    "2    M   blue     NaN    NaN   300.0    yes\n",
    "3    M  green  female  129.0     NaN     no\n",
    "4    M    red  female   79.0   410.0    yes\n",
    "5    M  green    male   89.0     NaN     no\n",
    "```"
   ]
  },
  {
   "cell_type": "code",
   "execution_count": 12,
   "metadata": {},
   "outputs": [],
   "source": [
    "# tutaj wpisz rozwiązanie"
   ]
  },
  {
   "cell_type": "markdown",
   "metadata": {},
   "source": [
    "### Ćwiczenie 6\n",
    "Podany jest poniższy obiekt DataFrame:\n",
    "\n",
    "\n",
    "```\n",
    "  size  color  gender  price  weight bought\n",
    "0   XL    red  female  199.0   500.0    yes\n",
    "1    L  green    male   89.0   450.0     no\n",
    "2    M   blue     NaN    NaN   300.0    yes\n",
    "3  NaN  green  female  129.0     NaN     no\n",
    "4    M    red  female   79.0   410.0    yes\n",
    "5    M  green    male   89.0     NaN     no\n",
    "```\n",
    "\n",
    "Wytnij wszystkie wiersze obiektu df dla których kolumna weight nie przyjmuje wartość np.nan. Na tak otrzymanym obiekcie policz wartość średnią dla kolumn numerycznych price oraz weight. Wynik wydrukuj do konsoli.\n",
    "\n",
    "\n",
    "\n",
    "Oczekiwany wynik:\n",
    "\n",
    "\n",
    "```\n",
    "price     122.333333\n",
    "weight    415.000000\n",
    "dtype: float64\n",
    "```"
   ]
  },
  {
   "cell_type": "code",
   "execution_count": 13,
   "metadata": {},
   "outputs": [],
   "source": [
    "import numpy as np\n",
    "import pandas as pd\n",
    "from sklearn.impute import SimpleImputer\n",
    "\n",
    "\n",
    "data = {\n",
    "    'size': ['XL', 'L', 'M', np.nan, 'M', 'M'],\n",
    "    'color': ['red', 'green', 'blue', 'green', 'red', 'green'],\n",
    "    'gender': ['female', 'male', np.nan, 'female', 'female', 'male'],\n",
    "    'price': [199.0, 89.0, np.nan, 129.0, 79.0, 89.0],\n",
    "    'weight': [500, 450, 300, np.nan, 410, np.nan],\n",
    "    'bought': ['yes', 'no', 'yes', 'no', 'yes', 'no']\n",
    "}\n",
    "\n",
    "df = pd.DataFrame(data=data)"
   ]
  },
  {
   "cell_type": "code",
   "execution_count": null,
   "metadata": {},
   "outputs": [],
   "source": [
    "# tutaj wpisz rozwiązanie"
   ]
  },
  {
   "cell_type": "markdown",
   "metadata": {},
   "source": [
    "### Ćwiczenie 7\n",
    "Podany jest poniższy obiekt DataFrame df:\n",
    "\n",
    "\n",
    "```\n",
    "  size  color  gender  price  weight bought\n",
    "0   XL    red  female  199.0   500.0    yes\n",
    "1    L  green    male   89.0   450.0     no\n",
    "2    M   blue     NaN    NaN   300.0    yes\n",
    "3  NaN  green  female  129.0     NaN     no\n",
    "4    M    red  female   79.0   410.0    yes\n",
    "5    M  green    male   89.0     NaN     no\n",
    "```\n",
    "\n",
    "Wydobądź z obiektu df kolumny typu object. Następnie uzupełnij wszystkie braki dla tych kolumn wartością 'empty'. Przypisz wynik do zmiennej df_object i wydrukuj tą zmienną do konsoli.\n",
    "\n",
    "\n",
    "\n",
    "Oczekiwany wynik:\n",
    "\n",
    "\n",
    "```\n",
    "    size  color  gender bought\n",
    "0     XL    red  female    yes\n",
    "1      L  green    male     no\n",
    "2      M   blue   empty    yes\n",
    "3  empty  green  female     no\n",
    "4      M    red  female    yes\n",
    "5      M  green    male     no\n",
    "```"
   ]
  },
  {
   "cell_type": "code",
   "execution_count": 15,
   "metadata": {},
   "outputs": [],
   "source": [
    "import numpy as np\n",
    "import pandas as pd\n",
    "from sklearn.impute import SimpleImputer\n",
    "\n",
    "\n",
    "data = {\n",
    "    'size': ['XL', 'L', 'M', np.nan, 'M', 'M'],\n",
    "    'color': ['red', 'green', 'blue', 'green', 'red', 'green'],\n",
    "    'gender': ['female', 'male', np.nan, 'female', 'female', 'male'],\n",
    "    'price': [199.0, 89.0, np.nan, 129.0, 79.0, 89.0],\n",
    "    'weight': [500, 450, 300, np.nan, 410, np.nan],\n",
    "    'bought': ['yes', 'no', 'yes', 'no', 'yes', 'no']\n",
    "}\n",
    "\n",
    "df = pd.DataFrame(data=data)"
   ]
  },
  {
   "cell_type": "code",
   "execution_count": null,
   "metadata": {},
   "outputs": [],
   "source": [
    "# tutaj wpisz rozwiązanie"
   ]
  },
  {
   "cell_type": "markdown",
   "metadata": {},
   "source": [
    "### Ćwiczenie 8\n",
    "Podany jest poniższy obiekt DataFrame:\n",
    "\n",
    "\n",
    "```\n",
    "df = pd.DataFrame(data={'weight': [75., 78.5, 85., 91., 84.5, 83., 68.]})\n",
    "```\n",
    "\n",
    "Dokonaj dyskretyzacji kolumny weight na 3 przedziały o równej szerokości. Wynik przypisz do nowej kolumny o nazwie 'weight_cut' tak jak pokazano poniżej. W odpowiedzi wydrukuj obiekt df do konsoli.\n",
    "\n",
    "\n",
    "\n",
    "Oczekiwany wynik:\n",
    "\n",
    "\n",
    "```\n",
    "   weight        weight_cut\n",
    "0    75.0  (67.977, 75.667]\n",
    "1    78.5  (75.667, 83.333]\n",
    "2    85.0    (83.333, 91.0]\n",
    "3    91.0    (83.333, 91.0]\n",
    "4    84.5    (83.333, 91.0]\n",
    "5    83.0  (75.667, 83.333]\n",
    "6    68.0  (67.977, 75.667]\n",
    "```"
   ]
  },
  {
   "cell_type": "code",
   "execution_count": 17,
   "metadata": {},
   "outputs": [],
   "source": [
    "import pandas as pd\n",
    "\n",
    "df = pd.DataFrame(data={'weight': [75., 78.5, 85., 91., 84.5, 83., 68.]})"
   ]
  },
  {
   "cell_type": "code",
   "execution_count": null,
   "metadata": {},
   "outputs": [],
   "source": [
    "# tutaj wpisz rozwiązanie"
   ]
  },
  {
   "cell_type": "markdown",
   "metadata": {},
   "source": [
    "### Ćwiczenie 9\n",
    "Podany jest poniższy obiekt DataFrame:\n",
    "\n",
    "\n",
    "```\n",
    "df = pd.DataFrame(data={'weight': [75., 78.5, 85., 91., 84.5, 83., 68.]})\n",
    "```\n",
    "\n",
    "Dokonaj dyskretyzacji kolumny weight na 3 przedziały o zadanej postaci:\n",
    "```\n",
    "(60, 75]\n",
    "\n",
    "(75, 80]\n",
    "\n",
    "(80, 95]\n",
    "```\n",
    "Wynik przypisz do nowej kolumny o nazwie `weight_cut` tak jak pokazano poniżej. W odpowiedzi wydrukuj obiekt df do konsoli.\n",
    "\n",
    "\n",
    "\n",
    "Oczekiwany wynik:\n",
    "\n",
    "\n",
    "```\n",
    "   weight weight_cut\n",
    "0    75.0   (60, 75]\n",
    "1    78.5   (75, 80]\n",
    "2    85.0   (80, 95]\n",
    "3    91.0   (80, 95]\n",
    "4    84.5   (80, 95]\n",
    "5    83.0   (80, 95]\n",
    "6    68.0   (60, 75]\n",
    "```"
   ]
  },
  {
   "cell_type": "code",
   "execution_count": 19,
   "metadata": {},
   "outputs": [],
   "source": [
    "import pandas as pd\n",
    "\n",
    "df = pd.DataFrame(data={'weight': [75., 78.5, 85., 91., 84.5, 83., 68.]})"
   ]
  },
  {
   "cell_type": "code",
   "execution_count": null,
   "metadata": {},
   "outputs": [],
   "source": [
    "# tutaj wpisz rozwiązanie"
   ]
  },
  {
   "cell_type": "markdown",
   "metadata": {},
   "source": [
    "### Ćwiczenie 10\n",
    "Podany jest poniższy obiekt DataFrame:\n",
    "\n",
    "\n",
    "```\n",
    "df = pd.DataFrame(data={'weight': [75., 78.5, 85., 91., 84.5, 83., 68.]})\n",
    "```\n",
    "\n",
    "Dokonaj dyskretyzacji kolumny weight na 3 przedziały o zadanej postaci:\n",
    "```\n",
    "(60, 75]\n",
    "\n",
    "(75, 80]\n",
    "\n",
    "(80, 95]\n",
    "```\n",
    "oraz przypisz im odpowiednio etykiety:\n",
    "```\n",
    "light\n",
    "\n",
    "normal\n",
    "\n",
    "heavy\n",
    "```\n",
    "Wynik przypisz do nowej kolumny o nazwie `weight_cut` tak jak pokazano poniżej. W odpowiedzi wydrukuj obiekt df do konsoli.\n",
    "\n",
    "\n",
    "\n",
    "Oczekiwany wynik:\n",
    "\n",
    "\n",
    "```\n",
    "   weight weight_cut\n",
    "0    75.0      light\n",
    "1    78.5     normal\n",
    "2    85.0      heavy\n",
    "3    91.0      heavy\n",
    "4    84.5      heavy\n",
    "5    83.0      heavy\n",
    "6    68.0      light\n",
    "```"
   ]
  },
  {
   "cell_type": "code",
   "execution_count": 21,
   "metadata": {},
   "outputs": [],
   "source": [
    "import pandas as pd\n",
    "\n",
    "df = pd.DataFrame(data={'weight': [75., 78.5, 85., 91., 84.5, 83., 68.]})"
   ]
  },
  {
   "cell_type": "code",
   "execution_count": null,
   "metadata": {},
   "outputs": [],
   "source": [
    "# tutaj wpisz rozwiązanie"
   ]
  }
 ],
 "metadata": {
  "colab": {
   "provenance": []
  },
  "kernelspec": {
   "display_name": "Python 3 (ipykernel)",
   "language": "python",
   "name": "python3"
  },
  "language_info": {
   "codemirror_mode": {
    "name": "ipython",
    "version": 3
   },
   "file_extension": ".py",
   "mimetype": "text/x-python",
   "name": "python",
   "nbconvert_exporter": "python",
   "pygments_lexer": "ipython3",
   "version": "3.9.13"
  }
 },
 "nbformat": 4,
 "nbformat_minor": 1
}
