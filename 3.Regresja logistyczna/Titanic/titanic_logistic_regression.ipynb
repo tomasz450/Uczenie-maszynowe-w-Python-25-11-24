{
 "cells": [
  {
   "cell_type": "markdown",
   "id": "79f2e6e6",
   "metadata": {
    "papermill": {
     "duration": 0.012432,
     "end_time": "2023-08-29T12:23:37.388375",
     "exception": false,
     "start_time": "2023-08-29T12:23:37.375943",
     "status": "completed"
    },
    "tags": []
   },
   "source": [
    "## https://www.kaggle.com/competitions/titanic/overview"
   ]
  },
  {
   "cell_type": "code",
   "execution_count": 18,
   "id": "74527337",
   "metadata": {
    "execution": {
     "iopub.execute_input": "2023-08-29T12:23:37.414242Z",
     "iopub.status.busy": "2023-08-29T12:23:37.413411Z",
     "iopub.status.idle": "2023-08-29T12:23:39.394884Z",
     "shell.execute_reply": "2023-08-29T12:23:39.393065Z"
    },
    "papermill": {
     "duration": 1.997752,
     "end_time": "2023-08-29T12:23:39.398005",
     "exception": false,
     "start_time": "2023-08-29T12:23:37.400253",
     "status": "completed"
    },
    "tags": []
   },
   "outputs": [],
   "source": [
    "import pandas as pd\n",
    "import numpy as np\n",
    "from matplotlib import pyplot as plt\n",
    "import seaborn as sns\n",
    "from sklearn.metrics import accuracy_score\n",
    "from sklearn.preprocessing import LabelEncoder, OneHotEncoder, StandardScaler\n",
    "from sklearn.impute import KNNImputer\n",
    "\n",
    "import warnings\n",
    "warnings.filterwarnings(\"ignore\")"
   ]
  },
  {
   "cell_type": "markdown",
   "id": "c78cbd31",
   "metadata": {
    "papermill": {
     "duration": 0.011296,
     "end_time": "2023-08-29T12:23:39.421171",
     "exception": false,
     "start_time": "2023-08-29T12:23:39.409875",
     "status": "completed"
    },
    "tags": []
   },
   "source": [
    "## Loading the data"
   ]
  },
  {
   "cell_type": "code",
   "execution_count": 84,
   "id": "c1163495",
   "metadata": {
    "execution": {
     "iopub.execute_input": "2023-08-29T12:23:39.446810Z",
     "iopub.status.busy": "2023-08-29T12:23:39.446412Z",
     "iopub.status.idle": "2023-08-29T12:23:39.482357Z",
     "shell.execute_reply": "2023-08-29T12:23:39.481210Z"
    },
    "papermill": {
     "duration": 0.051623,
     "end_time": "2023-08-29T12:23:39.485052",
     "exception": false,
     "start_time": "2023-08-29T12:23:39.433429",
     "status": "completed"
    },
    "tags": []
   },
   "outputs": [],
   "source": [
    "train_data=pd.read_csv(\"train.csv\")\n",
    "test_data=pd.read_csv(\"test.csv\")"
   ]
  },
  {
   "cell_type": "code",
   "execution_count": 85,
   "id": "db44e238",
   "metadata": {},
   "outputs": [
    {
     "data": {
      "text/html": [
       "<div>\n",
       "<style scoped>\n",
       "    .dataframe tbody tr th:only-of-type {\n",
       "        vertical-align: middle;\n",
       "    }\n",
       "\n",
       "    .dataframe tbody tr th {\n",
       "        vertical-align: top;\n",
       "    }\n",
       "\n",
       "    .dataframe thead th {\n",
       "        text-align: right;\n",
       "    }\n",
       "</style>\n",
       "<table border=\"1\" class=\"dataframe\">\n",
       "  <thead>\n",
       "    <tr style=\"text-align: right;\">\n",
       "      <th></th>\n",
       "      <th>PassengerId</th>\n",
       "      <th>Pclass</th>\n",
       "      <th>Name</th>\n",
       "      <th>Sex</th>\n",
       "      <th>Age</th>\n",
       "      <th>SibSp</th>\n",
       "      <th>Parch</th>\n",
       "      <th>Ticket</th>\n",
       "      <th>Fare</th>\n",
       "      <th>Cabin</th>\n",
       "      <th>Embarked</th>\n",
       "    </tr>\n",
       "  </thead>\n",
       "  <tbody>\n",
       "    <tr>\n",
       "      <th>0</th>\n",
       "      <td>892</td>\n",
       "      <td>3</td>\n",
       "      <td>Kelly, Mr. James</td>\n",
       "      <td>male</td>\n",
       "      <td>34.5</td>\n",
       "      <td>0</td>\n",
       "      <td>0</td>\n",
       "      <td>330911</td>\n",
       "      <td>7.8292</td>\n",
       "      <td>NaN</td>\n",
       "      <td>Q</td>\n",
       "    </tr>\n",
       "    <tr>\n",
       "      <th>1</th>\n",
       "      <td>893</td>\n",
       "      <td>3</td>\n",
       "      <td>Wilkes, Mrs. James (Ellen Needs)</td>\n",
       "      <td>female</td>\n",
       "      <td>47.0</td>\n",
       "      <td>1</td>\n",
       "      <td>0</td>\n",
       "      <td>363272</td>\n",
       "      <td>7.0000</td>\n",
       "      <td>NaN</td>\n",
       "      <td>S</td>\n",
       "    </tr>\n",
       "    <tr>\n",
       "      <th>2</th>\n",
       "      <td>894</td>\n",
       "      <td>2</td>\n",
       "      <td>Myles, Mr. Thomas Francis</td>\n",
       "      <td>male</td>\n",
       "      <td>62.0</td>\n",
       "      <td>0</td>\n",
       "      <td>0</td>\n",
       "      <td>240276</td>\n",
       "      <td>9.6875</td>\n",
       "      <td>NaN</td>\n",
       "      <td>Q</td>\n",
       "    </tr>\n",
       "    <tr>\n",
       "      <th>3</th>\n",
       "      <td>895</td>\n",
       "      <td>3</td>\n",
       "      <td>Wirz, Mr. Albert</td>\n",
       "      <td>male</td>\n",
       "      <td>27.0</td>\n",
       "      <td>0</td>\n",
       "      <td>0</td>\n",
       "      <td>315154</td>\n",
       "      <td>8.6625</td>\n",
       "      <td>NaN</td>\n",
       "      <td>S</td>\n",
       "    </tr>\n",
       "    <tr>\n",
       "      <th>4</th>\n",
       "      <td>896</td>\n",
       "      <td>3</td>\n",
       "      <td>Hirvonen, Mrs. Alexander (Helga E Lindqvist)</td>\n",
       "      <td>female</td>\n",
       "      <td>22.0</td>\n",
       "      <td>1</td>\n",
       "      <td>1</td>\n",
       "      <td>3101298</td>\n",
       "      <td>12.2875</td>\n",
       "      <td>NaN</td>\n",
       "      <td>S</td>\n",
       "    </tr>\n",
       "    <tr>\n",
       "      <th>...</th>\n",
       "      <td>...</td>\n",
       "      <td>...</td>\n",
       "      <td>...</td>\n",
       "      <td>...</td>\n",
       "      <td>...</td>\n",
       "      <td>...</td>\n",
       "      <td>...</td>\n",
       "      <td>...</td>\n",
       "      <td>...</td>\n",
       "      <td>...</td>\n",
       "      <td>...</td>\n",
       "    </tr>\n",
       "    <tr>\n",
       "      <th>413</th>\n",
       "      <td>1305</td>\n",
       "      <td>3</td>\n",
       "      <td>Spector, Mr. Woolf</td>\n",
       "      <td>male</td>\n",
       "      <td>NaN</td>\n",
       "      <td>0</td>\n",
       "      <td>0</td>\n",
       "      <td>A.5. 3236</td>\n",
       "      <td>8.0500</td>\n",
       "      <td>NaN</td>\n",
       "      <td>S</td>\n",
       "    </tr>\n",
       "    <tr>\n",
       "      <th>414</th>\n",
       "      <td>1306</td>\n",
       "      <td>1</td>\n",
       "      <td>Oliva y Ocana, Dona. Fermina</td>\n",
       "      <td>female</td>\n",
       "      <td>39.0</td>\n",
       "      <td>0</td>\n",
       "      <td>0</td>\n",
       "      <td>PC 17758</td>\n",
       "      <td>108.9000</td>\n",
       "      <td>C105</td>\n",
       "      <td>C</td>\n",
       "    </tr>\n",
       "    <tr>\n",
       "      <th>415</th>\n",
       "      <td>1307</td>\n",
       "      <td>3</td>\n",
       "      <td>Saether, Mr. Simon Sivertsen</td>\n",
       "      <td>male</td>\n",
       "      <td>38.5</td>\n",
       "      <td>0</td>\n",
       "      <td>0</td>\n",
       "      <td>SOTON/O.Q. 3101262</td>\n",
       "      <td>7.2500</td>\n",
       "      <td>NaN</td>\n",
       "      <td>S</td>\n",
       "    </tr>\n",
       "    <tr>\n",
       "      <th>416</th>\n",
       "      <td>1308</td>\n",
       "      <td>3</td>\n",
       "      <td>Ware, Mr. Frederick</td>\n",
       "      <td>male</td>\n",
       "      <td>NaN</td>\n",
       "      <td>0</td>\n",
       "      <td>0</td>\n",
       "      <td>359309</td>\n",
       "      <td>8.0500</td>\n",
       "      <td>NaN</td>\n",
       "      <td>S</td>\n",
       "    </tr>\n",
       "    <tr>\n",
       "      <th>417</th>\n",
       "      <td>1309</td>\n",
       "      <td>3</td>\n",
       "      <td>Peter, Master. Michael J</td>\n",
       "      <td>male</td>\n",
       "      <td>NaN</td>\n",
       "      <td>1</td>\n",
       "      <td>1</td>\n",
       "      <td>2668</td>\n",
       "      <td>22.3583</td>\n",
       "      <td>NaN</td>\n",
       "      <td>C</td>\n",
       "    </tr>\n",
       "  </tbody>\n",
       "</table>\n",
       "<p>418 rows × 11 columns</p>\n",
       "</div>"
      ],
      "text/plain": [
       "     PassengerId  Pclass                                          Name  \\\n",
       "0            892       3                              Kelly, Mr. James   \n",
       "1            893       3              Wilkes, Mrs. James (Ellen Needs)   \n",
       "2            894       2                     Myles, Mr. Thomas Francis   \n",
       "3            895       3                              Wirz, Mr. Albert   \n",
       "4            896       3  Hirvonen, Mrs. Alexander (Helga E Lindqvist)   \n",
       "..           ...     ...                                           ...   \n",
       "413         1305       3                            Spector, Mr. Woolf   \n",
       "414         1306       1                  Oliva y Ocana, Dona. Fermina   \n",
       "415         1307       3                  Saether, Mr. Simon Sivertsen   \n",
       "416         1308       3                           Ware, Mr. Frederick   \n",
       "417         1309       3                      Peter, Master. Michael J   \n",
       "\n",
       "        Sex   Age  SibSp  Parch              Ticket      Fare Cabin Embarked  \n",
       "0      male  34.5      0      0              330911    7.8292   NaN        Q  \n",
       "1    female  47.0      1      0              363272    7.0000   NaN        S  \n",
       "2      male  62.0      0      0              240276    9.6875   NaN        Q  \n",
       "3      male  27.0      0      0              315154    8.6625   NaN        S  \n",
       "4    female  22.0      1      1             3101298   12.2875   NaN        S  \n",
       "..      ...   ...    ...    ...                 ...       ...   ...      ...  \n",
       "413    male   NaN      0      0           A.5. 3236    8.0500   NaN        S  \n",
       "414  female  39.0      0      0            PC 17758  108.9000  C105        C  \n",
       "415    male  38.5      0      0  SOTON/O.Q. 3101262    7.2500   NaN        S  \n",
       "416    male   NaN      0      0              359309    8.0500   NaN        S  \n",
       "417    male   NaN      1      1                2668   22.3583   NaN        C  \n",
       "\n",
       "[418 rows x 11 columns]"
      ]
     },
     "execution_count": 85,
     "metadata": {},
     "output_type": "execute_result"
    }
   ],
   "source": [
    "test_data"
   ]
  },
  {
   "cell_type": "code",
   "execution_count": 86,
   "id": "c32e1bcf",
   "metadata": {
    "execution": {
     "iopub.execute_input": "2023-08-29T12:23:39.510386Z",
     "iopub.status.busy": "2023-08-29T12:23:39.510009Z",
     "iopub.status.idle": "2023-08-29T12:23:39.535770Z",
     "shell.execute_reply": "2023-08-29T12:23:39.534498Z"
    },
    "papermill": {
     "duration": 0.041472,
     "end_time": "2023-08-29T12:23:39.538159",
     "exception": false,
     "start_time": "2023-08-29T12:23:39.496687",
     "status": "completed"
    },
    "tags": []
   },
   "outputs": [
    {
     "data": {
      "text/html": [
       "<div>\n",
       "<style scoped>\n",
       "    .dataframe tbody tr th:only-of-type {\n",
       "        vertical-align: middle;\n",
       "    }\n",
       "\n",
       "    .dataframe tbody tr th {\n",
       "        vertical-align: top;\n",
       "    }\n",
       "\n",
       "    .dataframe thead th {\n",
       "        text-align: right;\n",
       "    }\n",
       "</style>\n",
       "<table border=\"1\" class=\"dataframe\">\n",
       "  <thead>\n",
       "    <tr style=\"text-align: right;\">\n",
       "      <th></th>\n",
       "      <th>PassengerId</th>\n",
       "      <th>Survived</th>\n",
       "      <th>Pclass</th>\n",
       "      <th>Name</th>\n",
       "      <th>Sex</th>\n",
       "      <th>Age</th>\n",
       "      <th>SibSp</th>\n",
       "      <th>Parch</th>\n",
       "      <th>Ticket</th>\n",
       "      <th>Fare</th>\n",
       "      <th>Cabin</th>\n",
       "      <th>Embarked</th>\n",
       "    </tr>\n",
       "  </thead>\n",
       "  <tbody>\n",
       "    <tr>\n",
       "      <th>0</th>\n",
       "      <td>1</td>\n",
       "      <td>0</td>\n",
       "      <td>3</td>\n",
       "      <td>Braund, Mr. Owen Harris</td>\n",
       "      <td>male</td>\n",
       "      <td>22.0</td>\n",
       "      <td>1</td>\n",
       "      <td>0</td>\n",
       "      <td>A/5 21171</td>\n",
       "      <td>7.2500</td>\n",
       "      <td>NaN</td>\n",
       "      <td>S</td>\n",
       "    </tr>\n",
       "    <tr>\n",
       "      <th>1</th>\n",
       "      <td>2</td>\n",
       "      <td>1</td>\n",
       "      <td>1</td>\n",
       "      <td>Cumings, Mrs. John Bradley (Florence Briggs Th...</td>\n",
       "      <td>female</td>\n",
       "      <td>38.0</td>\n",
       "      <td>1</td>\n",
       "      <td>0</td>\n",
       "      <td>PC 17599</td>\n",
       "      <td>71.2833</td>\n",
       "      <td>C85</td>\n",
       "      <td>C</td>\n",
       "    </tr>\n",
       "    <tr>\n",
       "      <th>2</th>\n",
       "      <td>3</td>\n",
       "      <td>1</td>\n",
       "      <td>3</td>\n",
       "      <td>Heikkinen, Miss. Laina</td>\n",
       "      <td>female</td>\n",
       "      <td>26.0</td>\n",
       "      <td>0</td>\n",
       "      <td>0</td>\n",
       "      <td>STON/O2. 3101282</td>\n",
       "      <td>7.9250</td>\n",
       "      <td>NaN</td>\n",
       "      <td>S</td>\n",
       "    </tr>\n",
       "    <tr>\n",
       "      <th>3</th>\n",
       "      <td>4</td>\n",
       "      <td>1</td>\n",
       "      <td>1</td>\n",
       "      <td>Futrelle, Mrs. Jacques Heath (Lily May Peel)</td>\n",
       "      <td>female</td>\n",
       "      <td>35.0</td>\n",
       "      <td>1</td>\n",
       "      <td>0</td>\n",
       "      <td>113803</td>\n",
       "      <td>53.1000</td>\n",
       "      <td>C123</td>\n",
       "      <td>S</td>\n",
       "    </tr>\n",
       "    <tr>\n",
       "      <th>4</th>\n",
       "      <td>5</td>\n",
       "      <td>0</td>\n",
       "      <td>3</td>\n",
       "      <td>Allen, Mr. William Henry</td>\n",
       "      <td>male</td>\n",
       "      <td>35.0</td>\n",
       "      <td>0</td>\n",
       "      <td>0</td>\n",
       "      <td>373450</td>\n",
       "      <td>8.0500</td>\n",
       "      <td>NaN</td>\n",
       "      <td>S</td>\n",
       "    </tr>\n",
       "  </tbody>\n",
       "</table>\n",
       "</div>"
      ],
      "text/plain": [
       "   PassengerId  Survived  Pclass  \\\n",
       "0            1         0       3   \n",
       "1            2         1       1   \n",
       "2            3         1       3   \n",
       "3            4         1       1   \n",
       "4            5         0       3   \n",
       "\n",
       "                                                Name     Sex   Age  SibSp  \\\n",
       "0                            Braund, Mr. Owen Harris    male  22.0      1   \n",
       "1  Cumings, Mrs. John Bradley (Florence Briggs Th...  female  38.0      1   \n",
       "2                             Heikkinen, Miss. Laina  female  26.0      0   \n",
       "3       Futrelle, Mrs. Jacques Heath (Lily May Peel)  female  35.0      1   \n",
       "4                           Allen, Mr. William Henry    male  35.0      0   \n",
       "\n",
       "   Parch            Ticket     Fare Cabin Embarked  \n",
       "0      0         A/5 21171   7.2500   NaN        S  \n",
       "1      0          PC 17599  71.2833   C85        C  \n",
       "2      0  STON/O2. 3101282   7.9250   NaN        S  \n",
       "3      0            113803  53.1000  C123        S  \n",
       "4      0            373450   8.0500   NaN        S  "
      ]
     },
     "execution_count": 86,
     "metadata": {},
     "output_type": "execute_result"
    }
   ],
   "source": [
    "train_data.head()"
   ]
  },
  {
   "cell_type": "code",
   "execution_count": 87,
   "id": "b38d63c6",
   "metadata": {
    "execution": {
     "iopub.execute_input": "2023-08-29T12:23:39.564108Z",
     "iopub.status.busy": "2023-08-29T12:23:39.563357Z",
     "iopub.status.idle": "2023-08-29T12:23:39.569480Z",
     "shell.execute_reply": "2023-08-29T12:23:39.568310Z"
    },
    "papermill": {
     "duration": 0.021584,
     "end_time": "2023-08-29T12:23:39.571682",
     "exception": false,
     "start_time": "2023-08-29T12:23:39.550098",
     "status": "completed"
    },
    "tags": []
   },
   "outputs": [
    {
     "data": {
      "text/plain": [
       "(891, 12)"
      ]
     },
     "execution_count": 87,
     "metadata": {},
     "output_type": "execute_result"
    }
   ],
   "source": [
    "train_data.shape"
   ]
  },
  {
   "cell_type": "code",
   "execution_count": 88,
   "id": "5412736b",
   "metadata": {
    "execution": {
     "iopub.execute_input": "2023-08-29T12:23:39.597693Z",
     "iopub.status.busy": "2023-08-29T12:23:39.597235Z",
     "iopub.status.idle": "2023-08-29T12:23:39.624739Z",
     "shell.execute_reply": "2023-08-29T12:23:39.623922Z"
    },
    "papermill": {
     "duration": 0.043901,
     "end_time": "2023-08-29T12:23:39.627498",
     "exception": false,
     "start_time": "2023-08-29T12:23:39.583597",
     "status": "completed"
    },
    "tags": []
   },
   "outputs": [
    {
     "name": "stdout",
     "output_type": "stream",
     "text": [
      "<class 'pandas.core.frame.DataFrame'>\n",
      "RangeIndex: 891 entries, 0 to 890\n",
      "Data columns (total 12 columns):\n",
      " #   Column       Non-Null Count  Dtype  \n",
      "---  ------       --------------  -----  \n",
      " 0   PassengerId  891 non-null    int64  \n",
      " 1   Survived     891 non-null    int64  \n",
      " 2   Pclass       891 non-null    int64  \n",
      " 3   Name         891 non-null    object \n",
      " 4   Sex          891 non-null    object \n",
      " 5   Age          714 non-null    float64\n",
      " 6   SibSp        891 non-null    int64  \n",
      " 7   Parch        891 non-null    int64  \n",
      " 8   Ticket       891 non-null    object \n",
      " 9   Fare         891 non-null    float64\n",
      " 10  Cabin        204 non-null    object \n",
      " 11  Embarked     889 non-null    object \n",
      "dtypes: float64(2), int64(5), object(5)\n",
      "memory usage: 83.7+ KB\n"
     ]
    }
   ],
   "source": [
    "train_data.info()"
   ]
  },
  {
   "cell_type": "code",
   "execution_count": 121,
   "id": "a21ca0bb",
   "metadata": {
    "execution": {
     "iopub.execute_input": "2023-08-29T12:23:39.653779Z",
     "iopub.status.busy": "2023-08-29T12:23:39.652798Z",
     "iopub.status.idle": "2023-08-29T12:23:39.660273Z",
     "shell.execute_reply": "2023-08-29T12:23:39.659354Z"
    },
    "papermill": {
     "duration": 0.022751,
     "end_time": "2023-08-29T12:23:39.662308",
     "exception": false,
     "start_time": "2023-08-29T12:23:39.639557",
     "status": "completed"
    },
    "tags": []
   },
   "outputs": [
    {
     "data": {
      "text/plain": [
       "Survived\n",
       "0    549\n",
       "1    342\n",
       "Name: count, dtype: int64"
      ]
     },
     "execution_count": 121,
     "metadata": {},
     "output_type": "execute_result"
    }
   ],
   "source": [
    "train_data['Survived'].value_counts()"
   ]
  },
  {
   "cell_type": "markdown",
   "id": "52fd6c21",
   "metadata": {
    "papermill": {
     "duration": 0.012406,
     "end_time": "2023-08-29T12:23:39.687804",
     "exception": false,
     "start_time": "2023-08-29T12:23:39.675398",
     "status": "completed"
    },
    "tags": []
   },
   "source": [
    "## Zmienna celu (zmienna zależna):\n",
    "Zmienna celu, znana również jako zmienna zależna, to zmienna, którą chcesz przewidzieć lub wyjaśnić. Jest to wynik, który chcesz zrozumieć lub przewidzieć.\n",
    "\n",
    "Przetrwał czy nie (0 nie przeżył, a 1 przeżył)\n",
    "\n",
    "## Zmienne niezależne:\n",
    "Zmienne niezależne, zwane także zmiennymi predykcyjnymi, to zmienne używane do wyjaśniania lub przewidywania zmiennej celu.\n",
    "\n",
    "Stanowią one dane wejściowe do modelu predykcyjnego i zakłada się, że wpływają na zmienną celu lub mają z nią związek."
   ]
  },
  {
   "cell_type": "markdown",
   "id": "092b2fb6",
   "metadata": {
    "papermill": {
     "duration": 0.011879,
     "end_time": "2023-08-29T12:23:39.772461",
     "exception": false,
     "start_time": "2023-08-29T12:23:39.760582",
     "status": "completed"
    },
    "tags": []
   },
   "source": [
    "## Visualization Using Matplotlib"
   ]
  },
  {
   "cell_type": "code",
   "execution_count": 90,
   "id": "ebc70511",
   "metadata": {
    "execution": {
     "iopub.execute_input": "2023-08-29T12:23:39.799494Z",
     "iopub.status.busy": "2023-08-29T12:23:39.798748Z",
     "iopub.status.idle": "2023-08-29T12:23:40.040402Z",
     "shell.execute_reply": "2023-08-29T12:23:40.039175Z"
    },
    "papermill": {
     "duration": 0.257706,
     "end_time": "2023-08-29T12:23:40.042814",
     "exception": false,
     "start_time": "2023-08-29T12:23:39.785108",
     "status": "completed"
    },
    "scrolled": false,
    "tags": []
   },
   "outputs": [
    {
     "data": {
      "text/plain": [
       "<BarContainer object of 2 artists>"
      ]
     },
     "execution_count": 90,
     "metadata": {},
     "output_type": "execute_result"
    },
    {
     "data": {
      "image/png": "[encoded data removed]",
      "text/plain": [
       "<Figure size 500x500 with 1 Axes>"
      ]
     },
     "metadata": {},
     "output_type": "display_data"
    }
   ],
   "source": [
    "plt.figure(figsize=(5,5))\n",
    "\n",
    "plt.bar(list(train_data[\"Survived\"].value_counts().keys()),list(train_data[\"Survived\"].value_counts()),color=[\"r\",\"g\"])\n"
   ]
  },
  {
   "cell_type": "markdown",
   "id": "0ca51fcb",
   "metadata": {
    "papermill": {
     "duration": 0.012116,
     "end_time": "2023-08-29T12:23:40.067359",
     "exception": false,
     "start_time": "2023-08-29T12:23:40.055243",
     "status": "completed"
    },
    "tags": []
   },
   "source": [
    "## Pclass - Ticket class 1st , 2nd and 3rd"
   ]
  },
  {
   "cell_type": "code",
   "execution_count": 91,
   "id": "a203e27f",
   "metadata": {
    "execution": {
     "iopub.execute_input": "2023-08-29T12:23:40.095759Z",
     "iopub.status.busy": "2023-08-29T12:23:40.095304Z",
     "iopub.status.idle": "2023-08-29T12:23:40.104628Z",
     "shell.execute_reply": "2023-08-29T12:23:40.103417Z"
    },
    "papermill": {
     "duration": 0.025724,
     "end_time": "2023-08-29T12:23:40.107041",
     "exception": false,
     "start_time": "2023-08-29T12:23:40.081317",
     "status": "completed"
    },
    "tags": []
   },
   "outputs": [
    {
     "data": {
      "text/plain": [
       "Pclass\n",
       "3    491\n",
       "1    216\n",
       "2    184\n",
       "Name: count, dtype: int64"
      ]
     },
     "execution_count": 91,
     "metadata": {},
     "output_type": "execute_result"
    }
   ],
   "source": [
    "train_data['Pclass'].value_counts()"
   ]
  },
  {
   "cell_type": "code",
   "execution_count": 92,
   "id": "92b9a4da",
   "metadata": {
    "execution": {
     "iopub.execute_input": "2023-08-29T12:23:40.171607Z",
     "iopub.status.busy": "2023-08-29T12:23:40.170957Z",
     "iopub.status.idle": "2023-08-29T12:23:40.386950Z",
     "shell.execute_reply": "2023-08-29T12:23:40.385752Z"
    },
    "papermill": {
     "duration": 0.232818,
     "end_time": "2023-08-29T12:23:40.389563",
     "exception": false,
     "start_time": "2023-08-29T12:23:40.156745",
     "status": "completed"
    },
    "tags": []
   },
   "outputs": [
    {
     "data": {
      "image/png": "[encoded data removed]",
      "text/plain": [
       "<Figure size 500x500 with 1 Axes>"
      ]
     },
     "metadata": {},
     "output_type": "display_data"
    }
   ],
   "source": [
    "plt.figure(figsize=(5,5))\n",
    "\n",
    "plt.bar(list(train_data[\"Pclass\"].value_counts().keys()),list(train_data[\"Pclass\"].value_counts()),color=[\"blue\",\"orange\",\"green\"])\n",
    "\n",
    "plt.show()"
   ]
  },
  {
   "cell_type": "code",
   "execution_count": 93,
   "id": "b2210447",
   "metadata": {
    "execution": {
     "iopub.execute_input": "2023-08-29T12:23:40.418568Z",
     "iopub.status.busy": "2023-08-29T12:23:40.417940Z",
     "iopub.status.idle": "2023-08-29T12:23:40.426315Z",
     "shell.execute_reply": "2023-08-29T12:23:40.425411Z"
    },
    "papermill": {
     "duration": 0.024986,
     "end_time": "2023-08-29T12:23:40.428347",
     "exception": false,
     "start_time": "2023-08-29T12:23:40.403361",
     "status": "completed"
    },
    "tags": []
   },
   "outputs": [
    {
     "data": {
      "text/plain": [
       "Sex\n",
       "male      577\n",
       "female    314\n",
       "Name: count, dtype: int64"
      ]
     },
     "execution_count": 93,
     "metadata": {},
     "output_type": "execute_result"
    }
   ],
   "source": [
    "train_data['Sex'].value_counts()"
   ]
  },
  {
   "cell_type": "code",
   "execution_count": 94,
   "id": "ec6f0dce",
   "metadata": {
    "execution": {
     "iopub.execute_input": "2023-08-29T12:23:40.496677Z",
     "iopub.status.busy": "2023-08-29T12:23:40.496241Z",
     "iopub.status.idle": "2023-08-29T12:23:40.666839Z",
     "shell.execute_reply": "2023-08-29T12:23:40.665738Z"
    },
    "papermill": {
     "duration": 0.187948,
     "end_time": "2023-08-29T12:23:40.669344",
     "exception": false,
     "start_time": "2023-08-29T12:23:40.481396",
     "status": "completed"
    },
    "tags": []
   },
   "outputs": [
    {
     "data": {
      "image/png": "[encoded data removed]",
      "text/plain": [
       "<Figure size 500x500 with 1 Axes>"
      ]
     },
     "metadata": {},
     "output_type": "display_data"
    }
   ],
   "source": [
    "plt.figure(figsize=(5,5))\n",
    "\n",
    "plt.bar(list(train_data[\"Sex\"].value_counts().keys()),list(train_data[\"Sex\"].value_counts()),color=[\"orange\",\"green\"])\n",
    "\n",
    "plt.show()"
   ]
  },
  {
   "cell_type": "code",
   "execution_count": 95,
   "id": "ed2d5a27",
   "metadata": {
    "execution": {
     "iopub.execute_input": "2023-08-29T12:23:40.699481Z",
     "iopub.status.busy": "2023-08-29T12:23:40.699064Z",
     "iopub.status.idle": "2023-08-29T12:23:40.993573Z",
     "shell.execute_reply": "2023-08-29T12:23:40.992456Z"
    },
    "papermill": {
     "duration": 0.311951,
     "end_time": "2023-08-29T12:23:40.996021",
     "exception": false,
     "start_time": "2023-08-29T12:23:40.684070",
     "status": "completed"
    },
    "tags": []
   },
   "outputs": [
    {
     "data": {
      "image/png": "[encoded data removed]",
      "text/plain": [
       "<Figure size 500x700 with 1 Axes>"
      ]
     },
     "metadata": {},
     "output_type": "display_data"
    }
   ],
   "source": [
    "plt.figure(figsize=(5,7))\n",
    "plt.hist(train_data[\"Age\"],color=\"grey\")\n",
    "plt.title(\"Distribution of Age\")\n",
    "plt.xlabel(\"Age\")\n",
    "plt.show()"
   ]
  },
  {
   "cell_type": "markdown",
   "id": "8f6c8d50",
   "metadata": {
    "papermill": {
     "duration": 0.013643,
     "end_time": "2023-08-29T12:23:41.023501",
     "exception": false,
     "start_time": "2023-08-29T12:23:41.009858",
     "status": "completed"
    },
    "tags": []
   },
   "source": [
    "## Data Visualization using Seaborn"
   ]
  },
  {
   "cell_type": "code",
   "execution_count": 96,
   "id": "0abb4140",
   "metadata": {
    "execution": {
     "iopub.execute_input": "2023-08-29T12:23:41.053917Z",
     "iopub.status.busy": "2023-08-29T12:23:41.053500Z",
     "iopub.status.idle": "2023-08-29T12:23:41.269758Z",
     "shell.execute_reply": "2023-08-29T12:23:41.268654Z"
    },
    "papermill": {
     "duration": 0.235719,
     "end_time": "2023-08-29T12:23:41.272860",
     "exception": false,
     "start_time": "2023-08-29T12:23:41.037141",
     "status": "completed"
    },
    "tags": []
   },
   "outputs": [
    {
     "data": {
      "image/png": "[encoded data removed]",
      "text/plain": [
       "<Figure size 640x480 with 1 Axes>"
      ]
     },
     "metadata": {},
     "output_type": "display_data"
    }
   ],
   "source": [
    "sns.countplot(x=\"Survived\",data=train_data);"
   ]
  },
  {
   "cell_type": "code",
   "execution_count": 97,
   "id": "1728fa27",
   "metadata": {
    "execution": {
     "iopub.execute_input": "2023-08-29T12:23:41.303207Z",
     "iopub.status.busy": "2023-08-29T12:23:41.302825Z",
     "iopub.status.idle": "2023-08-29T12:23:41.727398Z",
     "shell.execute_reply": "2023-08-29T12:23:41.725832Z"
    },
    "papermill": {
     "duration": 0.442588,
     "end_time": "2023-08-29T12:23:41.729854",
     "exception": false,
     "start_time": "2023-08-29T12:23:41.287266",
     "status": "completed"
    },
    "tags": []
   },
   "outputs": [
    {
     "data": {
      "image/png": "[encoded data removed]",
      "text/plain": [
       "<Figure size 640x480 with 1 Axes>"
      ]
     },
     "metadata": {},
     "output_type": "display_data"
    }
   ],
   "source": [
    "sns.histplot(y=train_data[\"Age\"],hue=train_data[\"Survived\"],multiple=\"stack\");"
   ]
  },
  {
   "cell_type": "code",
   "execution_count": 98,
   "id": "b8757efc",
   "metadata": {
    "execution": {
     "iopub.execute_input": "2023-08-29T12:23:41.761091Z",
     "iopub.status.busy": "2023-08-29T12:23:41.760004Z",
     "iopub.status.idle": "2023-08-29T12:23:42.098929Z",
     "shell.execute_reply": "2023-08-29T12:23:42.097659Z"
    },
    "papermill": {
     "duration": 0.357228,
     "end_time": "2023-08-29T12:23:42.101603",
     "exception": false,
     "start_time": "2023-08-29T12:23:41.744375",
     "status": "completed"
    },
    "tags": []
   },
   "outputs": [
    {
     "data": {
      "image/png": "[encoded data removed]",
      "text/plain": [
       "<Figure size 640x480 with 1 Axes>"
      ]
     },
     "metadata": {},
     "output_type": "display_data"
    }
   ],
   "source": [
    "sns.barplot(x='Sex',y='Age',data=train_data);\n",
    "\n",
    "#sns.barplot(x='category_variable', y='numeric_variable', data=data)"
   ]
  },
  {
   "cell_type": "code",
   "execution_count": 99,
   "id": "ca14349b",
   "metadata": {
    "execution": {
     "iopub.execute_input": "2023-08-29T12:23:42.135412Z",
     "iopub.status.busy": "2023-08-29T12:23:42.134991Z",
     "iopub.status.idle": "2023-08-29T12:23:42.474221Z",
     "shell.execute_reply": "2023-08-29T12:23:42.473089Z"
    },
    "papermill": {
     "duration": 0.357949,
     "end_time": "2023-08-29T12:23:42.476653",
     "exception": false,
     "start_time": "2023-08-29T12:23:42.118704",
     "status": "completed"
    },
    "tags": []
   },
   "outputs": [
    {
     "data": {
      "text/plain": [
       "<AxesSubplot:xlabel='Survived', ylabel='Age'>"
      ]
     },
     "execution_count": 99,
     "metadata": {},
     "output_type": "execute_result"
    },
    {
     "data": {
      "image/png": "[encoded data removed]",
      "text/plain": [
       "<Figure size 640x480 with 1 Axes>"
      ]
     },
     "metadata": {},
     "output_type": "display_data"
    }
   ],
   "source": [
    "\n",
    "sns.barplot(x='Survived',y='Age',data=train_data)"
   ]
  },
  {
   "cell_type": "code",
   "execution_count": 100,
   "id": "f55c1c35",
   "metadata": {
    "execution": {
     "iopub.execute_input": "2023-08-29T12:23:42.512376Z",
     "iopub.status.busy": "2023-08-29T12:23:42.511965Z",
     "iopub.status.idle": "2023-08-29T12:23:42.812425Z",
     "shell.execute_reply": "2023-08-29T12:23:42.811046Z"
    },
    "papermill": {
     "duration": 0.322311,
     "end_time": "2023-08-29T12:23:42.815336",
     "exception": false,
     "start_time": "2023-08-29T12:23:42.493025",
     "status": "completed"
    },
    "tags": []
   },
   "outputs": [
    {
     "data": {
      "text/plain": [
       "<AxesSubplot:xlabel='Pclass', ylabel='Age'>"
      ]
     },
     "execution_count": 100,
     "metadata": {},
     "output_type": "execute_result"
    },
    {
     "data": {
      "image/png": "[encoded data removed]",
      "text/plain": [
       "<Figure size 640x480 with 1 Axes>"
      ]
     },
     "metadata": {},
     "output_type": "display_data"
    }
   ],
   "source": [
    "sns.stripplot(x='Pclass', y='Age', data=train_data)"
   ]
  },
  {
   "cell_type": "code",
   "execution_count": 101,
   "id": "b7c5a6ea",
   "metadata": {
    "execution": {
     "iopub.execute_input": "2023-08-29T12:23:42.849250Z",
     "iopub.status.busy": "2023-08-29T12:23:42.848277Z",
     "iopub.status.idle": "2023-08-29T12:23:42.883620Z",
     "shell.execute_reply": "2023-08-29T12:23:42.882304Z"
    },
    "papermill": {
     "duration": 0.054929,
     "end_time": "2023-08-29T12:23:42.886101",
     "exception": false,
     "start_time": "2023-08-29T12:23:42.831172",
     "status": "completed"
    },
    "tags": []
   },
   "outputs": [
    {
     "data": {
      "text/html": [
       "<div>\n",
       "<style scoped>\n",
       "    .dataframe tbody tr th:only-of-type {\n",
       "        vertical-align: middle;\n",
       "    }\n",
       "\n",
       "    .dataframe tbody tr th {\n",
       "        vertical-align: top;\n",
       "    }\n",
       "\n",
       "    .dataframe thead th {\n",
       "        text-align: right;\n",
       "    }\n",
       "</style>\n",
       "<table border=\"1\" class=\"dataframe\">\n",
       "  <thead>\n",
       "    <tr style=\"text-align: right;\">\n",
       "      <th></th>\n",
       "      <th>PassengerId</th>\n",
       "      <th>Survived</th>\n",
       "      <th>Pclass</th>\n",
       "      <th>Age</th>\n",
       "      <th>SibSp</th>\n",
       "      <th>Parch</th>\n",
       "      <th>Fare</th>\n",
       "    </tr>\n",
       "  </thead>\n",
       "  <tbody>\n",
       "    <tr>\n",
       "      <th>count</th>\n",
       "      <td>891.000000</td>\n",
       "      <td>891.000000</td>\n",
       "      <td>891.000000</td>\n",
       "      <td>714.000000</td>\n",
       "      <td>891.000000</td>\n",
       "      <td>891.000000</td>\n",
       "      <td>891.000000</td>\n",
       "    </tr>\n",
       "    <tr>\n",
       "      <th>mean</th>\n",
       "      <td>446.000000</td>\n",
       "      <td>0.383838</td>\n",
       "      <td>2.308642</td>\n",
       "      <td>29.699118</td>\n",
       "      <td>0.523008</td>\n",
       "      <td>0.381594</td>\n",
       "      <td>32.204208</td>\n",
       "    </tr>\n",
       "    <tr>\n",
       "      <th>std</th>\n",
       "      <td>257.353842</td>\n",
       "      <td>0.486592</td>\n",
       "      <td>0.836071</td>\n",
       "      <td>14.526497</td>\n",
       "      <td>1.102743</td>\n",
       "      <td>0.806057</td>\n",
       "      <td>49.693429</td>\n",
       "    </tr>\n",
       "    <tr>\n",
       "      <th>min</th>\n",
       "      <td>1.000000</td>\n",
       "      <td>0.000000</td>\n",
       "      <td>1.000000</td>\n",
       "      <td>0.420000</td>\n",
       "      <td>0.000000</td>\n",
       "      <td>0.000000</td>\n",
       "      <td>0.000000</td>\n",
       "    </tr>\n",
       "    <tr>\n",
       "      <th>25%</th>\n",
       "      <td>223.500000</td>\n",
       "      <td>0.000000</td>\n",
       "      <td>2.000000</td>\n",
       "      <td>20.125000</td>\n",
       "      <td>0.000000</td>\n",
       "      <td>0.000000</td>\n",
       "      <td>7.910400</td>\n",
       "    </tr>\n",
       "    <tr>\n",
       "      <th>50%</th>\n",
       "      <td>446.000000</td>\n",
       "      <td>0.000000</td>\n",
       "      <td>3.000000</td>\n",
       "      <td>28.000000</td>\n",
       "      <td>0.000000</td>\n",
       "      <td>0.000000</td>\n",
       "      <td>14.454200</td>\n",
       "    </tr>\n",
       "    <tr>\n",
       "      <th>75%</th>\n",
       "      <td>668.500000</td>\n",
       "      <td>1.000000</td>\n",
       "      <td>3.000000</td>\n",
       "      <td>38.000000</td>\n",
       "      <td>1.000000</td>\n",
       "      <td>0.000000</td>\n",
       "      <td>31.000000</td>\n",
       "    </tr>\n",
       "    <tr>\n",
       "      <th>max</th>\n",
       "      <td>891.000000</td>\n",
       "      <td>1.000000</td>\n",
       "      <td>3.000000</td>\n",
       "      <td>80.000000</td>\n",
       "      <td>8.000000</td>\n",
       "      <td>6.000000</td>\n",
       "      <td>512.329200</td>\n",
       "    </tr>\n",
       "  </tbody>\n",
       "</table>\n",
       "</div>"
      ],
      "text/plain": [
       "       PassengerId    Survived      Pclass         Age       SibSp  \\\n",
       "count   891.000000  891.000000  891.000000  714.000000  891.000000   \n",
       "mean    446.000000    0.383838    2.308642   29.699118    0.523008   \n",
       "std     257.353842    0.486592    0.836071   14.526497    1.102743   \n",
       "min       1.000000    0.000000    1.000000    0.420000    0.000000   \n",
       "25%     223.500000    0.000000    2.000000   20.125000    0.000000   \n",
       "50%     446.000000    0.000000    3.000000   28.000000    0.000000   \n",
       "75%     668.500000    1.000000    3.000000   38.000000    1.000000   \n",
       "max     891.000000    1.000000    3.000000   80.000000    8.000000   \n",
       "\n",
       "            Parch        Fare  \n",
       "count  891.000000  891.000000  \n",
       "mean     0.381594   32.204208  \n",
       "std      0.806057   49.693429  \n",
       "min      0.000000    0.000000  \n",
       "25%      0.000000    7.910400  \n",
       "50%      0.000000   14.454200  \n",
       "75%      0.000000   31.000000  \n",
       "max      6.000000  512.329200  "
      ]
     },
     "execution_count": 101,
     "metadata": {},
     "output_type": "execute_result"
    }
   ],
   "source": [
    "train_data.describe()"
   ]
  },
  {
   "cell_type": "markdown",
   "id": "139b8567",
   "metadata": {
    "papermill": {
     "duration": 0.015596,
     "end_time": "2023-08-29T12:23:42.918036",
     "exception": false,
     "start_time": "2023-08-29T12:23:42.902440",
     "status": "completed"
    },
    "tags": []
   },
   "source": [
    "## Preprocess the training data"
   ]
  },
  {
   "cell_type": "code",
   "execution_count": 102,
   "id": "a48c3d10",
   "metadata": {
    "execution": {
     "iopub.execute_input": "2023-08-29T12:23:42.952192Z",
     "iopub.status.busy": "2023-08-29T12:23:42.951633Z",
     "iopub.status.idle": "2023-08-29T12:23:42.959920Z",
     "shell.execute_reply": "2023-08-29T12:23:42.958634Z"
    },
    "papermill": {
     "duration": 0.028058,
     "end_time": "2023-08-29T12:23:42.962365",
     "exception": false,
     "start_time": "2023-08-29T12:23:42.934307",
     "status": "completed"
    },
    "tags": []
   },
   "outputs": [],
   "source": [
    "train_data.drop(['PassengerId', 'Name', 'Ticket', 'Embarked'], axis=1, inplace=True)\n",
    "train_data['Sex'] = LabelEncoder().fit_transform(train_data['Sex'])"
   ]
  },
  {
   "cell_type": "markdown",
   "id": "41387c34",
   "metadata": {
    "papermill": {
     "duration": 0.015793,
     "end_time": "2023-08-29T12:23:42.994584",
     "exception": false,
     "start_time": "2023-08-29T12:23:42.978791",
     "status": "completed"
    },
    "tags": []
   },
   "source": [
    "## Preprocess the test data"
   ]
  },
  {
   "cell_type": "code",
   "execution_count": 103,
   "id": "4690df66",
   "metadata": {
    "execution": {
     "iopub.execute_input": "2023-08-29T12:23:43.028618Z",
     "iopub.status.busy": "2023-08-29T12:23:43.028206Z",
     "iopub.status.idle": "2023-08-29T12:23:43.036639Z",
     "shell.execute_reply": "2023-08-29T12:23:43.035503Z"
    },
    "papermill": {
     "duration": 0.028218,
     "end_time": "2023-08-29T12:23:43.038929",
     "exception": false,
     "start_time": "2023-08-29T12:23:43.010711",
     "status": "completed"
    },
    "tags": []
   },
   "outputs": [],
   "source": [
    "test_data.drop(['PassengerId', 'Name', 'Ticket', 'Embarked'], axis=1, inplace=True)\n",
    "test_data['Sex'] = LabelEncoder().fit_transform(test_data['Sex'])"
   ]
  },
  {
   "cell_type": "markdown",
   "id": "2ec62635",
   "metadata": {
    "papermill": {
     "duration": 0.015671,
     "end_time": "2023-08-29T12:23:43.070616",
     "exception": false,
     "start_time": "2023-08-29T12:23:43.054945",
     "status": "completed"
    },
    "tags": []
   },
   "source": [
    "## Extract the first letter of the 'Cabin' column and encode it using one-hot encoding"
   ]
  },
  {
   "cell_type": "code",
   "execution_count": 104,
   "id": "43957799",
   "metadata": {},
   "outputs": [
    {
     "data": {
      "text/plain": [
       "0      NaN\n",
       "1        C\n",
       "2      NaN\n",
       "3        C\n",
       "4      NaN\n",
       "      ... \n",
       "886    NaN\n",
       "887      B\n",
       "888    NaN\n",
       "889      C\n",
       "890    NaN\n",
       "Name: Cabin, Length: 891, dtype: object"
      ]
     },
     "execution_count": 104,
     "metadata": {},
     "output_type": "execute_result"
    }
   ],
   "source": [
    "train_data['Cabin'].str[0]"
   ]
  },
  {
   "cell_type": "code",
   "execution_count": 105,
   "id": "68d93595",
   "metadata": {
    "execution": {
     "iopub.execute_input": "2023-08-29T12:23:43.104248Z",
     "iopub.status.busy": "2023-08-29T12:23:43.103833Z",
     "iopub.status.idle": "2023-08-29T12:23:43.114526Z",
     "shell.execute_reply": "2023-08-29T12:23:43.113432Z"
    },
    "papermill": {
     "duration": 0.030336,
     "end_time": "2023-08-29T12:23:43.116856",
     "exception": false,
     "start_time": "2023-08-29T12:23:43.086520",
     "status": "completed"
    },
    "tags": []
   },
   "outputs": [],
   "source": [
    "train_data['Cabin'] = train_data['Cabin'].str[0]\n",
    "train_data = pd.get_dummies(train_data, columns=['Cabin'], dtype='int')"
   ]
  },
  {
   "cell_type": "code",
   "execution_count": 106,
   "id": "005eeb57",
   "metadata": {},
   "outputs": [
    {
     "data": {
      "text/html": [
       "<div>\n",
       "<style scoped>\n",
       "    .dataframe tbody tr th:only-of-type {\n",
       "        vertical-align: middle;\n",
       "    }\n",
       "\n",
       "    .dataframe tbody tr th {\n",
       "        vertical-align: top;\n",
       "    }\n",
       "\n",
       "    .dataframe thead th {\n",
       "        text-align: right;\n",
       "    }\n",
       "</style>\n",
       "<table border=\"1\" class=\"dataframe\">\n",
       "  <thead>\n",
       "    <tr style=\"text-align: right;\">\n",
       "      <th></th>\n",
       "      <th>Survived</th>\n",
       "      <th>Pclass</th>\n",
       "      <th>Sex</th>\n",
       "      <th>Age</th>\n",
       "      <th>SibSp</th>\n",
       "      <th>Parch</th>\n",
       "      <th>Fare</th>\n",
       "      <th>Cabin_A</th>\n",
       "      <th>Cabin_B</th>\n",
       "      <th>Cabin_C</th>\n",
       "      <th>Cabin_D</th>\n",
       "      <th>Cabin_E</th>\n",
       "      <th>Cabin_F</th>\n",
       "      <th>Cabin_G</th>\n",
       "      <th>Cabin_T</th>\n",
       "    </tr>\n",
       "  </thead>\n",
       "  <tbody>\n",
       "    <tr>\n",
       "      <th>0</th>\n",
       "      <td>0</td>\n",
       "      <td>3</td>\n",
       "      <td>1</td>\n",
       "      <td>22.0</td>\n",
       "      <td>1</td>\n",
       "      <td>0</td>\n",
       "      <td>7.2500</td>\n",
       "      <td>0</td>\n",
       "      <td>0</td>\n",
       "      <td>0</td>\n",
       "      <td>0</td>\n",
       "      <td>0</td>\n",
       "      <td>0</td>\n",
       "      <td>0</td>\n",
       "      <td>0</td>\n",
       "    </tr>\n",
       "    <tr>\n",
       "      <th>1</th>\n",
       "      <td>1</td>\n",
       "      <td>1</td>\n",
       "      <td>0</td>\n",
       "      <td>38.0</td>\n",
       "      <td>1</td>\n",
       "      <td>0</td>\n",
       "      <td>71.2833</td>\n",
       "      <td>0</td>\n",
       "      <td>0</td>\n",
       "      <td>1</td>\n",
       "      <td>0</td>\n",
       "      <td>0</td>\n",
       "      <td>0</td>\n",
       "      <td>0</td>\n",
       "      <td>0</td>\n",
       "    </tr>\n",
       "    <tr>\n",
       "      <th>2</th>\n",
       "      <td>1</td>\n",
       "      <td>3</td>\n",
       "      <td>0</td>\n",
       "      <td>26.0</td>\n",
       "      <td>0</td>\n",
       "      <td>0</td>\n",
       "      <td>7.9250</td>\n",
       "      <td>0</td>\n",
       "      <td>0</td>\n",
       "      <td>0</td>\n",
       "      <td>0</td>\n",
       "      <td>0</td>\n",
       "      <td>0</td>\n",
       "      <td>0</td>\n",
       "      <td>0</td>\n",
       "    </tr>\n",
       "    <tr>\n",
       "      <th>3</th>\n",
       "      <td>1</td>\n",
       "      <td>1</td>\n",
       "      <td>0</td>\n",
       "      <td>35.0</td>\n",
       "      <td>1</td>\n",
       "      <td>0</td>\n",
       "      <td>53.1000</td>\n",
       "      <td>0</td>\n",
       "      <td>0</td>\n",
       "      <td>1</td>\n",
       "      <td>0</td>\n",
       "      <td>0</td>\n",
       "      <td>0</td>\n",
       "      <td>0</td>\n",
       "      <td>0</td>\n",
       "    </tr>\n",
       "    <tr>\n",
       "      <th>4</th>\n",
       "      <td>0</td>\n",
       "      <td>3</td>\n",
       "      <td>1</td>\n",
       "      <td>35.0</td>\n",
       "      <td>0</td>\n",
       "      <td>0</td>\n",
       "      <td>8.0500</td>\n",
       "      <td>0</td>\n",
       "      <td>0</td>\n",
       "      <td>0</td>\n",
       "      <td>0</td>\n",
       "      <td>0</td>\n",
       "      <td>0</td>\n",
       "      <td>0</td>\n",
       "      <td>0</td>\n",
       "    </tr>\n",
       "    <tr>\n",
       "      <th>...</th>\n",
       "      <td>...</td>\n",
       "      <td>...</td>\n",
       "      <td>...</td>\n",
       "      <td>...</td>\n",
       "      <td>...</td>\n",
       "      <td>...</td>\n",
       "      <td>...</td>\n",
       "      <td>...</td>\n",
       "      <td>...</td>\n",
       "      <td>...</td>\n",
       "      <td>...</td>\n",
       "      <td>...</td>\n",
       "      <td>...</td>\n",
       "      <td>...</td>\n",
       "      <td>...</td>\n",
       "    </tr>\n",
       "    <tr>\n",
       "      <th>886</th>\n",
       "      <td>0</td>\n",
       "      <td>2</td>\n",
       "      <td>1</td>\n",
       "      <td>27.0</td>\n",
       "      <td>0</td>\n",
       "      <td>0</td>\n",
       "      <td>13.0000</td>\n",
       "      <td>0</td>\n",
       "      <td>0</td>\n",
       "      <td>0</td>\n",
       "      <td>0</td>\n",
       "      <td>0</td>\n",
       "      <td>0</td>\n",
       "      <td>0</td>\n",
       "      <td>0</td>\n",
       "    </tr>\n",
       "    <tr>\n",
       "      <th>887</th>\n",
       "      <td>1</td>\n",
       "      <td>1</td>\n",
       "      <td>0</td>\n",
       "      <td>19.0</td>\n",
       "      <td>0</td>\n",
       "      <td>0</td>\n",
       "      <td>30.0000</td>\n",
       "      <td>0</td>\n",
       "      <td>1</td>\n",
       "      <td>0</td>\n",
       "      <td>0</td>\n",
       "      <td>0</td>\n",
       "      <td>0</td>\n",
       "      <td>0</td>\n",
       "      <td>0</td>\n",
       "    </tr>\n",
       "    <tr>\n",
       "      <th>888</th>\n",
       "      <td>0</td>\n",
       "      <td>3</td>\n",
       "      <td>0</td>\n",
       "      <td>NaN</td>\n",
       "      <td>1</td>\n",
       "      <td>2</td>\n",
       "      <td>23.4500</td>\n",
       "      <td>0</td>\n",
       "      <td>0</td>\n",
       "      <td>0</td>\n",
       "      <td>0</td>\n",
       "      <td>0</td>\n",
       "      <td>0</td>\n",
       "      <td>0</td>\n",
       "      <td>0</td>\n",
       "    </tr>\n",
       "    <tr>\n",
       "      <th>889</th>\n",
       "      <td>1</td>\n",
       "      <td>1</td>\n",
       "      <td>1</td>\n",
       "      <td>26.0</td>\n",
       "      <td>0</td>\n",
       "      <td>0</td>\n",
       "      <td>30.0000</td>\n",
       "      <td>0</td>\n",
       "      <td>0</td>\n",
       "      <td>1</td>\n",
       "      <td>0</td>\n",
       "      <td>0</td>\n",
       "      <td>0</td>\n",
       "      <td>0</td>\n",
       "      <td>0</td>\n",
       "    </tr>\n",
       "    <tr>\n",
       "      <th>890</th>\n",
       "      <td>0</td>\n",
       "      <td>3</td>\n",
       "      <td>1</td>\n",
       "      <td>32.0</td>\n",
       "      <td>0</td>\n",
       "      <td>0</td>\n",
       "      <td>7.7500</td>\n",
       "      <td>0</td>\n",
       "      <td>0</td>\n",
       "      <td>0</td>\n",
       "      <td>0</td>\n",
       "      <td>0</td>\n",
       "      <td>0</td>\n",
       "      <td>0</td>\n",
       "      <td>0</td>\n",
       "    </tr>\n",
       "  </tbody>\n",
       "</table>\n",
       "<p>891 rows × 15 columns</p>\n",
       "</div>"
      ],
      "text/plain": [
       "     Survived  Pclass  Sex   Age  SibSp  Parch     Fare  Cabin_A  Cabin_B  \\\n",
       "0           0       3    1  22.0      1      0   7.2500        0        0   \n",
       "1           1       1    0  38.0      1      0  71.2833        0        0   \n",
       "2           1       3    0  26.0      0      0   7.9250        0        0   \n",
       "3           1       1    0  35.0      1      0  53.1000        0        0   \n",
       "4           0       3    1  35.0      0      0   8.0500        0        0   \n",
       "..        ...     ...  ...   ...    ...    ...      ...      ...      ...   \n",
       "886         0       2    1  27.0      0      0  13.0000        0        0   \n",
       "887         1       1    0  19.0      0      0  30.0000        0        1   \n",
       "888         0       3    0   NaN      1      2  23.4500        0        0   \n",
       "889         1       1    1  26.0      0      0  30.0000        0        0   \n",
       "890         0       3    1  32.0      0      0   7.7500        0        0   \n",
       "\n",
       "     Cabin_C  Cabin_D  Cabin_E  Cabin_F  Cabin_G  Cabin_T  \n",
       "0          0        0        0        0        0        0  \n",
       "1          1        0        0        0        0        0  \n",
       "2          0        0        0        0        0        0  \n",
       "3          1        0        0        0        0        0  \n",
       "4          0        0        0        0        0        0  \n",
       "..       ...      ...      ...      ...      ...      ...  \n",
       "886        0        0        0        0        0        0  \n",
       "887        0        0        0        0        0        0  \n",
       "888        0        0        0        0        0        0  \n",
       "889        1        0        0        0        0        0  \n",
       "890        0        0        0        0        0        0  \n",
       "\n",
       "[891 rows x 15 columns]"
      ]
     },
     "execution_count": 106,
     "metadata": {},
     "output_type": "execute_result"
    }
   ],
   "source": [
    "train_data"
   ]
  },
  {
   "cell_type": "code",
   "execution_count": 107,
   "id": "48338508",
   "metadata": {
    "execution": {
     "iopub.execute_input": "2023-08-29T12:23:43.150563Z",
     "iopub.status.busy": "2023-08-29T12:23:43.150123Z",
     "iopub.status.idle": "2023-08-29T12:23:43.165443Z",
     "shell.execute_reply": "2023-08-29T12:23:43.164320Z"
    },
    "papermill": {
     "duration": 0.035172,
     "end_time": "2023-08-29T12:23:43.167996",
     "exception": false,
     "start_time": "2023-08-29T12:23:43.132824",
     "status": "completed"
    },
    "tags": []
   },
   "outputs": [
    {
     "name": "stdout",
     "output_type": "stream",
     "text": [
      "<class 'pandas.core.frame.DataFrame'>\n",
      "RangeIndex: 891 entries, 0 to 890\n",
      "Data columns (total 15 columns):\n",
      " #   Column    Non-Null Count  Dtype  \n",
      "---  ------    --------------  -----  \n",
      " 0   Survived  891 non-null    int64  \n",
      " 1   Pclass    891 non-null    int64  \n",
      " 2   Sex       891 non-null    int32  \n",
      " 3   Age       714 non-null    float64\n",
      " 4   SibSp     891 non-null    int64  \n",
      " 5   Parch     891 non-null    int64  \n",
      " 6   Fare      891 non-null    float64\n",
      " 7   Cabin_A   891 non-null    int32  \n",
      " 8   Cabin_B   891 non-null    int32  \n",
      " 9   Cabin_C   891 non-null    int32  \n",
      " 10  Cabin_D   891 non-null    int32  \n",
      " 11  Cabin_E   891 non-null    int32  \n",
      " 12  Cabin_F   891 non-null    int32  \n",
      " 13  Cabin_G   891 non-null    int32  \n",
      " 14  Cabin_T   891 non-null    int32  \n",
      "dtypes: float64(2), int32(9), int64(4)\n",
      "memory usage: 73.2 KB\n"
     ]
    }
   ],
   "source": [
    "train_data.info()"
   ]
  },
  {
   "cell_type": "markdown",
   "id": "cab5925b",
   "metadata": {
    "papermill": {
     "duration": 0.015719,
     "end_time": "2023-08-29T12:23:43.200261",
     "exception": false,
     "start_time": "2023-08-29T12:23:43.184542",
     "status": "completed"
    },
    "tags": []
   },
   "source": [
    "## Handling Missing values of Training Dataset"
   ]
  },
  {
   "cell_type": "code",
   "execution_count": 108,
   "id": "c25b17aa",
   "metadata": {
    "execution": {
     "iopub.execute_input": "2023-08-29T12:23:43.235063Z",
     "iopub.status.busy": "2023-08-29T12:23:43.234648Z",
     "iopub.status.idle": "2023-08-29T12:23:43.263375Z",
     "shell.execute_reply": "2023-08-29T12:23:43.262084Z"
    },
    "papermill": {
     "duration": 0.050726,
     "end_time": "2023-08-29T12:23:43.267484",
     "exception": false,
     "start_time": "2023-08-29T12:23:43.216758",
     "status": "completed"
    },
    "tags": []
   },
   "outputs": [],
   "source": [
    "imputer = KNNImputer(n_neighbors=5)\n",
    "train_data[['Age', 'Fare']] = imputer.fit_transform(train_data[['Age', 'Fare']])\n",
    "\n"
   ]
  },
  {
   "cell_type": "markdown",
   "id": "2198d37a",
   "metadata": {
    "papermill": {
     "duration": 0.026812,
     "end_time": "2023-08-29T12:23:43.321630",
     "exception": false,
     "start_time": "2023-08-29T12:23:43.294818",
     "status": "completed"
    },
    "tags": []
   },
   "source": [
    "## Handling Missing values of Test Dataset"
   ]
  },
  {
   "cell_type": "code",
   "execution_count": 109,
   "id": "7065f512",
   "metadata": {
    "execution": {
     "iopub.execute_input": "2023-08-29T12:23:43.377325Z",
     "iopub.status.busy": "2023-08-29T12:23:43.376914Z",
     "iopub.status.idle": "2023-08-29T12:23:43.391862Z",
     "shell.execute_reply": "2023-08-29T12:23:43.390733Z"
    },
    "papermill": {
     "duration": 0.045144,
     "end_time": "2023-08-29T12:23:43.394390",
     "exception": false,
     "start_time": "2023-08-29T12:23:43.349246",
     "status": "completed"
    },
    "tags": []
   },
   "outputs": [],
   "source": [
    "\n",
    "test_data[['Age', 'Fare']] = imputer.fit_transform(test_data[['Age', 'Fare']])"
   ]
  },
  {
   "cell_type": "markdown",
   "id": "ca582c9f",
   "metadata": {
    "papermill": {
     "duration": 0.015679,
     "end_time": "2023-08-29T12:23:43.426081",
     "exception": false,
     "start_time": "2023-08-29T12:23:43.410402",
     "status": "completed"
    },
    "tags": []
   },
   "source": [
    "## Align the columns in the test data with the training data"
   ]
  },
  {
   "cell_type": "code",
   "execution_count": 110,
   "id": "8e535f0b",
   "metadata": {
    "execution": {
     "iopub.execute_input": "2023-08-29T12:23:43.460089Z",
     "iopub.status.busy": "2023-08-29T12:23:43.459683Z",
     "iopub.status.idle": "2023-08-29T12:23:43.472329Z",
     "shell.execute_reply": "2023-08-29T12:23:43.471253Z"
    },
    "papermill": {
     "duration": 0.032706,
     "end_time": "2023-08-29T12:23:43.474710",
     "exception": false,
     "start_time": "2023-08-29T12:23:43.442004",
     "status": "completed"
    },
    "tags": []
   },
   "outputs": [],
   "source": [
    "test_data['Cabin'] = test_data['Cabin'].str[0]\n",
    "test_data = pd.get_dummies(test_data, columns=['Cabin'])\n",
    "missing_columns = set(train_data.columns) - set(test_data.columns)\n",
    "for column in missing_columns:\n",
    "    test_data[column] = 0"
   ]
  },
  {
   "cell_type": "code",
   "execution_count": 111,
   "id": "d88a95da",
   "metadata": {
    "execution": {
     "iopub.execute_input": "2023-08-29T12:23:43.509774Z",
     "iopub.status.busy": "2023-08-29T12:23:43.508993Z",
     "iopub.status.idle": "2023-08-29T12:23:43.521689Z",
     "shell.execute_reply": "2023-08-29T12:23:43.520424Z"
    },
    "papermill": {
     "duration": 0.032551,
     "end_time": "2023-08-29T12:23:43.523728",
     "exception": false,
     "start_time": "2023-08-29T12:23:43.491177",
     "status": "completed"
    },
    "tags": []
   },
   "outputs": [
    {
     "name": "stdout",
     "output_type": "stream",
     "text": [
      "<class 'pandas.core.frame.DataFrame'>\n",
      "RangeIndex: 418 entries, 0 to 417\n",
      "Data columns (total 15 columns):\n",
      " #   Column    Non-Null Count  Dtype  \n",
      "---  ------    --------------  -----  \n",
      " 0   Pclass    418 non-null    int64  \n",
      " 1   Sex       418 non-null    int32  \n",
      " 2   Age       418 non-null    float64\n",
      " 3   SibSp     418 non-null    int64  \n",
      " 4   Parch     418 non-null    int64  \n",
      " 5   Fare      418 non-null    float64\n",
      " 6   Cabin_A   418 non-null    bool   \n",
      " 7   Cabin_B   418 non-null    bool   \n",
      " 8   Cabin_C   418 non-null    bool   \n",
      " 9   Cabin_D   418 non-null    bool   \n",
      " 10  Cabin_E   418 non-null    bool   \n",
      " 11  Cabin_F   418 non-null    bool   \n",
      " 12  Cabin_G   418 non-null    bool   \n",
      " 13  Cabin_T   418 non-null    int64  \n",
      " 14  Survived  418 non-null    int64  \n",
      "dtypes: bool(7), float64(2), int32(1), int64(5)\n",
      "memory usage: 27.5 KB\n"
     ]
    }
   ],
   "source": [
    "test_data.info()"
   ]
  },
  {
   "cell_type": "markdown",
   "id": "975fc0e6",
   "metadata": {
    "papermill": {
     "duration": 0.015895,
     "end_time": "2023-08-29T12:23:43.555548",
     "exception": false,
     "start_time": "2023-08-29T12:23:43.539653",
     "status": "completed"
    },
    "tags": []
   },
   "source": [
    "## Building Dependent and Independent variable"
   ]
  },
  {
   "cell_type": "code",
   "execution_count": 112,
   "id": "bcf02f6b",
   "metadata": {
    "execution": {
     "iopub.execute_input": "2023-08-29T12:23:43.589854Z",
     "iopub.status.busy": "2023-08-29T12:23:43.589411Z",
     "iopub.status.idle": "2023-08-29T12:23:43.595700Z",
     "shell.execute_reply": "2023-08-29T12:23:43.594361Z"
    },
    "papermill": {
     "duration": 0.026018,
     "end_time": "2023-08-29T12:23:43.597795",
     "exception": false,
     "start_time": "2023-08-29T12:23:43.571777",
     "status": "completed"
    },
    "tags": []
   },
   "outputs": [],
   "source": [
    "X_train = train_data.drop('Survived', axis=1)\n",
    "y_train = train_data['Survived']"
   ]
  },
  {
   "cell_type": "markdown",
   "id": "914ef5cc",
   "metadata": {
    "papermill": {
     "duration": 0.015732,
     "end_time": "2023-08-29T12:23:43.629710",
     "exception": false,
     "start_time": "2023-08-29T12:23:43.613978",
     "status": "completed"
    },
    "tags": []
   },
   "source": [
    "## Building model  (LogisticRegression)"
   ]
  },
  {
   "cell_type": "markdown",
   "id": "5b580491",
   "metadata": {
    "papermill": {
     "duration": 0.015678,
     "end_time": "2023-08-29T12:23:43.661476",
     "exception": false,
     "start_time": "2023-08-29T12:23:43.645798",
     "status": "completed"
    },
    "tags": []
   },
   "source": [
    "## Scale the numerical features"
   ]
  },
  {
   "cell_type": "code",
   "execution_count": 113,
   "id": "c5547c67",
   "metadata": {
    "execution": {
     "iopub.execute_input": "2023-08-29T12:23:43.695481Z",
     "iopub.status.busy": "2023-08-29T12:23:43.695075Z",
     "iopub.status.idle": "2023-08-29T12:23:43.707941Z",
     "shell.execute_reply": "2023-08-29T12:23:43.707080Z"
    },
    "papermill": {
     "duration": 0.032601,
     "end_time": "2023-08-29T12:23:43.709999",
     "exception": false,
     "start_time": "2023-08-29T12:23:43.677398",
     "status": "completed"
    },
    "tags": []
   },
   "outputs": [],
   "source": [
    "scaler = StandardScaler()\n",
    "train_data[['Age', 'Fare']] = scaler.fit_transform(train_data[['Age', 'Fare']])\n",
    "test_data[['Age', 'Fare']] = scaler.transform(test_data[['Age', 'Fare']])"
   ]
  },
  {
   "cell_type": "code",
   "execution_count": 114,
   "id": "7639875e",
   "metadata": {
    "execution": {
     "iopub.execute_input": "2023-08-29T12:23:43.746977Z",
     "iopub.status.busy": "2023-08-29T12:23:43.746255Z",
     "iopub.status.idle": "2023-08-29T12:23:43.750997Z",
     "shell.execute_reply": "2023-08-29T12:23:43.750020Z"
    },
    "papermill": {
     "duration": 0.026887,
     "end_time": "2023-08-29T12:23:43.752920",
     "exception": false,
     "start_time": "2023-08-29T12:23:43.726033",
     "status": "completed"
    },
    "tags": []
   },
   "outputs": [],
   "source": [
    "from sklearn.linear_model import LogisticRegression\n",
    "from sklearn.preprocessing import LabelEncoder, OneHotEncoder, StandardScaler"
   ]
  },
  {
   "cell_type": "code",
   "execution_count": 115,
   "id": "57d01fdb",
   "metadata": {
    "execution": {
     "iopub.execute_input": "2023-08-29T12:23:43.786741Z",
     "iopub.status.busy": "2023-08-29T12:23:43.786315Z",
     "iopub.status.idle": "2023-08-29T12:23:43.790926Z",
     "shell.execute_reply": "2023-08-29T12:23:43.789859Z"
    },
    "papermill": {
     "duration": 0.024296,
     "end_time": "2023-08-29T12:23:43.793238",
     "exception": false,
     "start_time": "2023-08-29T12:23:43.768942",
     "status": "completed"
    },
    "tags": []
   },
   "outputs": [],
   "source": [
    "model = LogisticRegression(max_iter=1000)"
   ]
  },
  {
   "cell_type": "code",
   "execution_count": 116,
   "id": "1fc48c74",
   "metadata": {
    "execution": {
     "iopub.execute_input": "2023-08-29T12:23:43.828551Z",
     "iopub.status.busy": "2023-08-29T12:23:43.828162Z",
     "iopub.status.idle": "2023-08-29T12:23:43.924764Z",
     "shell.execute_reply": "2023-08-29T12:23:43.923517Z"
    },
    "papermill": {
     "duration": 0.118398,
     "end_time": "2023-08-29T12:23:43.927952",
     "exception": false,
     "start_time": "2023-08-29T12:23:43.809554",
     "status": "completed"
    },
    "tags": []
   },
   "outputs": [
    {
     "data": {
      "text/html": [
       "<style>#sk-container-id-2 {\n",
       "  /* Definition of color scheme common for light and dark mode */\n",
       "  --sklearn-color-text: black;\n",
       "  --sklearn-color-line: gray;\n",
       "  /* Definition of color scheme for unfitted estimators */\n",
       "  --sklearn-color-unfitted-level-0: #fff5e6;\n",
       "  --sklearn-color-unfitted-level-1: #f6e4d2;\n",
       "  --sklearn-color-unfitted-level-2: #ffe0b3;\n",
       "  --sklearn-color-unfitted-level-3: chocolate;\n",
       "  /* Definition of color scheme for fitted estimators */\n",
       "  --sklearn-color-fitted-level-0: #f0f8ff;\n",
       "  --sklearn-color-fitted-level-1: #d4ebff;\n",
       "  --sklearn-color-fitted-level-2: #b3dbfd;\n",
       "  --sklearn-color-fitted-level-3: cornflowerblue;\n",
       "\n",
       "  /* Specific color for light theme */\n",
       "  --sklearn-color-text-on-default-background: var(--sg-text-color, var(--theme-code-foreground, var(--jp-content-font-color1, black)));\n",
       "  --sklearn-color-background: var(--sg-background-color, var(--theme-background, var(--jp-layout-color0, white)));\n",
       "  --sklearn-color-border-box: var(--sg-text-color, var(--theme-code-foreground, var(--jp-content-font-color1, black)));\n",
       "  --sklearn-color-icon: #696969;\n",
       "\n",
       "  @media (prefers-color-scheme: dark) {\n",
       "    /* Redefinition of color scheme for dark theme */\n",
       "    --sklearn-color-text-on-default-background: var(--sg-text-color, var(--theme-code-foreground, var(--jp-content-font-color1, white)));\n",
       "    --sklearn-color-background: var(--sg-background-color, var(--theme-background, var(--jp-layout-color0, #111)));\n",
       "    --sklearn-color-border-box: var(--sg-text-color, var(--theme-code-foreground, var(--jp-content-font-color1, white)));\n",
       "    --sklearn-color-icon: #878787;\n",
       "  }\n",
       "}\n",
       "\n",
       "#sk-container-id-2 {\n",
       "  color: var(--sklearn-color-text);\n",
       "}\n",
       "\n",
       "#sk-container-id-2 pre {\n",
       "  padding: 0;\n",
       "}\n",
       "\n",
       "#sk-container-id-2 input.sk-hidden--visually {\n",
       "  border: 0;\n",
       "  clip: rect(1px 1px 1px 1px);\n",
       "  clip: rect(1px, 1px, 1px, 1px);\n",
       "  height: 1px;\n",
       "  margin: -1px;\n",
       "  overflow: hidden;\n",
       "  padding: 0;\n",
       "  position: absolute;\n",
       "  width: 1px;\n",
       "}\n",
       "\n",
       "#sk-container-id-2 div.sk-dashed-wrapped {\n",
       "  border: 1px dashed var(--sklearn-color-line);\n",
       "  margin: 0 0.4em 0.5em 0.4em;\n",
       "  box-sizing: border-box;\n",
       "  padding-bottom: 0.4em;\n",
       "  background-color: var(--sklearn-color-background);\n",
       "}\n",
       "\n",
       "#sk-container-id-2 div.sk-container {\n",
       "  /* jupyter's `normalize.less` sets `[hidden] { display: none; }`\n",
       "     but bootstrap.min.css set `[hidden] { display: none !important; }`\n",
       "     so we also need the `!important` here to be able to override the\n",
       "     default hidden behavior on the sphinx rendered scikit-learn.org.\n",
       "     See: https://github.com/scikit-learn/scikit-learn/issues/21755 */\n",
       "  display: inline-block !important;\n",
       "  position: relative;\n",
       "}\n",
       "\n",
       "#sk-container-id-2 div.sk-text-repr-fallback {\n",
       "  display: none;\n",
       "}\n",
       "\n",
       "div.sk-parallel-item,\n",
       "div.sk-serial,\n",
       "div.sk-item {\n",
       "  /* draw centered vertical line to link estimators */\n",
       "  background-image: linear-gradient(var(--sklearn-color-text-on-default-background), var(--sklearn-color-text-on-default-background));\n",
       "  background-size: 2px 100%;\n",
       "  background-repeat: no-repeat;\n",
       "  background-position: center center;\n",
       "}\n",
       "\n",
       "/* Parallel-specific style estimator block */\n",
       "\n",
       "#sk-container-id-2 div.sk-parallel-item::after {\n",
       "  content: \"\";\n",
       "  width: 100%;\n",
       "  border-bottom: 2px solid var(--sklearn-color-text-on-default-background);\n",
       "  flex-grow: 1;\n",
       "}\n",
       "\n",
       "#sk-container-id-2 div.sk-parallel {\n",
       "  display: flex;\n",
       "  align-items: stretch;\n",
       "  justify-content: center;\n",
       "  background-color: var(--sklearn-color-background);\n",
       "  position: relative;\n",
       "}\n",
       "\n",
       "#sk-container-id-2 div.sk-parallel-item {\n",
       "  display: flex;\n",
       "  flex-direction: column;\n",
       "}\n",
       "\n",
       "#sk-container-id-2 div.sk-parallel-item:first-child::after {\n",
       "  align-self: flex-end;\n",
       "  width: 50%;\n",
       "}\n",
       "\n",
       "#sk-container-id-2 div.sk-parallel-item:last-child::after {\n",
       "  align-self: flex-start;\n",
       "  width: 50%;\n",
       "}\n",
       "\n",
       "#sk-container-id-2 div.sk-parallel-item:only-child::after {\n",
       "  width: 0;\n",
       "}\n",
       "\n",
       "/* Serial-specific style estimator block */\n",
       "\n",
       "#sk-container-id-2 div.sk-serial {\n",
       "  display: flex;\n",
       "  flex-direction: column;\n",
       "  align-items: center;\n",
       "  background-color: var(--sklearn-color-background);\n",
       "  padding-right: 1em;\n",
       "  padding-left: 1em;\n",
       "}\n",
       "\n",
       "\n",
       "/* Toggleable style: style used for estimator/Pipeline/ColumnTransformer box that is\n",
       "clickable and can be expanded/collapsed.\n",
       "- Pipeline and ColumnTransformer use this feature and define the default style\n",
       "- Estimators will overwrite some part of the style using the `sk-estimator` class\n",
       "*/\n",
       "\n",
       "/* Pipeline and ColumnTransformer style (default) */\n",
       "\n",
       "#sk-container-id-2 div.sk-toggleable {\n",
       "  /* Default theme specific background. It is overwritten whether we have a\n",
       "  specific estimator or a Pipeline/ColumnTransformer */\n",
       "  background-color: var(--sklearn-color-background);\n",
       "}\n",
       "\n",
       "/* Toggleable label */\n",
       "#sk-container-id-2 label.sk-toggleable__label {\n",
       "  cursor: pointer;\n",
       "  display: block;\n",
       "  width: 100%;\n",
       "  margin-bottom: 0;\n",
       "  padding: 0.5em;\n",
       "  box-sizing: border-box;\n",
       "  text-align: center;\n",
       "}\n",
       "\n",
       "#sk-container-id-2 label.sk-toggleable__label-arrow:before {\n",
       "  /* Arrow on the left of the label */\n",
       "  content: \"▸\";\n",
       "  float: left;\n",
       "  margin-right: 0.25em;\n",
       "  color: var(--sklearn-color-icon);\n",
       "}\n",
       "\n",
       "#sk-container-id-2 label.sk-toggleable__label-arrow:hover:before {\n",
       "  color: var(--sklearn-color-text);\n",
       "}\n",
       "\n",
       "/* Toggleable content - dropdown */\n",
       "\n",
       "#sk-container-id-2 div.sk-toggleable__content {\n",
       "  max-height: 0;\n",
       "  max-width: 0;\n",
       "  overflow: hidden;\n",
       "  text-align: left;\n",
       "  /* unfitted */\n",
       "  background-color: var(--sklearn-color-unfitted-level-0);\n",
       "}\n",
       "\n",
       "#sk-container-id-2 div.sk-toggleable__content.fitted {\n",
       "  /* fitted */\n",
       "  background-color: var(--sklearn-color-fitted-level-0);\n",
       "}\n",
       "\n",
       "#sk-container-id-2 div.sk-toggleable__content pre {\n",
       "  margin: 0.2em;\n",
       "  border-radius: 0.25em;\n",
       "  color: var(--sklearn-color-text);\n",
       "  /* unfitted */\n",
       "  background-color: var(--sklearn-color-unfitted-level-0);\n",
       "}\n",
       "\n",
       "#sk-container-id-2 div.sk-toggleable__content.fitted pre {\n",
       "  /* unfitted */\n",
       "  background-color: var(--sklearn-color-fitted-level-0);\n",
       "}\n",
       "\n",
       "#sk-container-id-2 input.sk-toggleable__control:checked~div.sk-toggleable__content {\n",
       "  /* Expand drop-down */\n",
       "  max-height: 200px;\n",
       "  max-width: 100%;\n",
       "  overflow: auto;\n",
       "}\n",
       "\n",
       "#sk-container-id-2 input.sk-toggleable__control:checked~label.sk-toggleable__label-arrow:before {\n",
       "  content: \"▾\";\n",
       "}\n",
       "\n",
       "/* Pipeline/ColumnTransformer-specific style */\n",
       "\n",
       "#sk-container-id-2 div.sk-label input.sk-toggleable__control:checked~label.sk-toggleable__label {\n",
       "  color: var(--sklearn-color-text);\n",
       "  background-color: var(--sklearn-color-unfitted-level-2);\n",
       "}\n",
       "\n",
       "#sk-container-id-2 div.sk-label.fitted input.sk-toggleable__control:checked~label.sk-toggleable__label {\n",
       "  background-color: var(--sklearn-color-fitted-level-2);\n",
       "}\n",
       "\n",
       "/* Estimator-specific style */\n",
       "\n",
       "/* Colorize estimator box */\n",
       "#sk-container-id-2 div.sk-estimator input.sk-toggleable__control:checked~label.sk-toggleable__label {\n",
       "  /* unfitted */\n",
       "  background-color: var(--sklearn-color-unfitted-level-2);\n",
       "}\n",
       "\n",
       "#sk-container-id-2 div.sk-estimator.fitted input.sk-toggleable__control:checked~label.sk-toggleable__label {\n",
       "  /* fitted */\n",
       "  background-color: var(--sklearn-color-fitted-level-2);\n",
       "}\n",
       "\n",
       "#sk-container-id-2 div.sk-label label.sk-toggleable__label,\n",
       "#sk-container-id-2 div.sk-label label {\n",
       "  /* The background is the default theme color */\n",
       "  color: var(--sklearn-color-text-on-default-background);\n",
       "}\n",
       "\n",
       "/* On hover, darken the color of the background */\n",
       "#sk-container-id-2 div.sk-label:hover label.sk-toggleable__label {\n",
       "  color: var(--sklearn-color-text);\n",
       "  background-color: var(--sklearn-color-unfitted-level-2);\n",
       "}\n",
       "\n",
       "/* Label box, darken color on hover, fitted */\n",
       "#sk-container-id-2 div.sk-label.fitted:hover label.sk-toggleable__label.fitted {\n",
       "  color: var(--sklearn-color-text);\n",
       "  background-color: var(--sklearn-color-fitted-level-2);\n",
       "}\n",
       "\n",
       "/* Estimator label */\n",
       "\n",
       "#sk-container-id-2 div.sk-label label {\n",
       "  font-family: monospace;\n",
       "  font-weight: bold;\n",
       "  display: inline-block;\n",
       "  line-height: 1.2em;\n",
       "}\n",
       "\n",
       "#sk-container-id-2 div.sk-label-container {\n",
       "  text-align: center;\n",
       "}\n",
       "\n",
       "/* Estimator-specific */\n",
       "#sk-container-id-2 div.sk-estimator {\n",
       "  font-family: monospace;\n",
       "  border: 1px dotted var(--sklearn-color-border-box);\n",
       "  border-radius: 0.25em;\n",
       "  box-sizing: border-box;\n",
       "  margin-bottom: 0.5em;\n",
       "  /* unfitted */\n",
       "  background-color: var(--sklearn-color-unfitted-level-0);\n",
       "}\n",
       "\n",
       "#sk-container-id-2 div.sk-estimator.fitted {\n",
       "  /* fitted */\n",
       "  background-color: var(--sklearn-color-fitted-level-0);\n",
       "}\n",
       "\n",
       "/* on hover */\n",
       "#sk-container-id-2 div.sk-estimator:hover {\n",
       "  /* unfitted */\n",
       "  background-color: var(--sklearn-color-unfitted-level-2);\n",
       "}\n",
       "\n",
       "#sk-container-id-2 div.sk-estimator.fitted:hover {\n",
       "  /* fitted */\n",
       "  background-color: var(--sklearn-color-fitted-level-2);\n",
       "}\n",
       "\n",
       "/* Specification for estimator info (e.g. \"i\" and \"?\") */\n",
       "\n",
       "/* Common style for \"i\" and \"?\" */\n",
       "\n",
       ".sk-estimator-doc-link,\n",
       "a:link.sk-estimator-doc-link,\n",
       "a:visited.sk-estimator-doc-link {\n",
       "  float: right;\n",
       "  font-size: smaller;\n",
       "  line-height: 1em;\n",
       "  font-family: monospace;\n",
       "  background-color: var(--sklearn-color-background);\n",
       "  border-radius: 1em;\n",
       "  height: 1em;\n",
       "  width: 1em;\n",
       "  text-decoration: none !important;\n",
       "  margin-left: 1ex;\n",
       "  /* unfitted */\n",
       "  border: var(--sklearn-color-unfitted-level-1) 1pt solid;\n",
       "  color: var(--sklearn-color-unfitted-level-1);\n",
       "}\n",
       "\n",
       ".sk-estimator-doc-link.fitted,\n",
       "a:link.sk-estimator-doc-link.fitted,\n",
       "a:visited.sk-estimator-doc-link.fitted {\n",
       "  /* fitted */\n",
       "  border: var(--sklearn-color-fitted-level-1) 1pt solid;\n",
       "  color: var(--sklearn-color-fitted-level-1);\n",
       "}\n",
       "\n",
       "/* On hover */\n",
       "div.sk-estimator:hover .sk-estimator-doc-link:hover,\n",
       ".sk-estimator-doc-link:hover,\n",
       "div.sk-label-container:hover .sk-estimator-doc-link:hover,\n",
       ".sk-estimator-doc-link:hover {\n",
       "  /* unfitted */\n",
       "  background-color: var(--sklearn-color-unfitted-level-3);\n",
       "  color: var(--sklearn-color-background);\n",
       "  text-decoration: none;\n",
       "}\n",
       "\n",
       "div.sk-estimator.fitted:hover .sk-estimator-doc-link.fitted:hover,\n",
       ".sk-estimator-doc-link.fitted:hover,\n",
       "div.sk-label-container:hover .sk-estimator-doc-link.fitted:hover,\n",
       ".sk-estimator-doc-link.fitted:hover {\n",
       "  /* fitted */\n",
       "  background-color: var(--sklearn-color-fitted-level-3);\n",
       "  color: var(--sklearn-color-background);\n",
       "  text-decoration: none;\n",
       "}\n",
       "\n",
       "/* Span, style for the box shown on hovering the info icon */\n",
       ".sk-estimator-doc-link span {\n",
       "  display: none;\n",
       "  z-index: 9999;\n",
       "  position: relative;\n",
       "  font-weight: normal;\n",
       "  right: .2ex;\n",
       "  padding: .5ex;\n",
       "  margin: .5ex;\n",
       "  width: min-content;\n",
       "  min-width: 20ex;\n",
       "  max-width: 50ex;\n",
       "  color: var(--sklearn-color-text);\n",
       "  box-shadow: 2pt 2pt 4pt #999;\n",
       "  /* unfitted */\n",
       "  background: var(--sklearn-color-unfitted-level-0);\n",
       "  border: .5pt solid var(--sklearn-color-unfitted-level-3);\n",
       "}\n",
       "\n",
       ".sk-estimator-doc-link.fitted span {\n",
       "  /* fitted */\n",
       "  background: var(--sklearn-color-fitted-level-0);\n",
       "  border: var(--sklearn-color-fitted-level-3);\n",
       "}\n",
       "\n",
       ".sk-estimator-doc-link:hover span {\n",
       "  display: block;\n",
       "}\n",
       "\n",
       "/* \"?\"-specific style due to the `<a>` HTML tag */\n",
       "\n",
       "#sk-container-id-2 a.estimator_doc_link {\n",
       "  float: right;\n",
       "  font-size: 1rem;\n",
       "  line-height: 1em;\n",
       "  font-family: monospace;\n",
       "  background-color: var(--sklearn-color-background);\n",
       "  border-radius: 1rem;\n",
       "  height: 1rem;\n",
       "  width: 1rem;\n",
       "  text-decoration: none;\n",
       "  /* unfitted */\n",
       "  color: var(--sklearn-color-unfitted-level-1);\n",
       "  border: var(--sklearn-color-unfitted-level-1) 1pt solid;\n",
       "}\n",
       "\n",
       "#sk-container-id-2 a.estimator_doc_link.fitted {\n",
       "  /* fitted */\n",
       "  border: var(--sklearn-color-fitted-level-1) 1pt solid;\n",
       "  color: var(--sklearn-color-fitted-level-1);\n",
       "}\n",
       "\n",
       "/* On hover */\n",
       "#sk-container-id-2 a.estimator_doc_link:hover {\n",
       "  /* unfitted */\n",
       "  background-color: var(--sklearn-color-unfitted-level-3);\n",
       "  color: var(--sklearn-color-background);\n",
       "  text-decoration: none;\n",
       "}\n",
       "\n",
       "#sk-container-id-2 a.estimator_doc_link.fitted:hover {\n",
       "  /* fitted */\n",
       "  background-color: var(--sklearn-color-fitted-level-3);\n",
       "}\n",
       "</style><div id=\"sk-container-id-2\" class=\"sk-top-container\"><div class=\"sk-text-repr-fallback\"><pre>LogisticRegression(max_iter=1000)</pre><b>In a Jupyter environment, please rerun this cell to show the HTML representation or trust the notebook. <br />On GitHub, the HTML representation is unable to render, please try loading this page with nbviewer.org.</b></div><div class=\"sk-container\" hidden><div class=\"sk-item\"><div class=\"sk-estimator fitted sk-toggleable\"><input class=\"sk-toggleable__control sk-hidden--visually\" id=\"sk-estimator-id-2\" type=\"checkbox\" checked><label for=\"sk-estimator-id-2\" class=\"sk-toggleable__label fitted sk-toggleable__label-arrow fitted\">&nbsp;&nbsp;LogisticRegression<a class=\"sk-estimator-doc-link fitted\" rel=\"noreferrer\" target=\"_blank\" href=\"https://scikit-learn.org/1.5/modules/generated/sklearn.linear_model.LogisticRegression.html\">?<span>Documentation for LogisticRegression</span></a><span class=\"sk-estimator-doc-link fitted\">i<span>Fitted</span></span></label><div class=\"sk-toggleable__content fitted\"><pre>LogisticRegression(max_iter=1000)</pre></div> </div></div></div></div>"
      ],
      "text/plain": [
       "LogisticRegression(max_iter=1000)"
      ]
     },
     "execution_count": 116,
     "metadata": {},
     "output_type": "execute_result"
    }
   ],
   "source": [
    "model.fit(X_train, y_train)"
   ]
  },
  {
   "cell_type": "markdown",
   "id": "4da2edc8",
   "metadata": {
    "papermill": {
     "duration": 0.029317,
     "end_time": "2023-08-29T12:23:43.985866",
     "exception": false,
     "start_time": "2023-08-29T12:23:43.956549",
     "status": "completed"
    },
    "tags": []
   },
   "source": [
    "## Predicting values on training data"
   ]
  },
  {
   "cell_type": "code",
   "execution_count": 117,
   "id": "f8f33092",
   "metadata": {
    "execution": {
     "iopub.execute_input": "2023-08-29T12:23:44.042604Z",
     "iopub.status.busy": "2023-08-29T12:23:44.042181Z",
     "iopub.status.idle": "2023-08-29T12:23:44.050541Z",
     "shell.execute_reply": "2023-08-29T12:23:44.049027Z"
    },
    "papermill": {
     "duration": 0.037209,
     "end_time": "2023-08-29T12:23:44.054077",
     "exception": false,
     "start_time": "2023-08-29T12:23:44.016868",
     "status": "completed"
    },
    "tags": []
   },
   "outputs": [],
   "source": [
    "y_train_pred = model.predict(X_train)"
   ]
  },
  {
   "cell_type": "markdown",
   "id": "f9f8a46b",
   "metadata": {
    "papermill": {
     "duration": 0.028895,
     "end_time": "2023-08-29T12:23:44.112186",
     "exception": false,
     "start_time": "2023-08-29T12:23:44.083291",
     "status": "completed"
    },
    "tags": []
   },
   "source": [
    "## Calculate accuracy on the training data"
   ]
  },
  {
   "cell_type": "code",
   "execution_count": 118,
   "id": "0790c066",
   "metadata": {
    "execution": {
     "iopub.execute_input": "2023-08-29T12:23:44.172000Z",
     "iopub.status.busy": "2023-08-29T12:23:44.171553Z",
     "iopub.status.idle": "2023-08-29T12:23:44.178640Z",
     "shell.execute_reply": "2023-08-29T12:23:44.177834Z"
    },
    "papermill": {
     "duration": 0.039347,
     "end_time": "2023-08-29T12:23:44.180700",
     "exception": false,
     "start_time": "2023-08-29T12:23:44.141353",
     "status": "completed"
    },
    "tags": []
   },
   "outputs": [
    {
     "name": "stdout",
     "output_type": "stream",
     "text": [
      "Accuracy: 0.8114478114478114\n"
     ]
    }
   ],
   "source": [
    "train_accuracy = accuracy_score(y_train, y_train_pred)\n",
    "print(\"Accuracy:\", train_accuracy)"
   ]
  },
  {
   "cell_type": "markdown",
   "id": "85005bf7",
   "metadata": {
    "papermill": {
     "duration": 0.016581,
     "end_time": "2023-08-29T12:23:44.214533",
     "exception": false,
     "start_time": "2023-08-29T12:23:44.197952",
     "status": "completed"
    },
    "tags": []
   },
   "source": [
    "## Predicting values on test data"
   ]
  },
  {
   "cell_type": "code",
   "execution_count": 119,
   "id": "c2c2d6c2",
   "metadata": {},
   "outputs": [
    {
     "data": {
      "text/html": [
       "<div>\n",
       "<style scoped>\n",
       "    .dataframe tbody tr th:only-of-type {\n",
       "        vertical-align: middle;\n",
       "    }\n",
       "\n",
       "    .dataframe tbody tr th {\n",
       "        vertical-align: top;\n",
       "    }\n",
       "\n",
       "    .dataframe thead th {\n",
       "        text-align: right;\n",
       "    }\n",
       "</style>\n",
       "<table border=\"1\" class=\"dataframe\">\n",
       "  <thead>\n",
       "    <tr style=\"text-align: right;\">\n",
       "      <th></th>\n",
       "      <th>Pclass</th>\n",
       "      <th>Sex</th>\n",
       "      <th>Age</th>\n",
       "      <th>SibSp</th>\n",
       "      <th>Parch</th>\n",
       "      <th>Fare</th>\n",
       "      <th>Cabin_A</th>\n",
       "      <th>Cabin_B</th>\n",
       "      <th>Cabin_C</th>\n",
       "      <th>Cabin_D</th>\n",
       "      <th>Cabin_E</th>\n",
       "      <th>Cabin_F</th>\n",
       "      <th>Cabin_G</th>\n",
       "      <th>Cabin_T</th>\n",
       "      <th>Survived</th>\n",
       "    </tr>\n",
       "  </thead>\n",
       "  <tbody>\n",
       "    <tr>\n",
       "      <th>0</th>\n",
       "      <td>3</td>\n",
       "      <td>1</td>\n",
       "      <td>0.364165</td>\n",
       "      <td>0</td>\n",
       "      <td>0</td>\n",
       "      <td>-0.490783</td>\n",
       "      <td>False</td>\n",
       "      <td>False</td>\n",
       "      <td>False</td>\n",
       "      <td>False</td>\n",
       "      <td>False</td>\n",
       "      <td>False</td>\n",
       "      <td>False</td>\n",
       "      <td>0</td>\n",
       "      <td>0</td>\n",
       "    </tr>\n",
       "    <tr>\n",
       "      <th>1</th>\n",
       "      <td>3</td>\n",
       "      <td>0</td>\n",
       "      <td>1.300473</td>\n",
       "      <td>1</td>\n",
       "      <td>0</td>\n",
       "      <td>-0.507479</td>\n",
       "      <td>False</td>\n",
       "      <td>False</td>\n",
       "      <td>False</td>\n",
       "      <td>False</td>\n",
       "      <td>False</td>\n",
       "      <td>False</td>\n",
       "      <td>False</td>\n",
       "      <td>0</td>\n",
       "      <td>0</td>\n",
       "    </tr>\n",
       "    <tr>\n",
       "      <th>2</th>\n",
       "      <td>2</td>\n",
       "      <td>1</td>\n",
       "      <td>2.424042</td>\n",
       "      <td>0</td>\n",
       "      <td>0</td>\n",
       "      <td>-0.453367</td>\n",
       "      <td>False</td>\n",
       "      <td>False</td>\n",
       "      <td>False</td>\n",
       "      <td>False</td>\n",
       "      <td>False</td>\n",
       "      <td>False</td>\n",
       "      <td>False</td>\n",
       "      <td>0</td>\n",
       "      <td>0</td>\n",
       "    </tr>\n",
       "    <tr>\n",
       "      <th>3</th>\n",
       "      <td>3</td>\n",
       "      <td>1</td>\n",
       "      <td>-0.197619</td>\n",
       "      <td>0</td>\n",
       "      <td>0</td>\n",
       "      <td>-0.474005</td>\n",
       "      <td>False</td>\n",
       "      <td>False</td>\n",
       "      <td>False</td>\n",
       "      <td>False</td>\n",
       "      <td>False</td>\n",
       "      <td>False</td>\n",
       "      <td>False</td>\n",
       "      <td>0</td>\n",
       "      <td>0</td>\n",
       "    </tr>\n",
       "    <tr>\n",
       "      <th>4</th>\n",
       "      <td>3</td>\n",
       "      <td>0</td>\n",
       "      <td>-0.572142</td>\n",
       "      <td>1</td>\n",
       "      <td>1</td>\n",
       "      <td>-0.401017</td>\n",
       "      <td>False</td>\n",
       "      <td>False</td>\n",
       "      <td>False</td>\n",
       "      <td>False</td>\n",
       "      <td>False</td>\n",
       "      <td>False</td>\n",
       "      <td>False</td>\n",
       "      <td>0</td>\n",
       "      <td>0</td>\n",
       "    </tr>\n",
       "    <tr>\n",
       "      <th>...</th>\n",
       "      <td>...</td>\n",
       "      <td>...</td>\n",
       "      <td>...</td>\n",
       "      <td>...</td>\n",
       "      <td>...</td>\n",
       "      <td>...</td>\n",
       "      <td>...</td>\n",
       "      <td>...</td>\n",
       "      <td>...</td>\n",
       "      <td>...</td>\n",
       "      <td>...</td>\n",
       "      <td>...</td>\n",
       "      <td>...</td>\n",
       "      <td>...</td>\n",
       "      <td>...</td>\n",
       "    </tr>\n",
       "    <tr>\n",
       "      <th>413</th>\n",
       "      <td>3</td>\n",
       "      <td>1</td>\n",
       "      <td>-0.317467</td>\n",
       "      <td>0</td>\n",
       "      <td>0</td>\n",
       "      <td>-0.486337</td>\n",
       "      <td>False</td>\n",
       "      <td>False</td>\n",
       "      <td>False</td>\n",
       "      <td>False</td>\n",
       "      <td>False</td>\n",
       "      <td>False</td>\n",
       "      <td>False</td>\n",
       "      <td>0</td>\n",
       "      <td>0</td>\n",
       "    </tr>\n",
       "    <tr>\n",
       "      <th>414</th>\n",
       "      <td>1</td>\n",
       "      <td>0</td>\n",
       "      <td>0.701236</td>\n",
       "      <td>0</td>\n",
       "      <td>0</td>\n",
       "      <td>1.544246</td>\n",
       "      <td>False</td>\n",
       "      <td>False</td>\n",
       "      <td>True</td>\n",
       "      <td>False</td>\n",
       "      <td>False</td>\n",
       "      <td>False</td>\n",
       "      <td>False</td>\n",
       "      <td>0</td>\n",
       "      <td>0</td>\n",
       "    </tr>\n",
       "    <tr>\n",
       "      <th>415</th>\n",
       "      <td>3</td>\n",
       "      <td>1</td>\n",
       "      <td>0.663784</td>\n",
       "      <td>0</td>\n",
       "      <td>0</td>\n",
       "      <td>-0.502445</td>\n",
       "      <td>False</td>\n",
       "      <td>False</td>\n",
       "      <td>False</td>\n",
       "      <td>False</td>\n",
       "      <td>False</td>\n",
       "      <td>False</td>\n",
       "      <td>False</td>\n",
       "      <td>0</td>\n",
       "      <td>0</td>\n",
       "    </tr>\n",
       "    <tr>\n",
       "      <th>416</th>\n",
       "      <td>3</td>\n",
       "      <td>1</td>\n",
       "      <td>-0.317467</td>\n",
       "      <td>0</td>\n",
       "      <td>0</td>\n",
       "      <td>-0.486337</td>\n",
       "      <td>False</td>\n",
       "      <td>False</td>\n",
       "      <td>False</td>\n",
       "      <td>False</td>\n",
       "      <td>False</td>\n",
       "      <td>False</td>\n",
       "      <td>False</td>\n",
       "      <td>0</td>\n",
       "      <td>0</td>\n",
       "    </tr>\n",
       "    <tr>\n",
       "      <th>417</th>\n",
       "      <td>3</td>\n",
       "      <td>1</td>\n",
       "      <td>-0.197619</td>\n",
       "      <td>1</td>\n",
       "      <td>1</td>\n",
       "      <td>-0.198244</td>\n",
       "      <td>False</td>\n",
       "      <td>False</td>\n",
       "      <td>False</td>\n",
       "      <td>False</td>\n",
       "      <td>False</td>\n",
       "      <td>False</td>\n",
       "      <td>False</td>\n",
       "      <td>0</td>\n",
       "      <td>0</td>\n",
       "    </tr>\n",
       "  </tbody>\n",
       "</table>\n",
       "<p>418 rows × 15 columns</p>\n",
       "</div>"
      ],
      "text/plain": [
       "     Pclass  Sex       Age  SibSp  Parch      Fare  Cabin_A  Cabin_B  Cabin_C  \\\n",
       "0         3    1  0.364165      0      0 -0.490783    False    False    False   \n",
       "1         3    0  1.300473      1      0 -0.507479    False    False    False   \n",
       "2         2    1  2.424042      0      0 -0.453367    False    False    False   \n",
       "3         3    1 -0.197619      0      0 -0.474005    False    False    False   \n",
       "4         3    0 -0.572142      1      1 -0.401017    False    False    False   \n",
       "..      ...  ...       ...    ...    ...       ...      ...      ...      ...   \n",
       "413       3    1 -0.317467      0      0 -0.486337    False    False    False   \n",
       "414       1    0  0.701236      0      0  1.544246    False    False     True   \n",
       "415       3    1  0.663784      0      0 -0.502445    False    False    False   \n",
       "416       3    1 -0.317467      0      0 -0.486337    False    False    False   \n",
       "417       3    1 -0.197619      1      1 -0.198244    False    False    False   \n",
       "\n",
       "     Cabin_D  Cabin_E  Cabin_F  Cabin_G  Cabin_T  Survived  \n",
       "0      False    False    False    False        0         0  \n",
       "1      False    False    False    False        0         0  \n",
       "2      False    False    False    False        0         0  \n",
       "3      False    False    False    False        0         0  \n",
       "4      False    False    False    False        0         0  \n",
       "..       ...      ...      ...      ...      ...       ...  \n",
       "413    False    False    False    False        0         0  \n",
       "414    False    False    False    False        0         0  \n",
       "415    False    False    False    False        0         0  \n",
       "416    False    False    False    False        0         0  \n",
       "417    False    False    False    False        0         0  \n",
       "\n",
       "[418 rows x 15 columns]"
      ]
     },
     "execution_count": 119,
     "metadata": {},
     "output_type": "execute_result"
    }
   ],
   "source": [
    "test_data"
   ]
  },
  {
   "cell_type": "code",
   "execution_count": 73,
   "id": "3aaa4844",
   "metadata": {
    "execution": {
     "iopub.execute_input": "2023-08-29T12:23:44.250343Z",
     "iopub.status.busy": "2023-08-29T12:23:44.249325Z",
     "iopub.status.idle": "2023-08-29T12:23:44.255009Z",
     "shell.execute_reply": "2023-08-29T12:23:44.254076Z"
    },
    "papermill": {
     "duration": 0.02585,
     "end_time": "2023-08-29T12:23:44.257272",
     "exception": false,
     "start_time": "2023-08-29T12:23:44.231422",
     "status": "completed"
    },
    "tags": []
   },
   "outputs": [],
   "source": [
    "test_data.drop('Survived', axis=1, inplace=True)"
   ]
  },
  {
   "cell_type": "code",
   "execution_count": 74,
   "id": "93ea4b4c",
   "metadata": {
    "execution": {
     "iopub.execute_input": "2023-08-29T12:23:44.293120Z",
     "iopub.status.busy": "2023-08-29T12:23:44.292713Z",
     "iopub.status.idle": "2023-08-29T12:23:44.301438Z",
     "shell.execute_reply": "2023-08-29T12:23:44.300103Z"
    },
    "papermill": {
     "duration": 0.029345,
     "end_time": "2023-08-29T12:23:44.303920",
     "exception": false,
     "start_time": "2023-08-29T12:23:44.274575",
     "status": "completed"
    },
    "tags": []
   },
   "outputs": [],
   "source": [
    "predictions = model.predict(test_data)"
   ]
  },
  {
   "cell_type": "code",
   "execution_count": 79,
   "id": "0038b524",
   "metadata": {},
   "outputs": [
    {
     "data": {
      "text/html": [
       "<div>\n",
       "<style scoped>\n",
       "    .dataframe tbody tr th:only-of-type {\n",
       "        vertical-align: middle;\n",
       "    }\n",
       "\n",
       "    .dataframe tbody tr th {\n",
       "        vertical-align: top;\n",
       "    }\n",
       "\n",
       "    .dataframe thead th {\n",
       "        text-align: right;\n",
       "    }\n",
       "</style>\n",
       "<table border=\"1\" class=\"dataframe\">\n",
       "  <thead>\n",
       "    <tr style=\"text-align: right;\">\n",
       "      <th></th>\n",
       "      <th>Pclass</th>\n",
       "      <th>Sex</th>\n",
       "      <th>Age</th>\n",
       "      <th>SibSp</th>\n",
       "      <th>Parch</th>\n",
       "      <th>Fare</th>\n",
       "      <th>Cabin_A</th>\n",
       "      <th>Cabin_B</th>\n",
       "      <th>Cabin_C</th>\n",
       "      <th>Cabin_D</th>\n",
       "      <th>Cabin_E</th>\n",
       "      <th>Cabin_F</th>\n",
       "      <th>Cabin_G</th>\n",
       "      <th>Cabin_T</th>\n",
       "    </tr>\n",
       "  </thead>\n",
       "  <tbody>\n",
       "    <tr>\n",
       "      <th>0</th>\n",
       "      <td>3</td>\n",
       "      <td>1</td>\n",
       "      <td>0.364165</td>\n",
       "      <td>0</td>\n",
       "      <td>0</td>\n",
       "      <td>-0.490783</td>\n",
       "      <td>False</td>\n",
       "      <td>False</td>\n",
       "      <td>False</td>\n",
       "      <td>False</td>\n",
       "      <td>False</td>\n",
       "      <td>False</td>\n",
       "      <td>False</td>\n",
       "      <td>0</td>\n",
       "    </tr>\n",
       "    <tr>\n",
       "      <th>1</th>\n",
       "      <td>3</td>\n",
       "      <td>0</td>\n",
       "      <td>1.300473</td>\n",
       "      <td>1</td>\n",
       "      <td>0</td>\n",
       "      <td>-0.507479</td>\n",
       "      <td>False</td>\n",
       "      <td>False</td>\n",
       "      <td>False</td>\n",
       "      <td>False</td>\n",
       "      <td>False</td>\n",
       "      <td>False</td>\n",
       "      <td>False</td>\n",
       "      <td>0</td>\n",
       "    </tr>\n",
       "    <tr>\n",
       "      <th>2</th>\n",
       "      <td>2</td>\n",
       "      <td>1</td>\n",
       "      <td>2.424042</td>\n",
       "      <td>0</td>\n",
       "      <td>0</td>\n",
       "      <td>-0.453367</td>\n",
       "      <td>False</td>\n",
       "      <td>False</td>\n",
       "      <td>False</td>\n",
       "      <td>False</td>\n",
       "      <td>False</td>\n",
       "      <td>False</td>\n",
       "      <td>False</td>\n",
       "      <td>0</td>\n",
       "    </tr>\n",
       "    <tr>\n",
       "      <th>3</th>\n",
       "      <td>3</td>\n",
       "      <td>1</td>\n",
       "      <td>-0.197619</td>\n",
       "      <td>0</td>\n",
       "      <td>0</td>\n",
       "      <td>-0.474005</td>\n",
       "      <td>False</td>\n",
       "      <td>False</td>\n",
       "      <td>False</td>\n",
       "      <td>False</td>\n",
       "      <td>False</td>\n",
       "      <td>False</td>\n",
       "      <td>False</td>\n",
       "      <td>0</td>\n",
       "    </tr>\n",
       "    <tr>\n",
       "      <th>4</th>\n",
       "      <td>3</td>\n",
       "      <td>0</td>\n",
       "      <td>-0.572142</td>\n",
       "      <td>1</td>\n",
       "      <td>1</td>\n",
       "      <td>-0.401017</td>\n",
       "      <td>False</td>\n",
       "      <td>False</td>\n",
       "      <td>False</td>\n",
       "      <td>False</td>\n",
       "      <td>False</td>\n",
       "      <td>False</td>\n",
       "      <td>False</td>\n",
       "      <td>0</td>\n",
       "    </tr>\n",
       "    <tr>\n",
       "      <th>...</th>\n",
       "      <td>...</td>\n",
       "      <td>...</td>\n",
       "      <td>...</td>\n",
       "      <td>...</td>\n",
       "      <td>...</td>\n",
       "      <td>...</td>\n",
       "      <td>...</td>\n",
       "      <td>...</td>\n",
       "      <td>...</td>\n",
       "      <td>...</td>\n",
       "      <td>...</td>\n",
       "      <td>...</td>\n",
       "      <td>...</td>\n",
       "      <td>...</td>\n",
       "    </tr>\n",
       "    <tr>\n",
       "      <th>413</th>\n",
       "      <td>3</td>\n",
       "      <td>1</td>\n",
       "      <td>-0.317467</td>\n",
       "      <td>0</td>\n",
       "      <td>0</td>\n",
       "      <td>-0.486337</td>\n",
       "      <td>False</td>\n",
       "      <td>False</td>\n",
       "      <td>False</td>\n",
       "      <td>False</td>\n",
       "      <td>False</td>\n",
       "      <td>False</td>\n",
       "      <td>False</td>\n",
       "      <td>0</td>\n",
       "    </tr>\n",
       "    <tr>\n",
       "      <th>414</th>\n",
       "      <td>1</td>\n",
       "      <td>0</td>\n",
       "      <td>0.701236</td>\n",
       "      <td>0</td>\n",
       "      <td>0</td>\n",
       "      <td>1.544246</td>\n",
       "      <td>False</td>\n",
       "      <td>False</td>\n",
       "      <td>True</td>\n",
       "      <td>False</td>\n",
       "      <td>False</td>\n",
       "      <td>False</td>\n",
       "      <td>False</td>\n",
       "      <td>0</td>\n",
       "    </tr>\n",
       "    <tr>\n",
       "      <th>415</th>\n",
       "      <td>3</td>\n",
       "      <td>1</td>\n",
       "      <td>0.663784</td>\n",
       "      <td>0</td>\n",
       "      <td>0</td>\n",
       "      <td>-0.502445</td>\n",
       "      <td>False</td>\n",
       "      <td>False</td>\n",
       "      <td>False</td>\n",
       "      <td>False</td>\n",
       "      <td>False</td>\n",
       "      <td>False</td>\n",
       "      <td>False</td>\n",
       "      <td>0</td>\n",
       "    </tr>\n",
       "    <tr>\n",
       "      <th>416</th>\n",
       "      <td>3</td>\n",
       "      <td>1</td>\n",
       "      <td>-0.317467</td>\n",
       "      <td>0</td>\n",
       "      <td>0</td>\n",
       "      <td>-0.486337</td>\n",
       "      <td>False</td>\n",
       "      <td>False</td>\n",
       "      <td>False</td>\n",
       "      <td>False</td>\n",
       "      <td>False</td>\n",
       "      <td>False</td>\n",
       "      <td>False</td>\n",
       "      <td>0</td>\n",
       "    </tr>\n",
       "    <tr>\n",
       "      <th>417</th>\n",
       "      <td>3</td>\n",
       "      <td>1</td>\n",
       "      <td>-0.197619</td>\n",
       "      <td>1</td>\n",
       "      <td>1</td>\n",
       "      <td>-0.198244</td>\n",
       "      <td>False</td>\n",
       "      <td>False</td>\n",
       "      <td>False</td>\n",
       "      <td>False</td>\n",
       "      <td>False</td>\n",
       "      <td>False</td>\n",
       "      <td>False</td>\n",
       "      <td>0</td>\n",
       "    </tr>\n",
       "  </tbody>\n",
       "</table>\n",
       "<p>418 rows × 14 columns</p>\n",
       "</div>"
      ],
      "text/plain": [
       "     Pclass  Sex       Age  SibSp  Parch      Fare  Cabin_A  Cabin_B  Cabin_C  \\\n",
       "0         3    1  0.364165      0      0 -0.490783    False    False    False   \n",
       "1         3    0  1.300473      1      0 -0.507479    False    False    False   \n",
       "2         2    1  2.424042      0      0 -0.453367    False    False    False   \n",
       "3         3    1 -0.197619      0      0 -0.474005    False    False    False   \n",
       "4         3    0 -0.572142      1      1 -0.401017    False    False    False   \n",
       "..      ...  ...       ...    ...    ...       ...      ...      ...      ...   \n",
       "413       3    1 -0.317467      0      0 -0.486337    False    False    False   \n",
       "414       1    0  0.701236      0      0  1.544246    False    False     True   \n",
       "415       3    1  0.663784      0      0 -0.502445    False    False    False   \n",
       "416       3    1 -0.317467      0      0 -0.486337    False    False    False   \n",
       "417       3    1 -0.197619      1      1 -0.198244    False    False    False   \n",
       "\n",
       "     Cabin_D  Cabin_E  Cabin_F  Cabin_G  Cabin_T  \n",
       "0      False    False    False    False        0  \n",
       "1      False    False    False    False        0  \n",
       "2      False    False    False    False        0  \n",
       "3      False    False    False    False        0  \n",
       "4      False    False    False    False        0  \n",
       "..       ...      ...      ...      ...      ...  \n",
       "413    False    False    False    False        0  \n",
       "414    False    False    False    False        0  \n",
       "415    False    False    False    False        0  \n",
       "416    False    False    False    False        0  \n",
       "417    False    False    False    False        0  \n",
       "\n",
       "[418 rows x 14 columns]"
      ]
     },
     "execution_count": 79,
     "metadata": {},
     "output_type": "execute_result"
    }
   ],
   "source": [
    "test_data"
   ]
  },
  {
   "cell_type": "code",
   "execution_count": 123,
   "id": "3a14278b",
   "metadata": {
    "execution": {
     "iopub.execute_input": "2023-08-29T12:23:44.342261Z",
     "iopub.status.busy": "2023-08-29T12:23:44.341614Z",
     "iopub.status.idle": "2023-08-29T12:23:44.352226Z",
     "shell.execute_reply": "2023-08-29T12:23:44.351147Z"
    },
    "papermill": {
     "duration": 0.03318,
     "end_time": "2023-08-29T12:23:44.354790",
     "exception": false,
     "start_time": "2023-08-29T12:23:44.321610",
     "status": "completed"
    },
    "tags": []
   },
   "outputs": [],
   "source": [
    "passenger_ids = pd.read_csv('test.csv')['PassengerId']\n",
    "output = pd.DataFrame({'PassengerId': passenger_ids, 'Survived Pred': predictions})"
   ]
  },
  {
   "cell_type": "code",
   "execution_count": 124,
   "id": "0d4a523f",
   "metadata": {
    "execution": {
     "iopub.execute_input": "2023-08-29T12:23:44.392602Z",
     "iopub.status.busy": "2023-08-29T12:23:44.391591Z",
     "iopub.status.idle": "2023-08-29T12:23:44.400425Z",
     "shell.execute_reply": "2023-08-29T12:23:44.399229Z"
    },
    "papermill": {
     "duration": 0.029902,
     "end_time": "2023-08-29T12:23:44.402910",
     "exception": false,
     "start_time": "2023-08-29T12:23:44.373008",
     "status": "completed"
    },
    "tags": []
   },
   "outputs": [
    {
     "name": "stdout",
     "output_type": "stream",
     "text": [
      "     PassengerId  Survived Pred\n",
      "0            892              0\n",
      "1            893              1\n",
      "2            894              0\n",
      "3            895              0\n",
      "4            896              1\n",
      "..           ...            ...\n",
      "413         1305              0\n",
      "414         1306              1\n",
      "415         1307              0\n",
      "416         1308              0\n",
      "417         1309              0\n",
      "\n",
      "[418 rows x 2 columns]\n"
     ]
    }
   ],
   "source": [
    "print(output)"
   ]
  }
 ],
 "metadata": {
  "kernelspec": {
   "display_name": "Python 3 (ipykernel)",
   "language": "python",
   "name": "python3"
  },
  "language_info": {
   "codemirror_mode": {
    "name": "ipython",
    "version": 3
   },
   "file_extension": ".py",
   "mimetype": "text/x-python",
   "name": "python",
   "nbconvert_exporter": "python",
   "pygments_lexer": "ipython3",
   "version": "3.9.13"
  },
  "papermill": {
   "default_parameters": {},
   "duration": 19.572203,
   "end_time": "2023-08-29T12:23:46.694823",
   "environment_variables": {},
   "exception": null,
   "input_path": "__notebook__.ipynb",
   "output_path": "__notebook__.ipynb",
   "parameters": {},
   "start_time": "2023-08-29T12:23:27.122620",
   "version": "2.4.0"
  }
 },
 "nbformat": 4,
 "nbformat_minor": 5
}
