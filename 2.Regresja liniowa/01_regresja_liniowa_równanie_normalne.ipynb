{
 "cells": [
  {
   "cell_type": "markdown",
   "metadata": {},
   "source": [
    "## Równanie normalne\n",
    "\n",
    "Równanie normalne to technika, która pozwala na bezpośrednie obliczenie współczynników regresji w modelu liniowym. W przypadku regresji prostej, równanie normalne można zapisać jako:\n",
    "\n",
    "$$\n",
    "\\hat{\\beta} = (X'X)^{-1}X'y\n",
    "$$\n",
    "\n",
    "gdzie:\n",
    "\n",
    "- $ \\hat{\\beta} $ to wektor estymowanych współczynników regresji,\n",
    "- $ X $ to macierz zmiennych niezależnych (z dodaną kolumną jedynek dla wyrazu wolnego),\n",
    "- $ y $ to wektor zmiennej zależnej.\n",
    "\n",
    "Metoda ta jest szczególnie efektywna, gdy liczba obserwacji jest niewielka, ponieważ wymaga obliczenia macierzy odwrotnej, co może być kosztowne obliczeniowo dla dużych zbiorów danych. Równanie normalne zapewnia, że wartości współczynników są takie, które minimalizują sumę kwadratów reszt (różnic między wartościami obserwowanymi a przewidywanymi) [2][3]."
   ]
  },
  {
   "cell_type": "code",
   "execution_count": null,
   "metadata": {},
   "outputs": [],
   "source": []
  },
  {
   "cell_type": "markdown",
   "metadata": {},
   "source": [
    "## Przykład w kodzie:"
   ]
  }
 ],
 "metadata": {
  "colab": {
   "include_colab_link": true,
   "name": "01_linear_regression_normal_equation.ipynb",
   "provenance": []
  },
  "kernelspec": {
   "display_name": "Python 3 (ipykernel)",
   "language": "python",
   "name": "python3"
  },
  "language_info": {
   "codemirror_mode": {
    "name": "ipython",
    "version": 3
   },
   "file_extension": ".py",
   "mimetype": "text/x-python",
   "name": "python",
   "nbconvert_exporter": "python",
   "pygments_lexer": "ipython3",
   "version": "3.9.13"
  }
 },
 "nbformat": 4,
 "nbformat_minor": 1
}
