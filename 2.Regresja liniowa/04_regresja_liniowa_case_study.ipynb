{
 "cells": [
  {
   "cell_type": "markdown",
   "metadata": {},
   "source": [
    "## Od jednej zmiennej do wielu - regresja wieloraka"
   ]
  },
  {
   "cell_type": "markdown",
   "metadata": {},
   "source": [
    "Regresja liniowa z jedną zmienną zależną (regresja prosta) różni się od regresji liniowej z wieloma zmiennymi zależnymi (regresja wieloraka) w kilku kluczowych aspektach:\n",
    "\n",
    "### Liczba zmiennych\n",
    "\n",
    "- **Regresja prosta**: W tym przypadku modeluje się zależność między jedną zmienną zależną (y) a jedną zmienną niezależną (x). Model ma postać:\n",
    "  \n",
    "  $$ y = \\beta_0 + \\beta_1 x + \\epsilon $$\n",
    "\n",
    "  gdzie:\n",
    "  - $ \\beta_0 $ to wyraz wolny,\n",
    "  - $ \\beta_1 $ to współczynnik regresji,\n",
    "  - $ \\epsilon $ to błąd losowy.\n",
    "\n",
    "- **Regresja wieloraka**: Modeluje się zależność między jedną zmienną zależną a wieloma zmiennymi niezależnymi. Model ma postać:\n",
    "\n",
    "  $$ y = \\beta_0 + \\beta_1 x_1 + \\beta_2 x_2 + \\ldots + \\beta_p x_p + \\epsilon $$\n",
    "\n",
    "  gdzie $ x_1, x_2, \\ldots, x_p $ to zmienne niezależne.\n",
    "\n",
    "### Złożoność modelu\n",
    "\n",
    "- **Regresja prosta**: Jest prostsza i łatwiejsza do interpretacji, ponieważ skupia się na jednej zmiennej niezależnej. Wizualizacja jest również prostsza, ponieważ można ją przedstawić na wykresie 2D jako prostą linię.\n",
    "\n",
    "- **Regresja wieloraka**: Jest bardziej złożona, ponieważ uwzględnia wiele zmiennych niezależnych. Wizualizacja takiego modelu jest trudniejsza, ponieważ wymaga przestrzeni wielowymiarowej.\n",
    "\n",
    "### Wpływ zmiennych\n",
    "\n",
    "- **Regresja prosta**: Wpływ zmiennej niezależnej na zmienną zależną jest bezpośredni i łatwy do zrozumienia. Współczynnik regresji $ \\beta_1 $ wskazuje, o ile zmienia się $ y $ przy jednostkowej zmianie $ x $.\n",
    "\n",
    "- **Regresja wieloraka**: Wpływ każdej zmiennej niezależnej na zmienną zależną jest bardziej złożony, ponieważ zmienne mogą wpływać na siebie nawzajem."
   ]
  },
  {
   "cell_type": "markdown",
   "metadata": {},
   "source": [
    "## Case study"
   ]
  },
  {
   "cell_type": "code",
   "execution_count": null,
   "metadata": {},
   "outputs": [],
   "source": [
    "import numpy as np\n",
    "import pandas as pd\n",
    "import matplotlib.pyplot as plt\n",
    "import seaborn as sns\n",
    "import sklearn\n",
    "\n",
    "sns.set()\n",
    "np.random.seed(42)\n",
    "np.set_printoptions(precision=4, suppress=True)"
   ]
  },
  {
   "cell_type": "code",
   "execution_count": null,
   "metadata": {},
   "outputs": [],
   "source": []
  }
 ],
 "metadata": {
  "colab": {
   "include_colab_link": true,
   "name": "04_backward_elimination.ipynb",
   "provenance": []
  },
  "kernelspec": {
   "display_name": "Python 3 (ipykernel)",
   "language": "python",
   "name": "python3"
  },
  "language_info": {
   "codemirror_mode": {
    "name": "ipython",
    "version": 3
   },
   "file_extension": ".py",
   "mimetype": "text/x-python",
   "name": "python",
   "nbconvert_exporter": "python",
   "pygments_lexer": "ipython3",
   "version": "3.9.13"
  }
 },
 "nbformat": 4,
 "nbformat_minor": 1
}
